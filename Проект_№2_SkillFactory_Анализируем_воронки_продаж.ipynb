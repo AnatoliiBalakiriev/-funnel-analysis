{
 "cells": [
  {
   "cell_type": "markdown",
   "metadata": {},
   "source": [
    "---\n",
    "\n",
    "<div class=\"alert alert-block alert-warning\">\n",
    "    \n",
    "\n",
    "### Комментарий\n",
    "Привет! Спасибо за уделенные проекту силы и время! Мои комментарии дальше будут выглядеть вот так.\n",
    "\n",
    "</div>\n",
    "\n",
    "---"
   ]
  },
  {
   "cell_type": "markdown",
   "metadata": {},
   "source": [
    "_Наша задача - проанализировать пользователей, которые зарегистрировались в 2018 году, то есть_ __в промежутке между 1 января и 31 декабря 2018 года включительно.__"
   ]
  },
  {
   "cell_type": "markdown",
   "metadata": {},
   "source": [
    "---\n",
    "\n",
    "<div class=\"alert alert-block alert-warning\">\n",
    "    \n",
    "\n",
    "### Комментарий\n",
    "Отличная практика - в начале исследования указывать гипотезы, которые проверяем, а также описывать события, которые рассматриваем. Замечательно, что предобработка данных выделена в отдельный блок!\n",
    "\n",
    "</div>\n",
    "\n",
    "---"
   ]
  },
  {
   "cell_type": "markdown",
   "metadata": {},
   "source": [
    "Перед нами стоит __3__ гипотезы, которые нам нужно проверить:\n",
    "> #### <span style=\"color:red\">__1.__</span> Отличается ли время прохождения различных этапов для пользователей, которые прошли обучение, от пользователей, не начинавших обучение? Насколько обучение сокращает время прохождения этапов? [Перейти к расчетам](#1)\n",
    "\n",
    "> #### <span style=\"color:red\">__2.__</span> Существует ли зависимость между вероятностью оплаты тренировки и количеством обучений, которые начинал или завершал пользователь. Нужно доказать, что успешное обучение влияет на оплату само по себе, без разницы, какое оно было по порядку. [Перейти к расчетам](#2)\n",
    "\n",
    "> #### <span style=\"color:red\">__3.__</span>Как часто пользователи начинают обучение после того, как они выбрали уровень сложности тренировок? Это позволит нам понять, насколько процесс работы с приложением понятен для пользователей: если пользователи после выбора уровня сложности обращаются к обучению, значит, работа с приложением непонятна. [Перейти к расчетам](#3)"
   ]
  },
  {
   "cell_type": "markdown",
   "metadata": {},
   "source": [
    "Сначала импортируем нужные библиотеки:\n",
    " - __pandas__ предоставляет удобные инструменты для хранения данных и работе с ними\n",
    " - __psycopg2__ позволяет делать запросы к БД PostgreSQL из Python\n",
    " - __numpy__ добавляет поддержку многомерных масивов и математических функций для операций с ними\n",
    " - __matplotlib__ графическая библиотека, которая поможет нам в построении графиков по результатам анализа\n"
   ]
  },
  {
   "cell_type": "code",
   "execution_count": 1,
   "metadata": {},
   "outputs": [],
   "source": [
    "import pandas as pd\n",
    "import psycopg2\n",
    "import psycopg2.extras \n",
    "import numpy as np\n",
    "import matplotlib\n",
    "import matplotlib.pyplot as plt\n",
    "%matplotlib inline\n",
    "matplotlib.style.use('ggplot')\n",
    "# pd.set_option('display.max_rows', None) --optional (just help to see all rows, when it's necessary)"
   ]
  },
  {
   "cell_type": "markdown",
   "metadata": {},
   "source": [
    "Функция __getEventsData()__ получает данные по событиям пользователей, которые зарегистрировались в __2018__ году."
   ]
  },
  {
   "cell_type": "code",
   "execution_count": 2,
   "metadata": {},
   "outputs": [],
   "source": [
    "def getEventsData():\n",
    "    query = '''SELECT e.* FROM case8.events e\n",
    "    WHERE e.user_id in\n",
    "    (SELECT DISTINCT(user_id) \n",
    "    FROM case8.events \n",
    "    WHERE event_type = 'registration' \n",
    "    AND start_time >= '2018-01-01'\n",
    "    AND start_time < '2019-01-01')\n",
    "    '''.format()\n",
    "    conn = psycopg2.connect(\"dbname='skillfactory' user='skillfactory' host='84.201.134.129' password='cCkxxLVrDE8EbvjueeMedPKt' port=5432\")\n",
    "    dict_cur = conn.cursor(cursor_factory=psycopg2.extras.DictCursor)\n",
    "    dict_cur.execute(query)\n",
    "    rows = dict_cur.fetchall()\n",
    "    data = []\n",
    "    for row in rows:\n",
    "        data.append(dict(row))\n",
    "    return data"
   ]
  },
  {
   "cell_type": "markdown",
   "metadata": {},
   "source": [
    "Функция __getPurchaseData()__ получает данные по оплатам пользователей, которые зарегистрировались в __2018__ году."
   ]
  },
  {
   "cell_type": "code",
   "execution_count": 3,
   "metadata": {},
   "outputs": [],
   "source": [
    "def getPurchaseData():\n",
    "    query = '''SELECT p.* FROM case8.purchase p\n",
    "    WHERE p.user_id in\n",
    "    (SELECT DISTINCT(user_id) \n",
    "    FROM case8.events \n",
    "    WHERE event_type = 'registration' \n",
    "    AND start_time >= '2018-01-01'\n",
    "    AND start_time < '2019-01-01')\n",
    "    '''.format()\n",
    "    conn = psycopg2.connect(\"dbname='skillfactory' user='skillfactory' host='84.201.134.129' password='cCkxxLVrDE8EbvjueeMedPKt' port=5432\")\n",
    "    dict_cur = conn.cursor(cursor_factory=psycopg2.extras.DictCursor)\n",
    "    dict_cur.execute(query)\n",
    "    rows = dict_cur.fetchall()\n",
    "    data = []\n",
    "    for row in rows:\n",
    "        data.append(dict(row))\n",
    "    return data"
   ]
  },
  {
   "cell_type": "markdown",
   "metadata": {},
   "source": [
    "Результат запишем в датафреймы __events_df__ и __purchase_df__"
   ]
  },
  {
   "cell_type": "code",
   "execution_count": 4,
   "metadata": {},
   "outputs": [],
   "source": [
    "events_df = pd.DataFrame(getEventsData())\n",
    "purchase_df = pd.DataFrame(getPurchaseData())"
   ]
  },
  {
   "cell_type": "markdown",
   "metadata": {},
   "source": [
    "Вызовем метод __describe()__ для того, чтобы оценить характеристики каждого столбца. По умолчанию метод __describe()__ выдает характеристики только по столбцам с численными типами(например, _int64, float64_ ). Мы вызовем этот метод с параметром __include='all'__ для того, чтобы отображать характеристики для всех столбцов."
   ]
  },
  {
   "cell_type": "code",
   "execution_count": 5,
   "metadata": {},
   "outputs": [
    {
     "data": {
      "text/html": [
       "<div>\n",
       "<style scoped>\n",
       "    .dataframe tbody tr th:only-of-type {\n",
       "        vertical-align: middle;\n",
       "    }\n",
       "\n",
       "    .dataframe tbody tr th {\n",
       "        vertical-align: top;\n",
       "    }\n",
       "\n",
       "    .dataframe thead th {\n",
       "        text-align: right;\n",
       "    }\n",
       "</style>\n",
       "<table border=\"1\" class=\"dataframe\">\n",
       "  <thead>\n",
       "    <tr style=\"text-align: right;\">\n",
       "      <th></th>\n",
       "      <th>event_type</th>\n",
       "      <th>selected_level</th>\n",
       "      <th>start_time</th>\n",
       "      <th>tutorial_id</th>\n",
       "      <th>user_id</th>\n",
       "      <th>id</th>\n",
       "    </tr>\n",
       "  </thead>\n",
       "  <tbody>\n",
       "    <tr>\n",
       "      <th>count</th>\n",
       "      <td>82779</td>\n",
       "      <td>10198</td>\n",
       "      <td>82779</td>\n",
       "      <td>41201.000000</td>\n",
       "      <td>82779.000000</td>\n",
       "      <td>82779.000000</td>\n",
       "    </tr>\n",
       "    <tr>\n",
       "      <th>unique</th>\n",
       "      <td>5</td>\n",
       "      <td>3</td>\n",
       "      <td>82622</td>\n",
       "      <td>NaN</td>\n",
       "      <td>NaN</td>\n",
       "      <td>NaN</td>\n",
       "    </tr>\n",
       "    <tr>\n",
       "      <th>top</th>\n",
       "      <td>registration</td>\n",
       "      <td>medium</td>\n",
       "      <td>2018-03-01 09:53:30</td>\n",
       "      <td>NaN</td>\n",
       "      <td>NaN</td>\n",
       "      <td>NaN</td>\n",
       "    </tr>\n",
       "    <tr>\n",
       "      <th>freq</th>\n",
       "      <td>24460</td>\n",
       "      <td>5776</td>\n",
       "      <td>4</td>\n",
       "      <td>NaN</td>\n",
       "      <td>NaN</td>\n",
       "      <td>NaN</td>\n",
       "    </tr>\n",
       "    <tr>\n",
       "      <th>first</th>\n",
       "      <td>NaN</td>\n",
       "      <td>NaN</td>\n",
       "      <td>2018-01-01 04:51:58</td>\n",
       "      <td>NaN</td>\n",
       "      <td>NaN</td>\n",
       "      <td>NaN</td>\n",
       "    </tr>\n",
       "    <tr>\n",
       "      <th>last</th>\n",
       "      <td>NaN</td>\n",
       "      <td>NaN</td>\n",
       "      <td>2019-01-01 09:03:24</td>\n",
       "      <td>NaN</td>\n",
       "      <td>NaN</td>\n",
       "      <td>NaN</td>\n",
       "    </tr>\n",
       "    <tr>\n",
       "      <th>mean</th>\n",
       "      <td>NaN</td>\n",
       "      <td>NaN</td>\n",
       "      <td>NaN</td>\n",
       "      <td>60853.276207</td>\n",
       "      <td>59932.814446</td>\n",
       "      <td>188656.000568</td>\n",
       "    </tr>\n",
       "    <tr>\n",
       "      <th>std</th>\n",
       "      <td>NaN</td>\n",
       "      <td>NaN</td>\n",
       "      <td>NaN</td>\n",
       "      <td>6525.340246</td>\n",
       "      <td>7074.775488</td>\n",
       "      <td>23896.384413</td>\n",
       "    </tr>\n",
       "    <tr>\n",
       "      <th>min</th>\n",
       "      <td>NaN</td>\n",
       "      <td>NaN</td>\n",
       "      <td>NaN</td>\n",
       "      <td>49555.000000</td>\n",
       "      <td>47758.000000</td>\n",
       "      <td>147264.000000</td>\n",
       "    </tr>\n",
       "    <tr>\n",
       "      <th>25%</th>\n",
       "      <td>NaN</td>\n",
       "      <td>NaN</td>\n",
       "      <td>NaN</td>\n",
       "      <td>55199.000000</td>\n",
       "      <td>53769.500000</td>\n",
       "      <td>167961.500000</td>\n",
       "    </tr>\n",
       "    <tr>\n",
       "      <th>50%</th>\n",
       "      <td>NaN</td>\n",
       "      <td>NaN</td>\n",
       "      <td>NaN</td>\n",
       "      <td>60863.000000</td>\n",
       "      <td>59943.000000</td>\n",
       "      <td>188656.000000</td>\n",
       "    </tr>\n",
       "    <tr>\n",
       "      <th>75%</th>\n",
       "      <td>NaN</td>\n",
       "      <td>NaN</td>\n",
       "      <td>NaN</td>\n",
       "      <td>66510.000000</td>\n",
       "      <td>66061.000000</td>\n",
       "      <td>209350.500000</td>\n",
       "    </tr>\n",
       "    <tr>\n",
       "      <th>max</th>\n",
       "      <td>NaN</td>\n",
       "      <td>NaN</td>\n",
       "      <td>NaN</td>\n",
       "      <td>72153.000000</td>\n",
       "      <td>72217.000000</td>\n",
       "      <td>230056.000000</td>\n",
       "    </tr>\n",
       "  </tbody>\n",
       "</table>\n",
       "</div>"
      ],
      "text/plain": [
       "          event_type selected_level           start_time   tutorial_id  \\\n",
       "count          82779          10198                82779  41201.000000   \n",
       "unique             5              3                82622           NaN   \n",
       "top     registration         medium  2018-03-01 09:53:30           NaN   \n",
       "freq           24460           5776                    4           NaN   \n",
       "first            NaN            NaN  2018-01-01 04:51:58           NaN   \n",
       "last             NaN            NaN  2019-01-01 09:03:24           NaN   \n",
       "mean             NaN            NaN                  NaN  60853.276207   \n",
       "std              NaN            NaN                  NaN   6525.340246   \n",
       "min              NaN            NaN                  NaN  49555.000000   \n",
       "25%              NaN            NaN                  NaN  55199.000000   \n",
       "50%              NaN            NaN                  NaN  60863.000000   \n",
       "75%              NaN            NaN                  NaN  66510.000000   \n",
       "max              NaN            NaN                  NaN  72153.000000   \n",
       "\n",
       "             user_id             id  \n",
       "count   82779.000000   82779.000000  \n",
       "unique           NaN            NaN  \n",
       "top              NaN            NaN  \n",
       "freq             NaN            NaN  \n",
       "first            NaN            NaN  \n",
       "last             NaN            NaN  \n",
       "mean    59932.814446  188656.000568  \n",
       "std      7074.775488   23896.384413  \n",
       "min     47758.000000  147264.000000  \n",
       "25%     53769.500000  167961.500000  \n",
       "50%     59943.000000  188656.000000  \n",
       "75%     66061.000000  209350.500000  \n",
       "max     72217.000000  230056.000000  "
      ]
     },
     "execution_count": 5,
     "metadata": {},
     "output_type": "execute_result"
    }
   ],
   "source": [
    "events_df.describe(include='all')"
   ]
  },
  {
   "cell_type": "markdown",
   "metadata": {},
   "source": [
    "___\n",
    "Выведем первые 5 строчек таблицы events, чтобы понять что она представляет из себя."
   ]
  },
  {
   "cell_type": "code",
   "execution_count": 6,
   "metadata": {},
   "outputs": [
    {
     "data": {
      "text/html": [
       "<div>\n",
       "<style scoped>\n",
       "    .dataframe tbody tr th:only-of-type {\n",
       "        vertical-align: middle;\n",
       "    }\n",
       "\n",
       "    .dataframe tbody tr th {\n",
       "        vertical-align: top;\n",
       "    }\n",
       "\n",
       "    .dataframe thead th {\n",
       "        text-align: right;\n",
       "    }\n",
       "</style>\n",
       "<table border=\"1\" class=\"dataframe\">\n",
       "  <thead>\n",
       "    <tr style=\"text-align: right;\">\n",
       "      <th></th>\n",
       "      <th>event_type</th>\n",
       "      <th>selected_level</th>\n",
       "      <th>start_time</th>\n",
       "      <th>tutorial_id</th>\n",
       "      <th>user_id</th>\n",
       "      <th>id</th>\n",
       "    </tr>\n",
       "  </thead>\n",
       "  <tbody>\n",
       "    <tr>\n",
       "      <th>0</th>\n",
       "      <td>registration</td>\n",
       "      <td>None</td>\n",
       "      <td>2018-01-01 04:51:58</td>\n",
       "      <td>NaN</td>\n",
       "      <td>47758</td>\n",
       "      <td>147264</td>\n",
       "    </tr>\n",
       "    <tr>\n",
       "      <th>1</th>\n",
       "      <td>registration</td>\n",
       "      <td>None</td>\n",
       "      <td>2018-01-01 08:32:05</td>\n",
       "      <td>NaN</td>\n",
       "      <td>47759</td>\n",
       "      <td>147268</td>\n",
       "    </tr>\n",
       "    <tr>\n",
       "      <th>2</th>\n",
       "      <td>registration</td>\n",
       "      <td>None</td>\n",
       "      <td>2018-01-01 09:30:10</td>\n",
       "      <td>NaN</td>\n",
       "      <td>47760</td>\n",
       "      <td>147269</td>\n",
       "    </tr>\n",
       "    <tr>\n",
       "      <th>3</th>\n",
       "      <td>registration</td>\n",
       "      <td>None</td>\n",
       "      <td>2018-01-01 09:39:27</td>\n",
       "      <td>NaN</td>\n",
       "      <td>47761</td>\n",
       "      <td>147270</td>\n",
       "    </tr>\n",
       "    <tr>\n",
       "      <th>4</th>\n",
       "      <td>registration</td>\n",
       "      <td>None</td>\n",
       "      <td>2018-01-01 11:41:27</td>\n",
       "      <td>NaN</td>\n",
       "      <td>47762</td>\n",
       "      <td>147271</td>\n",
       "    </tr>\n",
       "  </tbody>\n",
       "</table>\n",
       "</div>"
      ],
      "text/plain": [
       "     event_type selected_level          start_time  tutorial_id  user_id  \\\n",
       "0  registration           None 2018-01-01 04:51:58          NaN    47758   \n",
       "1  registration           None 2018-01-01 08:32:05          NaN    47759   \n",
       "2  registration           None 2018-01-01 09:30:10          NaN    47760   \n",
       "3  registration           None 2018-01-01 09:39:27          NaN    47761   \n",
       "4  registration           None 2018-01-01 11:41:27          NaN    47762   \n",
       "\n",
       "       id  \n",
       "0  147264  \n",
       "1  147268  \n",
       "2  147269  \n",
       "3  147270  \n",
       "4  147271  "
      ]
     },
     "execution_count": 6,
     "metadata": {},
     "output_type": "execute_result"
    }
   ],
   "source": [
    "events_df.head()"
   ]
  },
  {
   "cell_type": "markdown",
   "metadata": {},
   "source": [
    "Таблица __event__ хранит данные о событиях, которые совершают пользователи:\n",
    "\n",
    " - Столбец __id__ — идентификатор события   \n",
    " - Столбец __user_id__ — уникальный идентификатор пользователя приложения, который совершил событие   \n",
    " - Столбец __start_time__ — дата и время события   \n",
    " - Столбец __event_type__ — тип события   \n",
    " - Столбец __tutorial_id__ — идентификатор обучения (этот идентификатор есть только у событий   \n",
    " - Столбец __selected_level__ — выбранный уровень сложности обучения   "
   ]
  },
  {
   "cell_type": "markdown",
   "metadata": {},
   "source": [
    "Прежде чем приступить к анализу __первой гипотезы__, стоит понять _какие этапы_ при работе с приложением существуют."
   ]
  },
  {
   "cell_type": "code",
   "execution_count": 7,
   "metadata": {},
   "outputs": [
    {
     "data": {
      "text/plain": [
       "array(['registration', 'tutorial_start', 'tutorial_finish',\n",
       "       'level_choice', 'training_choice'], dtype=object)"
      ]
     },
     "execution_count": 7,
     "metadata": {},
     "output_type": "execute_result"
    }
   ],
   "source": [
    "events_df['event_type'].unique()"
   ]
  },
  {
   "cell_type": "markdown",
   "metadata": {},
   "source": [
    "#### Более подробнее о том, что представляет из себя каждый этап:\n",
    "\n",
    " - __Регистрация (registration)__ — это обязательный этап. Без регистрации пользователь не может пройти на следующие этапы работы с приложением.\n",
    "\n",
    " - __Старт обучения (tutorial_start)__ — опциональный этап. Пользователь после регистрации может перейти к обучению работе с приложением, а может и не перейти. При этом вернуться к обучению можно в любой момент времени, а также можно пройти обучение несколько раз.\n",
    "\n",
    " - __Завершение обучения (tutorial_finish)__ может произойти только в случае, если ранее произошло событие Старт обучения, но при этом пользователь может не завершить обучение.\n",
    "\n",
    " - __Выбор уровня сложности тренировок (level_choice)__ — это обязательное событие, которое нужно для того, чтобы перейти к выбору тренировок. Таким образом, пользователь может не пройти обучение или даже не начинать его, но прежде чем начать тренировку он обязан выбрать уровень сложности.\n",
    "\n",
    " - __Выбор тренировок (training_choice)__ — это этап, на котором пользователь выбирает себе бесплатный набор тренировок, в соответствии с которыми он будет тренироваться."
   ]
  },
  {
   "cell_type": "markdown",
   "metadata": {},
   "source": [
    "___\n",
    "Теперь посмотрим первые 5 строчек таблицы __purchase__, чтобы понять что она представляет из себя"
   ]
  },
  {
   "cell_type": "code",
   "execution_count": 8,
   "metadata": {},
   "outputs": [
    {
     "data": {
      "text/html": [
       "<div>\n",
       "<style scoped>\n",
       "    .dataframe tbody tr th:only-of-type {\n",
       "        vertical-align: middle;\n",
       "    }\n",
       "\n",
       "    .dataframe tbody tr th {\n",
       "        vertical-align: top;\n",
       "    }\n",
       "\n",
       "    .dataframe thead th {\n",
       "        text-align: right;\n",
       "    }\n",
       "</style>\n",
       "<table border=\"1\" class=\"dataframe\">\n",
       "  <thead>\n",
       "    <tr style=\"text-align: right;\">\n",
       "      <th></th>\n",
       "      <th>user_id</th>\n",
       "      <th>start_time</th>\n",
       "      <th>amount</th>\n",
       "      <th>id</th>\n",
       "    </tr>\n",
       "  </thead>\n",
       "  <tbody>\n",
       "    <tr>\n",
       "      <th>0</th>\n",
       "      <td>67986</td>\n",
       "      <td>2018-11-17 13:18:35</td>\n",
       "      <td>50</td>\n",
       "      <td>20103</td>\n",
       "    </tr>\n",
       "    <tr>\n",
       "      <th>1</th>\n",
       "      <td>58528</td>\n",
       "      <td>2018-06-23 23:24:43</td>\n",
       "      <td>100</td>\n",
       "      <td>19351</td>\n",
       "    </tr>\n",
       "    <tr>\n",
       "      <th>2</th>\n",
       "      <td>61351</td>\n",
       "      <td>2018-08-08 09:40:36</td>\n",
       "      <td>100</td>\n",
       "      <td>19565</td>\n",
       "    </tr>\n",
       "    <tr>\n",
       "      <th>3</th>\n",
       "      <td>48037</td>\n",
       "      <td>2018-01-10 13:08:34</td>\n",
       "      <td>50</td>\n",
       "      <td>18470</td>\n",
       "    </tr>\n",
       "    <tr>\n",
       "      <th>4</th>\n",
       "      <td>67987</td>\n",
       "      <td>2018-11-13 22:51:38</td>\n",
       "      <td>100</td>\n",
       "      <td>20087</td>\n",
       "    </tr>\n",
       "  </tbody>\n",
       "</table>\n",
       "</div>"
      ],
      "text/plain": [
       "   user_id          start_time  amount     id\n",
       "0    67986 2018-11-17 13:18:35      50  20103\n",
       "1    58528 2018-06-23 23:24:43     100  19351\n",
       "2    61351 2018-08-08 09:40:36     100  19565\n",
       "3    48037 2018-01-10 13:08:34      50  18470\n",
       "4    67987 2018-11-13 22:51:38     100  20087"
      ]
     },
     "execution_count": 8,
     "metadata": {},
     "output_type": "execute_result"
    }
   ],
   "source": [
    "purchase_df.head()"
   ]
  },
  {
   "cell_type": "markdown",
   "metadata": {},
   "source": [
    "Таблица __purchase__ хранит данные об оплатах, которые совершают пользователи:\n",
    "\n",
    " - Столбец __id__ — идентификатор оплаты   \n",
    " - Столбец __user_id__ — уникальный идентификатор пользователя приложения, который совершил оплату   \n",
    " - Столбец __start_time__ — дата и время оплаты   \n",
    " - Столбец __amount__ — сумма оплаты   "
   ]
  },
  {
   "cell_type": "markdown",
   "metadata": {},
   "source": [
    "<hr>\n",
    "Для начала давайте объединим датафрейм с событиями вместе с датафреймом по оплатам. Это позволит анализировать все эти события в рамках одной структуры данных."
   ]
  },
  {
   "cell_type": "markdown",
   "metadata": {},
   "source": [
    "Сначала добавим в датафрейм __purchase_df__ столбец __event_type__, который будет содержать одно значение __purchase__. Это нужно, чтобы в объединенном датафрейме однозначно выделить события оплаты."
   ]
  },
  {
   "cell_type": "code",
   "execution_count": 9,
   "metadata": {},
   "outputs": [
    {
     "data": {
      "text/html": [
       "<div>\n",
       "<style scoped>\n",
       "    .dataframe tbody tr th:only-of-type {\n",
       "        vertical-align: middle;\n",
       "    }\n",
       "\n",
       "    .dataframe tbody tr th {\n",
       "        vertical-align: top;\n",
       "    }\n",
       "\n",
       "    .dataframe thead th {\n",
       "        text-align: right;\n",
       "    }\n",
       "</style>\n",
       "<table border=\"1\" class=\"dataframe\">\n",
       "  <thead>\n",
       "    <tr style=\"text-align: right;\">\n",
       "      <th></th>\n",
       "      <th>user_id</th>\n",
       "      <th>start_time</th>\n",
       "      <th>amount</th>\n",
       "      <th>id</th>\n",
       "      <th>event_type</th>\n",
       "    </tr>\n",
       "  </thead>\n",
       "  <tbody>\n",
       "    <tr>\n",
       "      <th>0</th>\n",
       "      <td>67986</td>\n",
       "      <td>2018-11-17 13:18:35</td>\n",
       "      <td>50</td>\n",
       "      <td>20103</td>\n",
       "      <td>purchase</td>\n",
       "    </tr>\n",
       "    <tr>\n",
       "      <th>1</th>\n",
       "      <td>58528</td>\n",
       "      <td>2018-06-23 23:24:43</td>\n",
       "      <td>100</td>\n",
       "      <td>19351</td>\n",
       "      <td>purchase</td>\n",
       "    </tr>\n",
       "    <tr>\n",
       "      <th>2</th>\n",
       "      <td>61351</td>\n",
       "      <td>2018-08-08 09:40:36</td>\n",
       "      <td>100</td>\n",
       "      <td>19565</td>\n",
       "      <td>purchase</td>\n",
       "    </tr>\n",
       "    <tr>\n",
       "      <th>3</th>\n",
       "      <td>48037</td>\n",
       "      <td>2018-01-10 13:08:34</td>\n",
       "      <td>50</td>\n",
       "      <td>18470</td>\n",
       "      <td>purchase</td>\n",
       "    </tr>\n",
       "    <tr>\n",
       "      <th>4</th>\n",
       "      <td>67987</td>\n",
       "      <td>2018-11-13 22:51:38</td>\n",
       "      <td>100</td>\n",
       "      <td>20087</td>\n",
       "      <td>purchase</td>\n",
       "    </tr>\n",
       "  </tbody>\n",
       "</table>\n",
       "</div>"
      ],
      "text/plain": [
       "   user_id          start_time  amount     id event_type\n",
       "0    67986 2018-11-17 13:18:35      50  20103   purchase\n",
       "1    58528 2018-06-23 23:24:43     100  19351   purchase\n",
       "2    61351 2018-08-08 09:40:36     100  19565   purchase\n",
       "3    48037 2018-01-10 13:08:34      50  18470   purchase\n",
       "4    67987 2018-11-13 22:51:38     100  20087   purchase"
      ]
     },
     "execution_count": 9,
     "metadata": {},
     "output_type": "execute_result"
    }
   ],
   "source": [
    "purchase_df['event_type'] = 'purchase'\n",
    "purchase_df.head()"
   ]
  },
  {
   "cell_type": "markdown",
   "metadata": {},
   "source": [
    "Также у нас есть одинаковые столбцы __id__ в двух датафреймах, но смысл их несколько отличается, так как столбец __id__ в __events_df__ указывает на идентификатор события, а столбец __id__ в __purchase_df__ указывает на идентификатор оплаты. Поэтому применим функцию __rename()__."
   ]
  },
  {
   "cell_type": "code",
   "execution_count": 10,
   "metadata": {},
   "outputs": [],
   "source": [
    "events_df = events_df.rename(columns={'id':'event_id'})\n",
    "purchase_df = purchase_df.rename(columns={'id':'purchase_id'})"
   ]
  },
  {
   "cell_type": "code",
   "execution_count": 11,
   "metadata": {},
   "outputs": [
    {
     "data": {
      "text/html": [
       "<div>\n",
       "<style scoped>\n",
       "    .dataframe tbody tr th:only-of-type {\n",
       "        vertical-align: middle;\n",
       "    }\n",
       "\n",
       "    .dataframe tbody tr th {\n",
       "        vertical-align: top;\n",
       "    }\n",
       "\n",
       "    .dataframe thead th {\n",
       "        text-align: right;\n",
       "    }\n",
       "</style>\n",
       "<table border=\"1\" class=\"dataframe\">\n",
       "  <thead>\n",
       "    <tr style=\"text-align: right;\">\n",
       "      <th></th>\n",
       "      <th>event_type</th>\n",
       "      <th>selected_level</th>\n",
       "      <th>start_time</th>\n",
       "      <th>tutorial_id</th>\n",
       "      <th>user_id</th>\n",
       "      <th>event_id</th>\n",
       "    </tr>\n",
       "  </thead>\n",
       "  <tbody>\n",
       "    <tr>\n",
       "      <th>0</th>\n",
       "      <td>registration</td>\n",
       "      <td>None</td>\n",
       "      <td>2018-01-01 04:51:58</td>\n",
       "      <td>NaN</td>\n",
       "      <td>47758</td>\n",
       "      <td>147264</td>\n",
       "    </tr>\n",
       "    <tr>\n",
       "      <th>1</th>\n",
       "      <td>registration</td>\n",
       "      <td>None</td>\n",
       "      <td>2018-01-01 08:32:05</td>\n",
       "      <td>NaN</td>\n",
       "      <td>47759</td>\n",
       "      <td>147268</td>\n",
       "    </tr>\n",
       "    <tr>\n",
       "      <th>2</th>\n",
       "      <td>registration</td>\n",
       "      <td>None</td>\n",
       "      <td>2018-01-01 09:30:10</td>\n",
       "      <td>NaN</td>\n",
       "      <td>47760</td>\n",
       "      <td>147269</td>\n",
       "    </tr>\n",
       "    <tr>\n",
       "      <th>3</th>\n",
       "      <td>registration</td>\n",
       "      <td>None</td>\n",
       "      <td>2018-01-01 09:39:27</td>\n",
       "      <td>NaN</td>\n",
       "      <td>47761</td>\n",
       "      <td>147270</td>\n",
       "    </tr>\n",
       "    <tr>\n",
       "      <th>4</th>\n",
       "      <td>registration</td>\n",
       "      <td>None</td>\n",
       "      <td>2018-01-01 11:41:27</td>\n",
       "      <td>NaN</td>\n",
       "      <td>47762</td>\n",
       "      <td>147271</td>\n",
       "    </tr>\n",
       "  </tbody>\n",
       "</table>\n",
       "</div>"
      ],
      "text/plain": [
       "     event_type selected_level          start_time  tutorial_id  user_id  \\\n",
       "0  registration           None 2018-01-01 04:51:58          NaN    47758   \n",
       "1  registration           None 2018-01-01 08:32:05          NaN    47759   \n",
       "2  registration           None 2018-01-01 09:30:10          NaN    47760   \n",
       "3  registration           None 2018-01-01 09:39:27          NaN    47761   \n",
       "4  registration           None 2018-01-01 11:41:27          NaN    47762   \n",
       "\n",
       "   event_id  \n",
       "0    147264  \n",
       "1    147268  \n",
       "2    147269  \n",
       "3    147270  \n",
       "4    147271  "
      ]
     },
     "execution_count": 11,
     "metadata": {},
     "output_type": "execute_result"
    }
   ],
   "source": [
    "events_df.head()"
   ]
  },
  {
   "cell_type": "code",
   "execution_count": 12,
   "metadata": {},
   "outputs": [
    {
     "data": {
      "text/html": [
       "<div>\n",
       "<style scoped>\n",
       "    .dataframe tbody tr th:only-of-type {\n",
       "        vertical-align: middle;\n",
       "    }\n",
       "\n",
       "    .dataframe tbody tr th {\n",
       "        vertical-align: top;\n",
       "    }\n",
       "\n",
       "    .dataframe thead th {\n",
       "        text-align: right;\n",
       "    }\n",
       "</style>\n",
       "<table border=\"1\" class=\"dataframe\">\n",
       "  <thead>\n",
       "    <tr style=\"text-align: right;\">\n",
       "      <th></th>\n",
       "      <th>user_id</th>\n",
       "      <th>start_time</th>\n",
       "      <th>amount</th>\n",
       "      <th>purchase_id</th>\n",
       "      <th>event_type</th>\n",
       "    </tr>\n",
       "  </thead>\n",
       "  <tbody>\n",
       "    <tr>\n",
       "      <th>0</th>\n",
       "      <td>67986</td>\n",
       "      <td>2018-11-17 13:18:35</td>\n",
       "      <td>50</td>\n",
       "      <td>20103</td>\n",
       "      <td>purchase</td>\n",
       "    </tr>\n",
       "    <tr>\n",
       "      <th>1</th>\n",
       "      <td>58528</td>\n",
       "      <td>2018-06-23 23:24:43</td>\n",
       "      <td>100</td>\n",
       "      <td>19351</td>\n",
       "      <td>purchase</td>\n",
       "    </tr>\n",
       "    <tr>\n",
       "      <th>2</th>\n",
       "      <td>61351</td>\n",
       "      <td>2018-08-08 09:40:36</td>\n",
       "      <td>100</td>\n",
       "      <td>19565</td>\n",
       "      <td>purchase</td>\n",
       "    </tr>\n",
       "    <tr>\n",
       "      <th>3</th>\n",
       "      <td>48037</td>\n",
       "      <td>2018-01-10 13:08:34</td>\n",
       "      <td>50</td>\n",
       "      <td>18470</td>\n",
       "      <td>purchase</td>\n",
       "    </tr>\n",
       "    <tr>\n",
       "      <th>4</th>\n",
       "      <td>67987</td>\n",
       "      <td>2018-11-13 22:51:38</td>\n",
       "      <td>100</td>\n",
       "      <td>20087</td>\n",
       "      <td>purchase</td>\n",
       "    </tr>\n",
       "  </tbody>\n",
       "</table>\n",
       "</div>"
      ],
      "text/plain": [
       "   user_id          start_time  amount  purchase_id event_type\n",
       "0    67986 2018-11-17 13:18:35      50        20103   purchase\n",
       "1    58528 2018-06-23 23:24:43     100        19351   purchase\n",
       "2    61351 2018-08-08 09:40:36     100        19565   purchase\n",
       "3    48037 2018-01-10 13:08:34      50        18470   purchase\n",
       "4    67987 2018-11-13 22:51:38     100        20087   purchase"
      ]
     },
     "execution_count": 12,
     "metadata": {},
     "output_type": "execute_result"
    }
   ],
   "source": [
    "purchase_df.head()"
   ]
  },
  {
   "cell_type": "markdown",
   "metadata": {},
   "source": [
    "Следующим шагом объединим датафреймы __events_df__ и __purchase_df__ с помощью функции __pd.concat()__ и запишем объединенный датафрейм в переменную __total_events_df__."
   ]
  },
  {
   "cell_type": "code",
   "execution_count": 13,
   "metadata": {},
   "outputs": [
    {
     "name": "stdout",
     "output_type": "stream",
     "text": [
      "<class 'pandas.core.frame.DataFrame'>\n",
      "RangeIndex: 82779 entries, 0 to 82778\n",
      "Data columns (total 6 columns):\n",
      " #   Column          Non-Null Count  Dtype         \n",
      "---  ------          --------------  -----         \n",
      " 0   event_type      82779 non-null  object        \n",
      " 1   selected_level  10198 non-null  object        \n",
      " 2   start_time      82779 non-null  datetime64[ns]\n",
      " 3   tutorial_id     41201 non-null  float64       \n",
      " 4   user_id         82779 non-null  int64         \n",
      " 5   event_id        82779 non-null  int64         \n",
      "dtypes: datetime64[ns](1), float64(1), int64(2), object(2)\n",
      "memory usage: 3.8+ MB\n"
     ]
    }
   ],
   "source": [
    "events_df.info()"
   ]
  },
  {
   "cell_type": "code",
   "execution_count": 14,
   "metadata": {},
   "outputs": [
    {
     "name": "stdout",
     "output_type": "stream",
     "text": [
      "<class 'pandas.core.frame.DataFrame'>\n",
      "RangeIndex: 1974 entries, 0 to 1973\n",
      "Data columns (total 5 columns):\n",
      " #   Column       Non-Null Count  Dtype         \n",
      "---  ------       --------------  -----         \n",
      " 0   user_id      1974 non-null   int64         \n",
      " 1   start_time   1974 non-null   datetime64[ns]\n",
      " 2   amount       1974 non-null   int64         \n",
      " 3   purchase_id  1974 non-null   int64         \n",
      " 4   event_type   1974 non-null   object        \n",
      "dtypes: datetime64[ns](1), int64(3), object(1)\n",
      "memory usage: 77.2+ KB\n"
     ]
    }
   ],
   "source": [
    "purchase_df.info()"
   ]
  },
  {
   "cell_type": "code",
   "execution_count": 15,
   "metadata": {},
   "outputs": [],
   "source": [
    "total_events_df = pd.concat([events_df,purchase_df],sort=False)"
   ]
  },
  {
   "cell_type": "code",
   "execution_count": 16,
   "metadata": {},
   "outputs": [
    {
     "name": "stdout",
     "output_type": "stream",
     "text": [
      "<class 'pandas.core.frame.DataFrame'>\n",
      "Int64Index: 84753 entries, 0 to 1973\n",
      "Data columns (total 8 columns):\n",
      " #   Column          Non-Null Count  Dtype         \n",
      "---  ------          --------------  -----         \n",
      " 0   event_type      84753 non-null  object        \n",
      " 1   selected_level  10198 non-null  object        \n",
      " 2   start_time      84753 non-null  datetime64[ns]\n",
      " 3   tutorial_id     41201 non-null  float64       \n",
      " 4   user_id         84753 non-null  int64         \n",
      " 5   event_id        82779 non-null  float64       \n",
      " 6   amount          1974 non-null   float64       \n",
      " 7   purchase_id     1974 non-null   float64       \n",
      "dtypes: datetime64[ns](1), float64(4), int64(1), object(2)\n",
      "memory usage: 5.8+ MB\n"
     ]
    }
   ],
   "source": [
    "total_events_df.info()"
   ]
  },
  {
   "cell_type": "markdown",
   "metadata": {},
   "source": [
    "Теперь сбросим индексы объединенного датафрейма (так как после объединения они дублировались и несут мало смысла) с помощью метода __reset_index()__."
   ]
  },
  {
   "cell_type": "code",
   "execution_count": 17,
   "metadata": {},
   "outputs": [
    {
     "data": {
      "text/html": [
       "<div>\n",
       "<style scoped>\n",
       "    .dataframe tbody tr th:only-of-type {\n",
       "        vertical-align: middle;\n",
       "    }\n",
       "\n",
       "    .dataframe tbody tr th {\n",
       "        vertical-align: top;\n",
       "    }\n",
       "\n",
       "    .dataframe thead th {\n",
       "        text-align: right;\n",
       "    }\n",
       "</style>\n",
       "<table border=\"1\" class=\"dataframe\">\n",
       "  <thead>\n",
       "    <tr style=\"text-align: right;\">\n",
       "      <th></th>\n",
       "      <th>event_type</th>\n",
       "      <th>selected_level</th>\n",
       "      <th>start_time</th>\n",
       "      <th>tutorial_id</th>\n",
       "      <th>user_id</th>\n",
       "      <th>event_id</th>\n",
       "      <th>amount</th>\n",
       "      <th>purchase_id</th>\n",
       "    </tr>\n",
       "  </thead>\n",
       "  <tbody>\n",
       "    <tr>\n",
       "      <th>0</th>\n",
       "      <td>registration</td>\n",
       "      <td>None</td>\n",
       "      <td>2018-01-01 04:51:58</td>\n",
       "      <td>NaN</td>\n",
       "      <td>47758</td>\n",
       "      <td>147264.0</td>\n",
       "      <td>NaN</td>\n",
       "      <td>NaN</td>\n",
       "    </tr>\n",
       "    <tr>\n",
       "      <th>1</th>\n",
       "      <td>registration</td>\n",
       "      <td>None</td>\n",
       "      <td>2018-01-01 08:32:05</td>\n",
       "      <td>NaN</td>\n",
       "      <td>47759</td>\n",
       "      <td>147268.0</td>\n",
       "      <td>NaN</td>\n",
       "      <td>NaN</td>\n",
       "    </tr>\n",
       "    <tr>\n",
       "      <th>2</th>\n",
       "      <td>registration</td>\n",
       "      <td>None</td>\n",
       "      <td>2018-01-01 09:30:10</td>\n",
       "      <td>NaN</td>\n",
       "      <td>47760</td>\n",
       "      <td>147269.0</td>\n",
       "      <td>NaN</td>\n",
       "      <td>NaN</td>\n",
       "    </tr>\n",
       "    <tr>\n",
       "      <th>3</th>\n",
       "      <td>registration</td>\n",
       "      <td>None</td>\n",
       "      <td>2018-01-01 09:39:27</td>\n",
       "      <td>NaN</td>\n",
       "      <td>47761</td>\n",
       "      <td>147270.0</td>\n",
       "      <td>NaN</td>\n",
       "      <td>NaN</td>\n",
       "    </tr>\n",
       "    <tr>\n",
       "      <th>4</th>\n",
       "      <td>registration</td>\n",
       "      <td>None</td>\n",
       "      <td>2018-01-01 11:41:27</td>\n",
       "      <td>NaN</td>\n",
       "      <td>47762</td>\n",
       "      <td>147271.0</td>\n",
       "      <td>NaN</td>\n",
       "      <td>NaN</td>\n",
       "    </tr>\n",
       "    <tr>\n",
       "      <th>...</th>\n",
       "      <td>...</td>\n",
       "      <td>...</td>\n",
       "      <td>...</td>\n",
       "      <td>...</td>\n",
       "      <td>...</td>\n",
       "      <td>...</td>\n",
       "      <td>...</td>\n",
       "      <td>...</td>\n",
       "    </tr>\n",
       "    <tr>\n",
       "      <th>84697</th>\n",
       "      <td>purchase</td>\n",
       "      <td>NaN</td>\n",
       "      <td>2019-01-06 07:08:00</td>\n",
       "      <td>NaN</td>\n",
       "      <td>72172</td>\n",
       "      <td>NaN</td>\n",
       "      <td>50.0</td>\n",
       "      <td>20418.0</td>\n",
       "    </tr>\n",
       "    <tr>\n",
       "      <th>83166</th>\n",
       "      <td>purchase</td>\n",
       "      <td>NaN</td>\n",
       "      <td>2019-01-06 07:36:11</td>\n",
       "      <td>NaN</td>\n",
       "      <td>72212</td>\n",
       "      <td>NaN</td>\n",
       "      <td>50.0</td>\n",
       "      <td>20419.0</td>\n",
       "    </tr>\n",
       "    <tr>\n",
       "      <th>83608</th>\n",
       "      <td>purchase</td>\n",
       "      <td>NaN</td>\n",
       "      <td>2019-01-06 10:53:03</td>\n",
       "      <td>NaN</td>\n",
       "      <td>72197</td>\n",
       "      <td>NaN</td>\n",
       "      <td>200.0</td>\n",
       "      <td>20421.0</td>\n",
       "    </tr>\n",
       "    <tr>\n",
       "      <th>84558</th>\n",
       "      <td>purchase</td>\n",
       "      <td>NaN</td>\n",
       "      <td>2019-01-06 23:26:44</td>\n",
       "      <td>NaN</td>\n",
       "      <td>72169</td>\n",
       "      <td>NaN</td>\n",
       "      <td>50.0</td>\n",
       "      <td>20424.0</td>\n",
       "    </tr>\n",
       "    <tr>\n",
       "      <th>82821</th>\n",
       "      <td>purchase</td>\n",
       "      <td>NaN</td>\n",
       "      <td>2019-01-08 00:58:57</td>\n",
       "      <td>NaN</td>\n",
       "      <td>72159</td>\n",
       "      <td>NaN</td>\n",
       "      <td>100.0</td>\n",
       "      <td>20427.0</td>\n",
       "    </tr>\n",
       "  </tbody>\n",
       "</table>\n",
       "<p>84753 rows × 8 columns</p>\n",
       "</div>"
      ],
      "text/plain": [
       "         event_type selected_level          start_time  tutorial_id  user_id  \\\n",
       "0      registration           None 2018-01-01 04:51:58          NaN    47758   \n",
       "1      registration           None 2018-01-01 08:32:05          NaN    47759   \n",
       "2      registration           None 2018-01-01 09:30:10          NaN    47760   \n",
       "3      registration           None 2018-01-01 09:39:27          NaN    47761   \n",
       "4      registration           None 2018-01-01 11:41:27          NaN    47762   \n",
       "...             ...            ...                 ...          ...      ...   \n",
       "84697      purchase            NaN 2019-01-06 07:08:00          NaN    72172   \n",
       "83166      purchase            NaN 2019-01-06 07:36:11          NaN    72212   \n",
       "83608      purchase            NaN 2019-01-06 10:53:03          NaN    72197   \n",
       "84558      purchase            NaN 2019-01-06 23:26:44          NaN    72169   \n",
       "82821      purchase            NaN 2019-01-08 00:58:57          NaN    72159   \n",
       "\n",
       "       event_id  amount  purchase_id  \n",
       "0      147264.0     NaN          NaN  \n",
       "1      147268.0     NaN          NaN  \n",
       "2      147269.0     NaN          NaN  \n",
       "3      147270.0     NaN          NaN  \n",
       "4      147271.0     NaN          NaN  \n",
       "...         ...     ...          ...  \n",
       "84697       NaN    50.0      20418.0  \n",
       "83166       NaN    50.0      20419.0  \n",
       "83608       NaN   200.0      20421.0  \n",
       "84558       NaN    50.0      20424.0  \n",
       "82821       NaN   100.0      20427.0  \n",
       "\n",
       "[84753 rows x 8 columns]"
      ]
     },
     "execution_count": 17,
     "metadata": {},
     "output_type": "execute_result"
    }
   ],
   "source": [
    "total_events_df = total_events_df.reset_index(drop=True).sort_values('start_time')\n",
    "total_events_df"
   ]
  },
  {
   "cell_type": "markdown",
   "metadata": {},
   "source": [
    "<a id=\"1\"></a>\n",
    "Давайте для начала выделим датафреймы, в которых будут хранится отдельные этапы пользования с приложением. Напомним, какие этапы у нас существуют:<br><br>\n",
    ">__Регистрация (registration)__<br>\n",
    ">__Старт обучения (tutorial_start)__<br>\n",
    ">__Завершение обучения (tutorial_finish)__<br>\n",
    ">__Выбор уровня сложности тренировок (level_choice)__<br>\n",
    ">__Выбор тренировок (training_choice)__<br>\n",
    ">__Покупка платных тренировок (purchase)__<br>\n",
    "\n",
    "Оставим только те данные, которые нужны для наших вычислений - столбец __user_id__ с идентификатором пользователя и столбец __start_time__ со временем cобытия.   \n",
    "\n",
    "Поскольку столбец __start_time__ означает дата и время того или иного события, сразу переименуем данный столбец для каждого датафрейма, чтобы лучше понимать, о каком времени идет речь.   \n",
    "\n",
    "Также отобразим количество пользователей, выполнившие каждый этиап.   "
   ]
  },
  {
   "cell_type": "markdown",
   "metadata": {},
   "source": [
    "1. __Регистрация (registration)__"
   ]
  },
  {
   "cell_type": "code",
   "execution_count": 18,
   "metadata": {},
   "outputs": [
    {
     "data": {
      "text/html": [
       "<div>\n",
       "<style scoped>\n",
       "    .dataframe tbody tr th:only-of-type {\n",
       "        vertical-align: middle;\n",
       "    }\n",
       "\n",
       "    .dataframe tbody tr th {\n",
       "        vertical-align: top;\n",
       "    }\n",
       "\n",
       "    .dataframe thead th {\n",
       "        text-align: right;\n",
       "    }\n",
       "</style>\n",
       "<table border=\"1\" class=\"dataframe\">\n",
       "  <thead>\n",
       "    <tr style=\"text-align: right;\">\n",
       "      <th></th>\n",
       "      <th>user_id</th>\n",
       "      <th>registration_time</th>\n",
       "    </tr>\n",
       "  </thead>\n",
       "  <tbody>\n",
       "    <tr>\n",
       "      <th>0</th>\n",
       "      <td>47758</td>\n",
       "      <td>2018-01-01 04:51:58</td>\n",
       "    </tr>\n",
       "    <tr>\n",
       "      <th>1</th>\n",
       "      <td>47759</td>\n",
       "      <td>2018-01-01 08:32:05</td>\n",
       "    </tr>\n",
       "    <tr>\n",
       "      <th>2</th>\n",
       "      <td>47760</td>\n",
       "      <td>2018-01-01 09:30:10</td>\n",
       "    </tr>\n",
       "    <tr>\n",
       "      <th>3</th>\n",
       "      <td>47761</td>\n",
       "      <td>2018-01-01 09:39:27</td>\n",
       "    </tr>\n",
       "    <tr>\n",
       "      <th>4</th>\n",
       "      <td>47762</td>\n",
       "      <td>2018-01-01 11:41:27</td>\n",
       "    </tr>\n",
       "  </tbody>\n",
       "</table>\n",
       "</div>"
      ],
      "text/plain": [
       "   user_id   registration_time\n",
       "0    47758 2018-01-01 04:51:58\n",
       "1    47759 2018-01-01 08:32:05\n",
       "2    47760 2018-01-01 09:30:10\n",
       "3    47761 2018-01-01 09:39:27\n",
       "4    47762 2018-01-01 11:41:27"
      ]
     },
     "execution_count": 18,
     "metadata": {},
     "output_type": "execute_result"
    }
   ],
   "source": [
    "registration_df = total_events_df[total_events_df['event_type'] == 'registration']\n",
    "registration_df = registration_df[['user_id','start_time']].rename(columns={'start_time':'registration_time'})\n",
    "registration_df.head()"
   ]
  },
  {
   "cell_type": "code",
   "execution_count": 19,
   "metadata": {},
   "outputs": [
    {
     "name": "stdout",
     "output_type": "stream",
     "text": [
      "Количество пользователей, выполнившие этап регистрации: 24460\n"
     ]
    }
   ],
   "source": [
    "print('Количество пользователей, выполнившие этап регистрации:', len(registration_df['user_id']))"
   ]
  },
  {
   "cell_type": "markdown",
   "metadata": {},
   "source": [
    "2. __Старт обучения (tutorial_start)__"
   ]
  },
  {
   "cell_type": "code",
   "execution_count": 20,
   "metadata": {},
   "outputs": [
    {
     "data": {
      "text/html": [
       "<div>\n",
       "<style scoped>\n",
       "    .dataframe tbody tr th:only-of-type {\n",
       "        vertical-align: middle;\n",
       "    }\n",
       "\n",
       "    .dataframe tbody tr th {\n",
       "        vertical-align: top;\n",
       "    }\n",
       "\n",
       "    .dataframe thead th {\n",
       "        text-align: right;\n",
       "    }\n",
       "</style>\n",
       "<table border=\"1\" class=\"dataframe\">\n",
       "  <thead>\n",
       "    <tr style=\"text-align: right;\">\n",
       "      <th></th>\n",
       "      <th>user_id</th>\n",
       "      <th>tutorial_start_time</th>\n",
       "    </tr>\n",
       "  </thead>\n",
       "  <tbody>\n",
       "    <tr>\n",
       "      <th>6</th>\n",
       "      <td>47758</td>\n",
       "      <td>2018-01-01 13:55:11</td>\n",
       "    </tr>\n",
       "    <tr>\n",
       "      <th>7</th>\n",
       "      <td>47761</td>\n",
       "      <td>2018-01-01 13:56:40</td>\n",
       "    </tr>\n",
       "    <tr>\n",
       "      <th>11</th>\n",
       "      <td>47760</td>\n",
       "      <td>2018-01-01 14:45:21</td>\n",
       "    </tr>\n",
       "    <tr>\n",
       "      <th>20</th>\n",
       "      <td>47768</td>\n",
       "      <td>2018-01-01 17:19:18</td>\n",
       "    </tr>\n",
       "    <tr>\n",
       "      <th>23</th>\n",
       "      <td>47759</td>\n",
       "      <td>2018-01-01 17:59:28</td>\n",
       "    </tr>\n",
       "  </tbody>\n",
       "</table>\n",
       "</div>"
      ],
      "text/plain": [
       "    user_id tutorial_start_time\n",
       "6     47758 2018-01-01 13:55:11\n",
       "7     47761 2018-01-01 13:56:40\n",
       "11    47760 2018-01-01 14:45:21\n",
       "20    47768 2018-01-01 17:19:18\n",
       "23    47759 2018-01-01 17:59:28"
      ]
     },
     "execution_count": 20,
     "metadata": {},
     "output_type": "execute_result"
    }
   ],
   "source": [
    "tutorial_start_df = total_events_df[total_events_df['event_type'] == 'tutorial_start']\n",
    "tutorial_start_df = tutorial_start_df[['user_id','start_time']].rename(columns={'start_time':'tutorial_start_time'})\n",
    "tutorial_start_df.head()"
   ]
  },
  {
   "cell_type": "code",
   "execution_count": 21,
   "metadata": {},
   "outputs": [
    {
     "name": "stdout",
     "output_type": "stream",
     "text": [
      "Количество пользователей, начавшие этап обучения: 22597\n"
     ]
    }
   ],
   "source": [
    "print('Количество пользователей, начавшие этап обучения:', len(tutorial_start_df['user_id']))"
   ]
  },
  {
   "cell_type": "markdown",
   "metadata": {},
   "source": [
    "3. __Завершение обучения (tutorial_finish)__"
   ]
  },
  {
   "cell_type": "code",
   "execution_count": 22,
   "metadata": {},
   "outputs": [
    {
     "data": {
      "text/html": [
       "<div>\n",
       "<style scoped>\n",
       "    .dataframe tbody tr th:only-of-type {\n",
       "        vertical-align: middle;\n",
       "    }\n",
       "\n",
       "    .dataframe tbody tr th {\n",
       "        vertical-align: top;\n",
       "    }\n",
       "\n",
       "    .dataframe thead th {\n",
       "        text-align: right;\n",
       "    }\n",
       "</style>\n",
       "<table border=\"1\" class=\"dataframe\">\n",
       "  <thead>\n",
       "    <tr style=\"text-align: right;\">\n",
       "      <th></th>\n",
       "      <th>user_id</th>\n",
       "      <th>tutorial_finish_time</th>\n",
       "    </tr>\n",
       "  </thead>\n",
       "  <tbody>\n",
       "    <tr>\n",
       "      <th>8</th>\n",
       "      <td>47761</td>\n",
       "      <td>2018-01-01 13:59:44</td>\n",
       "    </tr>\n",
       "    <tr>\n",
       "      <th>12</th>\n",
       "      <td>47760</td>\n",
       "      <td>2018-01-01 14:51:15</td>\n",
       "    </tr>\n",
       "    <tr>\n",
       "      <th>21</th>\n",
       "      <td>47768</td>\n",
       "      <td>2018-01-01 17:25:21</td>\n",
       "    </tr>\n",
       "    <tr>\n",
       "      <th>24</th>\n",
       "      <td>47759</td>\n",
       "      <td>2018-01-01 18:06:20</td>\n",
       "    </tr>\n",
       "    <tr>\n",
       "      <th>37</th>\n",
       "      <td>47768</td>\n",
       "      <td>2018-01-01 20:07:37</td>\n",
       "    </tr>\n",
       "  </tbody>\n",
       "</table>\n",
       "</div>"
      ],
      "text/plain": [
       "    user_id tutorial_finish_time\n",
       "8     47761  2018-01-01 13:59:44\n",
       "12    47760  2018-01-01 14:51:15\n",
       "21    47768  2018-01-01 17:25:21\n",
       "24    47759  2018-01-01 18:06:20\n",
       "37    47768  2018-01-01 20:07:37"
      ]
     },
     "execution_count": 22,
     "metadata": {},
     "output_type": "execute_result"
    }
   ],
   "source": [
    "tutorial_finish_df = total_events_df[total_events_df['event_type'] == 'tutorial_finish']\n",
    "tutorial_finish_df = tutorial_finish_df[['user_id','start_time']].rename(columns={'start_time':'tutorial_finish_time'})\n",
    "tutorial_finish_df.head()"
   ]
  },
  {
   "cell_type": "code",
   "execution_count": 23,
   "metadata": {},
   "outputs": [
    {
     "name": "stdout",
     "output_type": "stream",
     "text": [
      "Количество пользователей, завершившие этап обучения: 18604\n"
     ]
    }
   ],
   "source": [
    "print('Количество пользователей, завершившие этап обучения:', len(tutorial_finish_df['user_id']))"
   ]
  },
  {
   "cell_type": "markdown",
   "metadata": {},
   "source": [
    "4. __Выбор уровня сложности тренировок (level_choice)__"
   ]
  },
  {
   "cell_type": "code",
   "execution_count": 24,
   "metadata": {},
   "outputs": [
    {
     "data": {
      "text/html": [
       "<div>\n",
       "<style scoped>\n",
       "    .dataframe tbody tr th:only-of-type {\n",
       "        vertical-align: middle;\n",
       "    }\n",
       "\n",
       "    .dataframe tbody tr th {\n",
       "        vertical-align: top;\n",
       "    }\n",
       "\n",
       "    .dataframe thead th {\n",
       "        text-align: right;\n",
       "    }\n",
       "</style>\n",
       "<table border=\"1\" class=\"dataframe\">\n",
       "  <thead>\n",
       "    <tr style=\"text-align: right;\">\n",
       "      <th></th>\n",
       "      <th>user_id</th>\n",
       "      <th>level_choice_time</th>\n",
       "    </tr>\n",
       "  </thead>\n",
       "  <tbody>\n",
       "    <tr>\n",
       "      <th>13</th>\n",
       "      <td>47761</td>\n",
       "      <td>2018-01-01 15:05:04</td>\n",
       "    </tr>\n",
       "    <tr>\n",
       "      <th>18</th>\n",
       "      <td>47760</td>\n",
       "      <td>2018-01-01 16:54:36</td>\n",
       "    </tr>\n",
       "    <tr>\n",
       "      <th>26</th>\n",
       "      <td>47768</td>\n",
       "      <td>2018-01-01 18:44:32</td>\n",
       "    </tr>\n",
       "    <tr>\n",
       "      <th>35</th>\n",
       "      <td>47759</td>\n",
       "      <td>2018-01-01 20:05:14</td>\n",
       "    </tr>\n",
       "    <tr>\n",
       "      <th>48</th>\n",
       "      <td>47766</td>\n",
       "      <td>2018-01-02 00:07:39</td>\n",
       "    </tr>\n",
       "  </tbody>\n",
       "</table>\n",
       "</div>"
      ],
      "text/plain": [
       "    user_id   level_choice_time\n",
       "13    47761 2018-01-01 15:05:04\n",
       "18    47760 2018-01-01 16:54:36\n",
       "26    47768 2018-01-01 18:44:32\n",
       "35    47759 2018-01-01 20:05:14\n",
       "48    47766 2018-01-02 00:07:39"
      ]
     },
     "execution_count": 24,
     "metadata": {},
     "output_type": "execute_result"
    }
   ],
   "source": [
    "level_choice_df = total_events_df[total_events_df['event_type'] == 'level_choice']\n",
    "level_choice_df = level_choice_df[['user_id','start_time']].rename(columns={'start_time':'level_choice_time'})\n",
    "level_choice_df.head()"
   ]
  },
  {
   "cell_type": "code",
   "execution_count": 25,
   "metadata": {},
   "outputs": [
    {
     "name": "stdout",
     "output_type": "stream",
     "text": [
      "Количество пользователей, выбравшие уровень сложности тренировок: 10198\n"
     ]
    }
   ],
   "source": [
    "print('Количество пользователей, выбравшие уровень сложности тренировок:', len(level_choice_df['user_id']))"
   ]
  },
  {
   "cell_type": "markdown",
   "metadata": {},
   "source": [
    "4. __Выбор тренировок (training_choice)__"
   ]
  },
  {
   "cell_type": "code",
   "execution_count": 26,
   "metadata": {},
   "outputs": [
    {
     "data": {
      "text/html": [
       "<div>\n",
       "<style scoped>\n",
       "    .dataframe tbody tr th:only-of-type {\n",
       "        vertical-align: middle;\n",
       "    }\n",
       "\n",
       "    .dataframe tbody tr th {\n",
       "        vertical-align: top;\n",
       "    }\n",
       "\n",
       "    .dataframe thead th {\n",
       "        text-align: right;\n",
       "    }\n",
       "</style>\n",
       "<table border=\"1\" class=\"dataframe\">\n",
       "  <thead>\n",
       "    <tr style=\"text-align: right;\">\n",
       "      <th></th>\n",
       "      <th>user_id</th>\n",
       "      <th>training_choice_time</th>\n",
       "    </tr>\n",
       "  </thead>\n",
       "  <tbody>\n",
       "    <tr>\n",
       "      <th>14</th>\n",
       "      <td>47761</td>\n",
       "      <td>2018-01-01 15:12:25</td>\n",
       "    </tr>\n",
       "    <tr>\n",
       "      <th>27</th>\n",
       "      <td>47768</td>\n",
       "      <td>2018-01-01 18:46:24</td>\n",
       "    </tr>\n",
       "    <tr>\n",
       "      <th>36</th>\n",
       "      <td>47759</td>\n",
       "      <td>2018-01-01 20:06:57</td>\n",
       "    </tr>\n",
       "    <tr>\n",
       "      <th>50</th>\n",
       "      <td>47766</td>\n",
       "      <td>2018-01-02 00:15:02</td>\n",
       "    </tr>\n",
       "    <tr>\n",
       "      <th>59</th>\n",
       "      <td>47779</td>\n",
       "      <td>2018-01-02 04:51:24</td>\n",
       "    </tr>\n",
       "  </tbody>\n",
       "</table>\n",
       "</div>"
      ],
      "text/plain": [
       "    user_id training_choice_time\n",
       "14    47761  2018-01-01 15:12:25\n",
       "27    47768  2018-01-01 18:46:24\n",
       "36    47759  2018-01-01 20:06:57\n",
       "50    47766  2018-01-02 00:15:02\n",
       "59    47779  2018-01-02 04:51:24"
      ]
     },
     "execution_count": 26,
     "metadata": {},
     "output_type": "execute_result"
    }
   ],
   "source": [
    "training_choice_df = total_events_df[total_events_df['event_type'] == 'training_choice']\n",
    "training_choice_df = training_choice_df[['user_id','start_time']].rename(columns={'start_time':'training_choice_time'})\n",
    "training_choice_df.head()"
   ]
  },
  {
   "cell_type": "code",
   "execution_count": 27,
   "metadata": {},
   "outputs": [
    {
     "name": "stdout",
     "output_type": "stream",
     "text": [
      "Количество пользователей, выбравшие тренировку: 6920\n"
     ]
    }
   ],
   "source": [
    "print('Количество пользователей, выбравшие тренировку:', len(training_choice_df['user_id']))"
   ]
  },
  {
   "cell_type": "markdown",
   "metadata": {},
   "source": [
    "5. __Покупка платных тренировок (purchase)__<br>"
   ]
  },
  {
   "cell_type": "code",
   "execution_count": 28,
   "metadata": {},
   "outputs": [
    {
     "data": {
      "text/html": [
       "<div>\n",
       "<style scoped>\n",
       "    .dataframe tbody tr th:only-of-type {\n",
       "        vertical-align: middle;\n",
       "    }\n",
       "\n",
       "    .dataframe tbody tr th {\n",
       "        vertical-align: top;\n",
       "    }\n",
       "\n",
       "    .dataframe thead th {\n",
       "        text-align: right;\n",
       "    }\n",
       "</style>\n",
       "<table border=\"1\" class=\"dataframe\">\n",
       "  <thead>\n",
       "    <tr style=\"text-align: right;\">\n",
       "      <th></th>\n",
       "      <th>user_id</th>\n",
       "      <th>purchase_time</th>\n",
       "    </tr>\n",
       "  </thead>\n",
       "  <tbody>\n",
       "    <tr>\n",
       "      <th>0</th>\n",
       "      <td>67986</td>\n",
       "      <td>2018-11-17 13:18:35</td>\n",
       "    </tr>\n",
       "    <tr>\n",
       "      <th>1</th>\n",
       "      <td>58528</td>\n",
       "      <td>2018-06-23 23:24:43</td>\n",
       "    </tr>\n",
       "    <tr>\n",
       "      <th>2</th>\n",
       "      <td>61351</td>\n",
       "      <td>2018-08-08 09:40:36</td>\n",
       "    </tr>\n",
       "    <tr>\n",
       "      <th>3</th>\n",
       "      <td>48037</td>\n",
       "      <td>2018-01-10 13:08:34</td>\n",
       "    </tr>\n",
       "    <tr>\n",
       "      <th>4</th>\n",
       "      <td>67987</td>\n",
       "      <td>2018-11-13 22:51:38</td>\n",
       "    </tr>\n",
       "  </tbody>\n",
       "</table>\n",
       "</div>"
      ],
      "text/plain": [
       "   user_id       purchase_time\n",
       "0    67986 2018-11-17 13:18:35\n",
       "1    58528 2018-06-23 23:24:43\n",
       "2    61351 2018-08-08 09:40:36\n",
       "3    48037 2018-01-10 13:08:34\n",
       "4    67987 2018-11-13 22:51:38"
      ]
     },
     "execution_count": 28,
     "metadata": {},
     "output_type": "execute_result"
    }
   ],
   "source": [
    "purchase_stage_df = purchase_df[['user_id','start_time']].rename(columns={'start_time':'purchase_time'})\n",
    "purchase_stage_df.head()"
   ]
  },
  {
   "cell_type": "code",
   "execution_count": 29,
   "metadata": {},
   "outputs": [
    {
     "name": "stdout",
     "output_type": "stream",
     "text": [
      "Количество пользователей, купившие платные тренировки: 1974\n"
     ]
    }
   ],
   "source": [
    "purchase_users = purchase_stage_df['user_id']\n",
    "print('Количество пользователей, купившие платные тренировки:', len(purchase_users))"
   ]
  },
  {
   "cell_type": "markdown",
   "metadata": {},
   "source": [
    "Проверим, что в наших датафреймах для каждого пользователя содержится _только по одному событию_, чтобы в последствии удалить дубликаты. Если не удалять дубликаты, то будет сложнее оценить время между этапами поскольку некие этапы будут повторяться тем или иным пользователем, что исказит сравнение времени прохождения разных этапов."
   ]
  },
  {
   "cell_type": "code",
   "execution_count": 30,
   "metadata": {},
   "outputs": [
    {
     "data": {
      "text/plain": [
       "1.0"
      ]
     },
     "execution_count": 30,
     "metadata": {},
     "output_type": "execute_result"
    }
   ],
   "source": [
    "registration_df['user_id'].value_counts().mean()"
   ]
  },
  {
   "cell_type": "code",
   "execution_count": 31,
   "metadata": {},
   "outputs": [
    {
     "data": {
      "text/plain": [
       "1.5529516871692668"
      ]
     },
     "execution_count": 31,
     "metadata": {},
     "output_type": "execute_result"
    }
   ],
   "source": [
    "tutorial_start_df['user_id'].value_counts().mean()"
   ]
  },
  {
   "cell_type": "code",
   "execution_count": 32,
   "metadata": {},
   "outputs": [
    {
     "data": {
      "text/plain": [
       "1.484638097518155"
      ]
     },
     "execution_count": 32,
     "metadata": {},
     "output_type": "execute_result"
    }
   ],
   "source": [
    "tutorial_finish_df['user_id'].value_counts().mean()"
   ]
  },
  {
   "cell_type": "code",
   "execution_count": 33,
   "metadata": {},
   "outputs": [
    {
     "data": {
      "text/plain": [
       "1.0"
      ]
     },
     "execution_count": 33,
     "metadata": {},
     "output_type": "execute_result"
    }
   ],
   "source": [
    "level_choice_df['user_id'].value_counts().mean()"
   ]
  },
  {
   "cell_type": "code",
   "execution_count": 34,
   "metadata": {},
   "outputs": [
    {
     "data": {
      "text/plain": [
       "1.0"
      ]
     },
     "execution_count": 34,
     "metadata": {},
     "output_type": "execute_result"
    }
   ],
   "source": [
    "training_choice_df['user_id'].value_counts().mean()"
   ]
  },
  {
   "cell_type": "markdown",
   "metadata": {},
   "source": [
    "Как мы видим в датафреймах __tutorial_start_df__ и __tutorial_finish_df__ есть дубликаты, об этом нам говорит среднее количество пользователей не равное 1. Тоесть какие-то пользователи могли начинать  обучение и заканчивать его по несколько раз.\n",
    "\n",
    "Перепишем эти датафреймы на те, где будет присутствовать только _первое событие_ (будь-то _начало обучения_ или его _завершение_ ). Для этого сначала _отсортируем датафрейм по времени_ , чтобы сначала шли более ранние события начала или конца обучения, а затем _удалим дубликаты_ по столбцу __user_id__. Таким образом, для каждого __user_id__ останется только первое событие типа __tutorial_start__ или __tutorial_finish__."
   ]
  },
  {
   "cell_type": "code",
   "execution_count": 35,
   "metadata": {},
   "outputs": [
    {
     "data": {
      "text/plain": [
       "1.0"
      ]
     },
     "execution_count": 35,
     "metadata": {},
     "output_type": "execute_result"
    }
   ],
   "source": [
    "tutorial_start_df_without_duplicates = tutorial_start_df.sort_values('tutorial_start_time').drop_duplicates('user_id')\n",
    "tutorial_start_df_without_duplicates['user_id'].value_counts().mean()"
   ]
  },
  {
   "cell_type": "code",
   "execution_count": 36,
   "metadata": {},
   "outputs": [
    {
     "data": {
      "text/plain": [
       "1.0"
      ]
     },
     "execution_count": 36,
     "metadata": {},
     "output_type": "execute_result"
    }
   ],
   "source": [
    "tutorial_finish_df_without_duplicates = tutorial_finish_df.sort_values('tutorial_finish_time').drop_duplicates('user_id')\n",
    "tutorial_finish_df_without_duplicates['user_id'].value_counts().mean()"
   ]
  },
  {
   "cell_type": "markdown",
   "metadata": {},
   "source": [
    "Теперь у нас в датафрейме для каждого этапа присутствуют только уникальные пользователи, это поможет нам лучше сравнивать время между этапами.\n",
    "\n",
    "Но прежде стоит вспомнить, что нам необходимо провести сравнение в разрезе двух групп:\n",
    " - пользователей, прошедшие обучение (те, у которых присутствует событие __tutorial_finish__)\n",
    " - пользователей, не начинавшие обучение (те, у которых отсутствует событие __tutorial_start__)\n",
    " \n",
    "Как мы знаем, __регистрация__  - это обязательный этап, без которого невозможно дальнейшее взаимодействие с приложением. То есть анализируя последующие этапы мы понимаем что там пользователи, которые в любом случае прошли этап регистрации. Мы можем посчитать количество пользователей, которые прошли этап __registration__ и количество тех, которые этап обучения __tutorial_start__. Разница между ними поможет нам узнать список пользователей, которые не начинали обучение (__users_without_started_tutorial__)."
   ]
  },
  {
   "cell_type": "code",
   "execution_count": 37,
   "metadata": {},
   "outputs": [
    {
     "data": {
      "text/plain": [
       "24460"
      ]
     },
     "execution_count": 37,
     "metadata": {},
     "output_type": "execute_result"
    }
   ],
   "source": [
    "registered_users = registration_df['user_id']\n",
    "len(registered_users)"
   ]
  },
  {
   "cell_type": "code",
   "execution_count": 38,
   "metadata": {},
   "outputs": [
    {
     "data": {
      "text/plain": [
       "14551"
      ]
     },
     "execution_count": 38,
     "metadata": {},
     "output_type": "execute_result"
    }
   ],
   "source": [
    "tutorial_start_users = tutorial_start_df_without_duplicates['user_id']\n",
    "len(tutorial_start_users)"
   ]
  },
  {
   "cell_type": "code",
   "execution_count": 39,
   "metadata": {},
   "outputs": [
    {
     "data": {
      "text/plain": [
       "9909"
      ]
     },
     "execution_count": 39,
     "metadata": {},
     "output_type": "execute_result"
    }
   ],
   "source": [
    "users_without_started_tutorial = pd.concat([registered_users, tutorial_start_users]).drop_duplicates(keep=False)\n",
    "len(users_without_started_tutorial)"
   ]
  },
  {
   "cell_type": "code",
   "execution_count": 40,
   "metadata": {},
   "outputs": [],
   "source": [
    "# #It's just additional one option how to calculate users_without_started_tutorial\n",
    "# users_without_started_tutorial = list(set(registered_users) - set(tutorial_start_users))\n",
    "# users_without_started_tutorial = pd.Series(users_without_started_tutorial)\n",
    "# len(users_without_started_tutorial)"
   ]
  },
  {
   "cell_type": "markdown",
   "metadata": {},
   "source": [
    "Узнаем количество пользователей, которые все таки закончили обучение (этап __tutorial_finish__)"
   ]
  },
  {
   "cell_type": "code",
   "execution_count": 41,
   "metadata": {},
   "outputs": [
    {
     "data": {
      "text/plain": [
       "12531"
      ]
     },
     "execution_count": 41,
     "metadata": {},
     "output_type": "execute_result"
    }
   ],
   "source": [
    "tutorial_finish_users = tutorial_finish_df_without_duplicates['user_id']\n",
    "len(tutorial_finish_users)"
   ]
  },
  {
   "cell_type": "markdown",
   "metadata": {},
   "source": [
    "Видим промужуточную статистику:<br>\n",
    " - __количество зарегистрированных пользователей__: __24460__ человек<br>\n",
    " - __количество пользователей, которые не начинали обучение__: __9909__ человек<br>\n",
    " - __количество пользователей, которые начали обучение__: __14551__ человек<br>\n",
    " - __количество пользователей, которые закончили обучение__: __12531__ человек<br>\n",
    "    \n",
    "    Видим, что не все, кто начинает обучение, его заканчивает."
   ]
  },
  {
   "cell_type": "markdown",
   "metadata": {},
   "source": [
    "Поскольку мы хотим сравнить время прохождения  различных этапов для двух групп, то нам стоит понять, какие общие этапы могут быть у обеих групп:\n",
    "\n",
    ">__registration ---> level_choice__<br>\n",
    ">__level_choice ---> training_choice__<br>\n",
    ">__training_choice ---> purchase__<br>"
   ]
  },
  {
   "cell_type": "markdown",
   "metadata": {},
   "source": [
    "\n",
    "Выделим пользователей, которые совершают каждый из трех этапов для группы пользователей, __прошедшие обучение__ (те, у которых присутствует событие __tutorial_finish__) для каждого этапа, сохранив время старта этапа:\n"
   ]
  },
  {
   "cell_type": "code",
   "execution_count": 42,
   "metadata": {},
   "outputs": [],
   "source": [
    "registration_stage_users_w_tutorial_finish = registration_df[registration_df['user_id'].isin(tutorial_finish_users)]\n",
    "level_choice_stage_users_w_tutorial_finish = level_choice_df[level_choice_df['user_id'].isin(tutorial_finish_users)]\n",
    "training_choice_stage_users_w_tutorial_finish = training_choice_df[training_choice_df['user_id'].isin(tutorial_finish_users)]\n",
    "purchase_stage_users_w_tutorial_finish = purchase_stage_df[purchase_stage_df['user_id'].isin(tutorial_finish_users)]"
   ]
  },
  {
   "cell_type": "markdown",
   "metadata": {},
   "source": [
    "Выделим пользователей, которые совершают каждый из трех этапов для группы  пользователей, __не начинавших обучение__ (те, у которых отсутствует событие __tutorial_start__) для каждого этапа, сохранив время старта этапа:"
   ]
  },
  {
   "cell_type": "code",
   "execution_count": 43,
   "metadata": {},
   "outputs": [],
   "source": [
    "registration_stage_users_without_tutorial_start = registration_df[registration_df['user_id'].isin(users_without_started_tutorial)]\n",
    "level_choice_stage_users_without_tutorial_start = level_choice_df[level_choice_df['user_id'].isin(users_without_started_tutorial)]\n",
    "training_choice_stage_users_without_tutorial_start = training_choice_df[training_choice_df['user_id'].isin(users_without_started_tutorial)]\n",
    "purchase_stage_users_without_tutorial_start = purchase_stage_df[purchase_stage_df['user_id'].isin(users_without_started_tutorial)]"
   ]
  },
  {
   "cell_type": "markdown",
   "metadata": {},
   "source": [
    "Количественные показатели храняться в самых переменных, поэтому отобразим ниже уже сразу количество пользователей на разных этапах в каждой группе для наглядности.\n",
    "\n",
    " - Количество пользователей выполнившие __этап регистрации__:\n",
    " __24460__<br>\n",
    " - Количество пользователей из __этапа регистрации__ закончившие обучение:\n",
    "  __12531__<br>\n",
    " - Количество пользователей из __этапа регистрации__ не начавших обучение:\n",
    " __9909__<br><br>\n",
    "\n",
    " - Количество пользователей выполнившие __этап выбора уровня сложности__:\n",
    " __10195__<br>\n",
    " - Количество пользователей из __этапа выбора уровня сложности__ закончившие обучение:\n",
    "  __9132__<br>\n",
    " - Количество пользователей из __этапа выбора уровня сложности__ не начавших обучение:\n",
    " __107__<br><br>\n",
    " \n",
    " - Количество пользователей выполнившие __этап выбора бесплатных тренировок__:\n",
    " __6920__<br>\n",
    " - Количество пользователей из __этапа выбора бесплатных тренировок__ закончившие обучение:\n",
    "  __6211__<br>\n",
    " - Количество пользователей из __этапа выбора бесплатных тренировок__ не начавших обучение:\n",
    " __77__<br><br>\n",
    " \n",
    " - Количество пользователей выполнившие __этап покупки платных тренировок__:\n",
    " __1974__<br>\n",
    " - Количество пользователей из __этапа покупки платных тренировок__ закончившие обучение:\n",
    "  __1781__<br>\n",
    " - Количество пользователей из __этапа покупки платных тренировок__ не начавших обучение:\n",
    " __18__<br>"
   ]
  },
  {
   "cell_type": "markdown",
   "metadata": {},
   "source": [
    "Настало время объединить между собой данные получившихся датафреймов по парам. Это даст нам возможность после вычислить время между разными этапами для каждой из двух групп.\n",
    "\n",
    "Объединить датафреймы мы можем с помощью функции __merge()__, объединяя данные по параметру __user_id__. Также нам нужно объединить данные с использованием параметра __how='inner'__, это позволит в объединеннном датафрейме оставить только такие идентификаторы пользователей, которые есть в обоих датафреймах.\n",
    "\n",
    "Для начала произведем объединения для __группы пользователей, которые закончили обучение.__"
   ]
  },
  {
   "cell_type": "markdown",
   "metadata": {},
   "source": [
    "__1.__ Объединим __этап регистрации и этап выбора уровня сложности тренировки:__"
   ]
  },
  {
   "cell_type": "code",
   "execution_count": 44,
   "metadata": {},
   "outputs": [
    {
     "data": {
      "text/html": [
       "<div>\n",
       "<style scoped>\n",
       "    .dataframe tbody tr th:only-of-type {\n",
       "        vertical-align: middle;\n",
       "    }\n",
       "\n",
       "    .dataframe tbody tr th {\n",
       "        vertical-align: top;\n",
       "    }\n",
       "\n",
       "    .dataframe thead th {\n",
       "        text-align: right;\n",
       "    }\n",
       "</style>\n",
       "<table border=\"1\" class=\"dataframe\">\n",
       "  <thead>\n",
       "    <tr style=\"text-align: right;\">\n",
       "      <th></th>\n",
       "      <th>user_id</th>\n",
       "      <th>registration_time</th>\n",
       "      <th>level_choice_time</th>\n",
       "    </tr>\n",
       "  </thead>\n",
       "  <tbody>\n",
       "    <tr>\n",
       "      <th>0</th>\n",
       "      <td>47759</td>\n",
       "      <td>2018-01-01 08:32:05</td>\n",
       "      <td>2018-01-01 20:05:14</td>\n",
       "    </tr>\n",
       "    <tr>\n",
       "      <th>1</th>\n",
       "      <td>47760</td>\n",
       "      <td>2018-01-01 09:30:10</td>\n",
       "      <td>2018-01-01 16:54:36</td>\n",
       "    </tr>\n",
       "    <tr>\n",
       "      <th>2</th>\n",
       "      <td>47761</td>\n",
       "      <td>2018-01-01 09:39:27</td>\n",
       "      <td>2018-01-01 15:05:04</td>\n",
       "    </tr>\n",
       "    <tr>\n",
       "      <th>3</th>\n",
       "      <td>47766</td>\n",
       "      <td>2018-01-01 15:29:08</td>\n",
       "      <td>2018-01-02 00:07:39</td>\n",
       "    </tr>\n",
       "    <tr>\n",
       "      <th>4</th>\n",
       "      <td>47768</td>\n",
       "      <td>2018-01-01 16:12:42</td>\n",
       "      <td>2018-01-01 18:44:32</td>\n",
       "    </tr>\n",
       "  </tbody>\n",
       "</table>\n",
       "</div>"
      ],
      "text/plain": [
       "   user_id   registration_time   level_choice_time\n",
       "0    47759 2018-01-01 08:32:05 2018-01-01 20:05:14\n",
       "1    47760 2018-01-01 09:30:10 2018-01-01 16:54:36\n",
       "2    47761 2018-01-01 09:39:27 2018-01-01 15:05:04\n",
       "3    47766 2018-01-01 15:29:08 2018-01-02 00:07:39\n",
       "4    47768 2018-01-01 16:12:42 2018-01-01 18:44:32"
      ]
     },
     "execution_count": 44,
     "metadata": {},
     "output_type": "execute_result"
    }
   ],
   "source": [
    "registration_level_choice_merged_df_1 = registration_stage_users_w_tutorial_finish.merge(level_choice_stage_users_w_tutorial_finish,on='user_id',how='inner')\n",
    "registration_level_choice_merged_df_1.head()"
   ]
  },
  {
   "cell_type": "markdown",
   "metadata": {},
   "source": [
    "__2.__ Объединим __этап выбора уровня сложности тренировки и этап выбора бесплатных тренировок:__"
   ]
  },
  {
   "cell_type": "code",
   "execution_count": 45,
   "metadata": {},
   "outputs": [
    {
     "data": {
      "text/html": [
       "<div>\n",
       "<style scoped>\n",
       "    .dataframe tbody tr th:only-of-type {\n",
       "        vertical-align: middle;\n",
       "    }\n",
       "\n",
       "    .dataframe tbody tr th {\n",
       "        vertical-align: top;\n",
       "    }\n",
       "\n",
       "    .dataframe thead th {\n",
       "        text-align: right;\n",
       "    }\n",
       "</style>\n",
       "<table border=\"1\" class=\"dataframe\">\n",
       "  <thead>\n",
       "    <tr style=\"text-align: right;\">\n",
       "      <th></th>\n",
       "      <th>user_id</th>\n",
       "      <th>level_choice_time</th>\n",
       "      <th>training_choice_time</th>\n",
       "    </tr>\n",
       "  </thead>\n",
       "  <tbody>\n",
       "    <tr>\n",
       "      <th>0</th>\n",
       "      <td>47761</td>\n",
       "      <td>2018-01-01 15:05:04</td>\n",
       "      <td>2018-01-01 15:12:25</td>\n",
       "    </tr>\n",
       "    <tr>\n",
       "      <th>1</th>\n",
       "      <td>47768</td>\n",
       "      <td>2018-01-01 18:44:32</td>\n",
       "      <td>2018-01-01 18:46:24</td>\n",
       "    </tr>\n",
       "    <tr>\n",
       "      <th>2</th>\n",
       "      <td>47759</td>\n",
       "      <td>2018-01-01 20:05:14</td>\n",
       "      <td>2018-01-01 20:06:57</td>\n",
       "    </tr>\n",
       "    <tr>\n",
       "      <th>3</th>\n",
       "      <td>47766</td>\n",
       "      <td>2018-01-02 00:07:39</td>\n",
       "      <td>2018-01-02 00:15:02</td>\n",
       "    </tr>\n",
       "    <tr>\n",
       "      <th>4</th>\n",
       "      <td>47779</td>\n",
       "      <td>2018-01-02 04:48:02</td>\n",
       "      <td>2018-01-02 04:51:24</td>\n",
       "    </tr>\n",
       "  </tbody>\n",
       "</table>\n",
       "</div>"
      ],
      "text/plain": [
       "   user_id   level_choice_time training_choice_time\n",
       "0    47761 2018-01-01 15:05:04  2018-01-01 15:12:25\n",
       "1    47768 2018-01-01 18:44:32  2018-01-01 18:46:24\n",
       "2    47759 2018-01-01 20:05:14  2018-01-01 20:06:57\n",
       "3    47766 2018-01-02 00:07:39  2018-01-02 00:15:02\n",
       "4    47779 2018-01-02 04:48:02  2018-01-02 04:51:24"
      ]
     },
     "execution_count": 45,
     "metadata": {},
     "output_type": "execute_result"
    }
   ],
   "source": [
    "level_choice_training_choice_merged_df_1 = level_choice_stage_users_w_tutorial_finish.merge(training_choice_stage_users_w_tutorial_finish,on='user_id',how='inner')\n",
    "level_choice_training_choice_merged_df_1.head()"
   ]
  },
  {
   "cell_type": "markdown",
   "metadata": {},
   "source": [
    "__3.__ Объединим __этап выбора бесплатных тренировок и этап покупки платных тренировок:__"
   ]
  },
  {
   "cell_type": "code",
   "execution_count": 46,
   "metadata": {},
   "outputs": [
    {
     "data": {
      "text/html": [
       "<div>\n",
       "<style scoped>\n",
       "    .dataframe tbody tr th:only-of-type {\n",
       "        vertical-align: middle;\n",
       "    }\n",
       "\n",
       "    .dataframe tbody tr th {\n",
       "        vertical-align: top;\n",
       "    }\n",
       "\n",
       "    .dataframe thead th {\n",
       "        text-align: right;\n",
       "    }\n",
       "</style>\n",
       "<table border=\"1\" class=\"dataframe\">\n",
       "  <thead>\n",
       "    <tr style=\"text-align: right;\">\n",
       "      <th></th>\n",
       "      <th>user_id</th>\n",
       "      <th>training_choice_time</th>\n",
       "      <th>purchase_time</th>\n",
       "    </tr>\n",
       "  </thead>\n",
       "  <tbody>\n",
       "    <tr>\n",
       "      <th>0</th>\n",
       "      <td>47779</td>\n",
       "      <td>2018-01-02 04:51:24</td>\n",
       "      <td>2018-01-07 12:48:08</td>\n",
       "    </tr>\n",
       "    <tr>\n",
       "      <th>1</th>\n",
       "      <td>47771</td>\n",
       "      <td>2018-01-02 14:27:54</td>\n",
       "      <td>2018-01-03 07:30:09</td>\n",
       "    </tr>\n",
       "    <tr>\n",
       "      <th>2</th>\n",
       "      <td>47794</td>\n",
       "      <td>2018-01-02 20:57:30</td>\n",
       "      <td>2018-01-08 01:51:07</td>\n",
       "    </tr>\n",
       "    <tr>\n",
       "      <th>3</th>\n",
       "      <td>47791</td>\n",
       "      <td>2018-01-02 21:37:55</td>\n",
       "      <td>2018-01-03 16:53:34</td>\n",
       "    </tr>\n",
       "    <tr>\n",
       "      <th>4</th>\n",
       "      <td>47797</td>\n",
       "      <td>2018-01-02 21:43:26</td>\n",
       "      <td>2018-01-07 12:59:01</td>\n",
       "    </tr>\n",
       "  </tbody>\n",
       "</table>\n",
       "</div>"
      ],
      "text/plain": [
       "   user_id training_choice_time       purchase_time\n",
       "0    47779  2018-01-02 04:51:24 2018-01-07 12:48:08\n",
       "1    47771  2018-01-02 14:27:54 2018-01-03 07:30:09\n",
       "2    47794  2018-01-02 20:57:30 2018-01-08 01:51:07\n",
       "3    47791  2018-01-02 21:37:55 2018-01-03 16:53:34\n",
       "4    47797  2018-01-02 21:43:26 2018-01-07 12:59:01"
      ]
     },
     "execution_count": 46,
     "metadata": {},
     "output_type": "execute_result"
    }
   ],
   "source": [
    "training_choice_purchase_merged_df_1 = training_choice_stage_users_w_tutorial_finish.merge(purchase_stage_users_w_tutorial_finish,on='user_id',how='inner')\n",
    "training_choice_purchase_merged_df_1.head()"
   ]
  },
  {
   "cell_type": "markdown",
   "metadata": {},
   "source": [
    "Теперь произведем объединения для __группы пользователей, которые не начинали обучение.__<br><br>\n",
    "__1.__ Объединим __этап регистрации и этап выбора уровня сложности тренировки:__"
   ]
  },
  {
   "cell_type": "code",
   "execution_count": 47,
   "metadata": {},
   "outputs": [
    {
     "data": {
      "text/html": [
       "<div>\n",
       "<style scoped>\n",
       "    .dataframe tbody tr th:only-of-type {\n",
       "        vertical-align: middle;\n",
       "    }\n",
       "\n",
       "    .dataframe tbody tr th {\n",
       "        vertical-align: top;\n",
       "    }\n",
       "\n",
       "    .dataframe thead th {\n",
       "        text-align: right;\n",
       "    }\n",
       "</style>\n",
       "<table border=\"1\" class=\"dataframe\">\n",
       "  <thead>\n",
       "    <tr style=\"text-align: right;\">\n",
       "      <th></th>\n",
       "      <th>user_id</th>\n",
       "      <th>registration_time</th>\n",
       "      <th>level_choice_time</th>\n",
       "    </tr>\n",
       "  </thead>\n",
       "  <tbody>\n",
       "    <tr>\n",
       "      <th>0</th>\n",
       "      <td>48136</td>\n",
       "      <td>2018-01-10 11:36:51</td>\n",
       "      <td>2018-01-10 18:32:43</td>\n",
       "    </tr>\n",
       "    <tr>\n",
       "      <th>1</th>\n",
       "      <td>48572</td>\n",
       "      <td>2018-01-16 23:14:46</td>\n",
       "      <td>2018-01-17 04:19:46</td>\n",
       "    </tr>\n",
       "    <tr>\n",
       "      <th>2</th>\n",
       "      <td>48769</td>\n",
       "      <td>2018-01-19 11:45:30</td>\n",
       "      <td>2018-01-19 18:10:09</td>\n",
       "    </tr>\n",
       "    <tr>\n",
       "      <th>3</th>\n",
       "      <td>48775</td>\n",
       "      <td>2018-01-19 13:39:33</td>\n",
       "      <td>2018-01-19 14:38:07</td>\n",
       "    </tr>\n",
       "    <tr>\n",
       "      <th>4</th>\n",
       "      <td>49087</td>\n",
       "      <td>2018-01-24 14:06:05</td>\n",
       "      <td>2018-01-24 16:39:24</td>\n",
       "    </tr>\n",
       "  </tbody>\n",
       "</table>\n",
       "</div>"
      ],
      "text/plain": [
       "   user_id   registration_time   level_choice_time\n",
       "0    48136 2018-01-10 11:36:51 2018-01-10 18:32:43\n",
       "1    48572 2018-01-16 23:14:46 2018-01-17 04:19:46\n",
       "2    48769 2018-01-19 11:45:30 2018-01-19 18:10:09\n",
       "3    48775 2018-01-19 13:39:33 2018-01-19 14:38:07\n",
       "4    49087 2018-01-24 14:06:05 2018-01-24 16:39:24"
      ]
     },
     "execution_count": 47,
     "metadata": {},
     "output_type": "execute_result"
    }
   ],
   "source": [
    "registration_level_choice_merged_df_2 = registration_stage_users_without_tutorial_start.merge(level_choice_stage_users_without_tutorial_start,on='user_id',how='inner')\n",
    "registration_level_choice_merged_df_2.head()"
   ]
  },
  {
   "cell_type": "markdown",
   "metadata": {},
   "source": [
    "__2.__ Объединим __этап выбора уровня сложности тренировки и этап выбора бесплатных тренировок:__"
   ]
  },
  {
   "cell_type": "code",
   "execution_count": 48,
   "metadata": {},
   "outputs": [
    {
     "data": {
      "text/html": [
       "<div>\n",
       "<style scoped>\n",
       "    .dataframe tbody tr th:only-of-type {\n",
       "        vertical-align: middle;\n",
       "    }\n",
       "\n",
       "    .dataframe tbody tr th {\n",
       "        vertical-align: top;\n",
       "    }\n",
       "\n",
       "    .dataframe thead th {\n",
       "        text-align: right;\n",
       "    }\n",
       "</style>\n",
       "<table border=\"1\" class=\"dataframe\">\n",
       "  <thead>\n",
       "    <tr style=\"text-align: right;\">\n",
       "      <th></th>\n",
       "      <th>user_id</th>\n",
       "      <th>level_choice_time</th>\n",
       "      <th>training_choice_time</th>\n",
       "    </tr>\n",
       "  </thead>\n",
       "  <tbody>\n",
       "    <tr>\n",
       "      <th>0</th>\n",
       "      <td>48136</td>\n",
       "      <td>2018-01-10 18:32:43</td>\n",
       "      <td>2018-01-10 18:39:16</td>\n",
       "    </tr>\n",
       "    <tr>\n",
       "      <th>1</th>\n",
       "      <td>48572</td>\n",
       "      <td>2018-01-17 04:19:46</td>\n",
       "      <td>2018-01-17 04:23:14</td>\n",
       "    </tr>\n",
       "    <tr>\n",
       "      <th>2</th>\n",
       "      <td>48775</td>\n",
       "      <td>2018-01-19 14:38:07</td>\n",
       "      <td>2018-01-19 14:46:09</td>\n",
       "    </tr>\n",
       "    <tr>\n",
       "      <th>3</th>\n",
       "      <td>48769</td>\n",
       "      <td>2018-01-19 18:10:09</td>\n",
       "      <td>2018-01-19 18:15:50</td>\n",
       "    </tr>\n",
       "    <tr>\n",
       "      <th>4</th>\n",
       "      <td>49495</td>\n",
       "      <td>2018-01-30 23:52:18</td>\n",
       "      <td>2018-01-30 23:54:50</td>\n",
       "    </tr>\n",
       "  </tbody>\n",
       "</table>\n",
       "</div>"
      ],
      "text/plain": [
       "   user_id   level_choice_time training_choice_time\n",
       "0    48136 2018-01-10 18:32:43  2018-01-10 18:39:16\n",
       "1    48572 2018-01-17 04:19:46  2018-01-17 04:23:14\n",
       "2    48775 2018-01-19 14:38:07  2018-01-19 14:46:09\n",
       "3    48769 2018-01-19 18:10:09  2018-01-19 18:15:50\n",
       "4    49495 2018-01-30 23:52:18  2018-01-30 23:54:50"
      ]
     },
     "execution_count": 48,
     "metadata": {},
     "output_type": "execute_result"
    }
   ],
   "source": [
    "level_choice_training_choice_merged_df_2 = level_choice_stage_users_without_tutorial_start.merge(training_choice_stage_users_without_tutorial_start,on='user_id',how='inner')\n",
    "level_choice_training_choice_merged_df_2.head()"
   ]
  },
  {
   "cell_type": "markdown",
   "metadata": {},
   "source": [
    "__3.__ Объединим __этап выбора бесплатных тренировок и этап покупки платных тренировок:__"
   ]
  },
  {
   "cell_type": "code",
   "execution_count": 49,
   "metadata": {},
   "outputs": [
    {
     "data": {
      "text/html": [
       "<div>\n",
       "<style scoped>\n",
       "    .dataframe tbody tr th:only-of-type {\n",
       "        vertical-align: middle;\n",
       "    }\n",
       "\n",
       "    .dataframe tbody tr th {\n",
       "        vertical-align: top;\n",
       "    }\n",
       "\n",
       "    .dataframe thead th {\n",
       "        text-align: right;\n",
       "    }\n",
       "</style>\n",
       "<table border=\"1\" class=\"dataframe\">\n",
       "  <thead>\n",
       "    <tr style=\"text-align: right;\">\n",
       "      <th></th>\n",
       "      <th>user_id</th>\n",
       "      <th>training_choice_time</th>\n",
       "      <th>purchase_time</th>\n",
       "    </tr>\n",
       "  </thead>\n",
       "  <tbody>\n",
       "    <tr>\n",
       "      <th>0</th>\n",
       "      <td>48775</td>\n",
       "      <td>2018-01-19 14:46:09</td>\n",
       "      <td>2018-01-25 09:50:29</td>\n",
       "    </tr>\n",
       "    <tr>\n",
       "      <th>1</th>\n",
       "      <td>50081</td>\n",
       "      <td>2018-02-07 17:38:42</td>\n",
       "      <td>2018-02-11 19:24:53</td>\n",
       "    </tr>\n",
       "    <tr>\n",
       "      <th>2</th>\n",
       "      <td>50186</td>\n",
       "      <td>2018-02-09 01:17:48</td>\n",
       "      <td>2018-02-11 18:00:25</td>\n",
       "    </tr>\n",
       "    <tr>\n",
       "      <th>3</th>\n",
       "      <td>50528</td>\n",
       "      <td>2018-02-14 02:18:24</td>\n",
       "      <td>2018-02-19 16:05:26</td>\n",
       "    </tr>\n",
       "    <tr>\n",
       "      <th>4</th>\n",
       "      <td>55267</td>\n",
       "      <td>2018-04-26 12:54:07</td>\n",
       "      <td>2018-05-04 21:18:32</td>\n",
       "    </tr>\n",
       "  </tbody>\n",
       "</table>\n",
       "</div>"
      ],
      "text/plain": [
       "   user_id training_choice_time       purchase_time\n",
       "0    48775  2018-01-19 14:46:09 2018-01-25 09:50:29\n",
       "1    50081  2018-02-07 17:38:42 2018-02-11 19:24:53\n",
       "2    50186  2018-02-09 01:17:48 2018-02-11 18:00:25\n",
       "3    50528  2018-02-14 02:18:24 2018-02-19 16:05:26\n",
       "4    55267  2018-04-26 12:54:07 2018-05-04 21:18:32"
      ]
     },
     "execution_count": 49,
     "metadata": {},
     "output_type": "execute_result"
    }
   ],
   "source": [
    "training_choice_purchase_merged_df_2 = training_choice_stage_users_without_tutorial_start.merge(purchase_stage_users_without_tutorial_start,on='user_id',how='inner')\n",
    "training_choice_purchase_merged_df_2.head()"
   ]
  },
  {
   "cell_type": "markdown",
   "metadata": {},
   "source": [
    "Теперь для каждого объединенного датафрейма сделаем столбец __timedelta__, в котором посчитаем _разницу между временем начала первого этапа и временем начала последующего этапа._ Также усредним с помощью функции __mean()__ значения в столбце __timedelta__, чтобы получить __минимальное, среднее и максимальное время__, которое проходит между этапами."
   ]
  },
  {
   "cell_type": "code",
   "execution_count": 50,
   "metadata": {},
   "outputs": [
    {
     "data": {
      "text/html": [
       "<div>\n",
       "<style scoped>\n",
       "    .dataframe tbody tr th:only-of-type {\n",
       "        vertical-align: middle;\n",
       "    }\n",
       "\n",
       "    .dataframe tbody tr th {\n",
       "        vertical-align: top;\n",
       "    }\n",
       "\n",
       "    .dataframe thead th {\n",
       "        text-align: right;\n",
       "    }\n",
       "</style>\n",
       "<table border=\"1\" class=\"dataframe\">\n",
       "  <thead>\n",
       "    <tr style=\"text-align: right;\">\n",
       "      <th></th>\n",
       "      <th>user_id</th>\n",
       "      <th>registration_time</th>\n",
       "      <th>level_choice_time</th>\n",
       "      <th>timedelta</th>\n",
       "    </tr>\n",
       "  </thead>\n",
       "  <tbody>\n",
       "    <tr>\n",
       "      <th>0</th>\n",
       "      <td>47759</td>\n",
       "      <td>2018-01-01 08:32:05</td>\n",
       "      <td>2018-01-01 20:05:14</td>\n",
       "      <td>11:33:09</td>\n",
       "    </tr>\n",
       "    <tr>\n",
       "      <th>1</th>\n",
       "      <td>47760</td>\n",
       "      <td>2018-01-01 09:30:10</td>\n",
       "      <td>2018-01-01 16:54:36</td>\n",
       "      <td>07:24:26</td>\n",
       "    </tr>\n",
       "    <tr>\n",
       "      <th>2</th>\n",
       "      <td>47761</td>\n",
       "      <td>2018-01-01 09:39:27</td>\n",
       "      <td>2018-01-01 15:05:04</td>\n",
       "      <td>05:25:37</td>\n",
       "    </tr>\n",
       "    <tr>\n",
       "      <th>3</th>\n",
       "      <td>47766</td>\n",
       "      <td>2018-01-01 15:29:08</td>\n",
       "      <td>2018-01-02 00:07:39</td>\n",
       "      <td>08:38:31</td>\n",
       "    </tr>\n",
       "    <tr>\n",
       "      <th>4</th>\n",
       "      <td>47768</td>\n",
       "      <td>2018-01-01 16:12:42</td>\n",
       "      <td>2018-01-01 18:44:32</td>\n",
       "      <td>02:31:50</td>\n",
       "    </tr>\n",
       "  </tbody>\n",
       "</table>\n",
       "</div>"
      ],
      "text/plain": [
       "   user_id   registration_time   level_choice_time timedelta\n",
       "0    47759 2018-01-01 08:32:05 2018-01-01 20:05:14  11:33:09\n",
       "1    47760 2018-01-01 09:30:10 2018-01-01 16:54:36  07:24:26\n",
       "2    47761 2018-01-01 09:39:27 2018-01-01 15:05:04  05:25:37\n",
       "3    47766 2018-01-01 15:29:08 2018-01-02 00:07:39  08:38:31\n",
       "4    47768 2018-01-01 16:12:42 2018-01-01 18:44:32  02:31:50"
      ]
     },
     "execution_count": 50,
     "metadata": {},
     "output_type": "execute_result"
    }
   ],
   "source": [
    "registration_level_choice_merged_df_1['timedelta'] = registration_level_choice_merged_df_1['level_choice_time'] - registration_level_choice_merged_df_1['registration_time']\n",
    "registration_level_choice_merged_df_1.head()"
   ]
  },
  {
   "cell_type": "code",
   "execution_count": 51,
   "metadata": {},
   "outputs": [
    {
     "data": {
      "text/plain": [
       "count                      9132\n",
       "mean     0 days 07:05:08.490144\n",
       "std      0 days 04:31:41.194325\n",
       "min             0 days 00:06:07\n",
       "25%      0 days 03:47:53.500000\n",
       "50%      0 days 06:01:46.500000\n",
       "75%      0 days 09:18:06.500000\n",
       "max             1 days 13:26:15\n",
       "Name: timedelta, dtype: object"
      ]
     },
     "execution_count": 51,
     "metadata": {},
     "output_type": "execute_result"
    }
   ],
   "source": [
    "registration_level_choice_merged_df_1['timedelta'].describe()"
   ]
  },
  {
   "cell_type": "code",
   "execution_count": 52,
   "metadata": {},
   "outputs": [
    {
     "data": {
      "text/html": [
       "<div>\n",
       "<style scoped>\n",
       "    .dataframe tbody tr th:only-of-type {\n",
       "        vertical-align: middle;\n",
       "    }\n",
       "\n",
       "    .dataframe tbody tr th {\n",
       "        vertical-align: top;\n",
       "    }\n",
       "\n",
       "    .dataframe thead th {\n",
       "        text-align: right;\n",
       "    }\n",
       "</style>\n",
       "<table border=\"1\" class=\"dataframe\">\n",
       "  <thead>\n",
       "    <tr style=\"text-align: right;\">\n",
       "      <th></th>\n",
       "      <th>user_id</th>\n",
       "      <th>level_choice_time</th>\n",
       "      <th>training_choice_time</th>\n",
       "      <th>timedelta</th>\n",
       "    </tr>\n",
       "  </thead>\n",
       "  <tbody>\n",
       "    <tr>\n",
       "      <th>0</th>\n",
       "      <td>47761</td>\n",
       "      <td>2018-01-01 15:05:04</td>\n",
       "      <td>2018-01-01 15:12:25</td>\n",
       "      <td>00:07:21</td>\n",
       "    </tr>\n",
       "    <tr>\n",
       "      <th>1</th>\n",
       "      <td>47768</td>\n",
       "      <td>2018-01-01 18:44:32</td>\n",
       "      <td>2018-01-01 18:46:24</td>\n",
       "      <td>00:01:52</td>\n",
       "    </tr>\n",
       "    <tr>\n",
       "      <th>2</th>\n",
       "      <td>47759</td>\n",
       "      <td>2018-01-01 20:05:14</td>\n",
       "      <td>2018-01-01 20:06:57</td>\n",
       "      <td>00:01:43</td>\n",
       "    </tr>\n",
       "    <tr>\n",
       "      <th>3</th>\n",
       "      <td>47766</td>\n",
       "      <td>2018-01-02 00:07:39</td>\n",
       "      <td>2018-01-02 00:15:02</td>\n",
       "      <td>00:07:23</td>\n",
       "    </tr>\n",
       "    <tr>\n",
       "      <th>4</th>\n",
       "      <td>47779</td>\n",
       "      <td>2018-01-02 04:48:02</td>\n",
       "      <td>2018-01-02 04:51:24</td>\n",
       "      <td>00:03:22</td>\n",
       "    </tr>\n",
       "  </tbody>\n",
       "</table>\n",
       "</div>"
      ],
      "text/plain": [
       "   user_id   level_choice_time training_choice_time timedelta\n",
       "0    47761 2018-01-01 15:05:04  2018-01-01 15:12:25  00:07:21\n",
       "1    47768 2018-01-01 18:44:32  2018-01-01 18:46:24  00:01:52\n",
       "2    47759 2018-01-01 20:05:14  2018-01-01 20:06:57  00:01:43\n",
       "3    47766 2018-01-02 00:07:39  2018-01-02 00:15:02  00:07:23\n",
       "4    47779 2018-01-02 04:48:02  2018-01-02 04:51:24  00:03:22"
      ]
     },
     "execution_count": 52,
     "metadata": {},
     "output_type": "execute_result"
    }
   ],
   "source": [
    "level_choice_training_choice_merged_df_1['timedelta'] = level_choice_training_choice_merged_df_1['training_choice_time'] - level_choice_training_choice_merged_df_1['level_choice_time']\n",
    "level_choice_training_choice_merged_df_1.head()"
   ]
  },
  {
   "cell_type": "code",
   "execution_count": 53,
   "metadata": {},
   "outputs": [
    {
     "data": {
      "text/plain": [
       "count                      6211\n",
       "mean     0 days 00:05:09.668813\n",
       "std      0 days 00:02:43.241217\n",
       "min             0 days 00:00:15\n",
       "25%             0 days 00:02:56\n",
       "50%             0 days 00:04:47\n",
       "75%             0 days 00:07:01\n",
       "max             0 days 00:15:35\n",
       "Name: timedelta, dtype: object"
      ]
     },
     "execution_count": 53,
     "metadata": {},
     "output_type": "execute_result"
    }
   ],
   "source": [
    "level_choice_training_choice_merged_df_1['timedelta'].describe()"
   ]
  },
  {
   "cell_type": "code",
   "execution_count": 54,
   "metadata": {},
   "outputs": [
    {
     "data": {
      "text/html": [
       "<div>\n",
       "<style scoped>\n",
       "    .dataframe tbody tr th:only-of-type {\n",
       "        vertical-align: middle;\n",
       "    }\n",
       "\n",
       "    .dataframe tbody tr th {\n",
       "        vertical-align: top;\n",
       "    }\n",
       "\n",
       "    .dataframe thead th {\n",
       "        text-align: right;\n",
       "    }\n",
       "</style>\n",
       "<table border=\"1\" class=\"dataframe\">\n",
       "  <thead>\n",
       "    <tr style=\"text-align: right;\">\n",
       "      <th></th>\n",
       "      <th>user_id</th>\n",
       "      <th>training_choice_time</th>\n",
       "      <th>purchase_time</th>\n",
       "      <th>timedelta</th>\n",
       "    </tr>\n",
       "  </thead>\n",
       "  <tbody>\n",
       "    <tr>\n",
       "      <th>0</th>\n",
       "      <td>47779</td>\n",
       "      <td>2018-01-02 04:51:24</td>\n",
       "      <td>2018-01-07 12:48:08</td>\n",
       "      <td>5 days 07:56:44</td>\n",
       "    </tr>\n",
       "    <tr>\n",
       "      <th>1</th>\n",
       "      <td>47771</td>\n",
       "      <td>2018-01-02 14:27:54</td>\n",
       "      <td>2018-01-03 07:30:09</td>\n",
       "      <td>0 days 17:02:15</td>\n",
       "    </tr>\n",
       "    <tr>\n",
       "      <th>2</th>\n",
       "      <td>47794</td>\n",
       "      <td>2018-01-02 20:57:30</td>\n",
       "      <td>2018-01-08 01:51:07</td>\n",
       "      <td>5 days 04:53:37</td>\n",
       "    </tr>\n",
       "    <tr>\n",
       "      <th>3</th>\n",
       "      <td>47791</td>\n",
       "      <td>2018-01-02 21:37:55</td>\n",
       "      <td>2018-01-03 16:53:34</td>\n",
       "      <td>0 days 19:15:39</td>\n",
       "    </tr>\n",
       "    <tr>\n",
       "      <th>4</th>\n",
       "      <td>47797</td>\n",
       "      <td>2018-01-02 21:43:26</td>\n",
       "      <td>2018-01-07 12:59:01</td>\n",
       "      <td>4 days 15:15:35</td>\n",
       "    </tr>\n",
       "  </tbody>\n",
       "</table>\n",
       "</div>"
      ],
      "text/plain": [
       "   user_id training_choice_time       purchase_time       timedelta\n",
       "0    47779  2018-01-02 04:51:24 2018-01-07 12:48:08 5 days 07:56:44\n",
       "1    47771  2018-01-02 14:27:54 2018-01-03 07:30:09 0 days 17:02:15\n",
       "2    47794  2018-01-02 20:57:30 2018-01-08 01:51:07 5 days 04:53:37\n",
       "3    47791  2018-01-02 21:37:55 2018-01-03 16:53:34 0 days 19:15:39\n",
       "4    47797  2018-01-02 21:43:26 2018-01-07 12:59:01 4 days 15:15:35"
      ]
     },
     "execution_count": 54,
     "metadata": {},
     "output_type": "execute_result"
    }
   ],
   "source": [
    "training_choice_purchase_merged_df_1['timedelta'] = training_choice_purchase_merged_df_1['purchase_time'] - training_choice_purchase_merged_df_1['training_choice_time']\n",
    "training_choice_purchase_merged_df_1.head()"
   ]
  },
  {
   "cell_type": "code",
   "execution_count": 55,
   "metadata": {},
   "outputs": [
    {
     "data": {
      "text/plain": [
       "count                      1781\n",
       "mean     3 days 16:59:07.005614\n",
       "std      2 days 03:37:52.042729\n",
       "min             0 days 01:31:41\n",
       "25%             1 days 22:51:29\n",
       "50%             3 days 12:22:50\n",
       "75%             5 days 06:56:21\n",
       "max            10 days 07:56:10\n",
       "Name: timedelta, dtype: object"
      ]
     },
     "execution_count": 55,
     "metadata": {},
     "output_type": "execute_result"
    }
   ],
   "source": [
    "training_choice_purchase_merged_df_1['timedelta'].describe()"
   ]
  },
  {
   "cell_type": "markdown",
   "metadata": {},
   "source": [
    "<hr>"
   ]
  },
  {
   "cell_type": "code",
   "execution_count": 56,
   "metadata": {},
   "outputs": [
    {
     "data": {
      "text/html": [
       "<div>\n",
       "<style scoped>\n",
       "    .dataframe tbody tr th:only-of-type {\n",
       "        vertical-align: middle;\n",
       "    }\n",
       "\n",
       "    .dataframe tbody tr th {\n",
       "        vertical-align: top;\n",
       "    }\n",
       "\n",
       "    .dataframe thead th {\n",
       "        text-align: right;\n",
       "    }\n",
       "</style>\n",
       "<table border=\"1\" class=\"dataframe\">\n",
       "  <thead>\n",
       "    <tr style=\"text-align: right;\">\n",
       "      <th></th>\n",
       "      <th>user_id</th>\n",
       "      <th>registration_time</th>\n",
       "      <th>level_choice_time</th>\n",
       "      <th>timedelta</th>\n",
       "    </tr>\n",
       "  </thead>\n",
       "  <tbody>\n",
       "    <tr>\n",
       "      <th>0</th>\n",
       "      <td>48136</td>\n",
       "      <td>2018-01-10 11:36:51</td>\n",
       "      <td>2018-01-10 18:32:43</td>\n",
       "      <td>06:55:52</td>\n",
       "    </tr>\n",
       "    <tr>\n",
       "      <th>1</th>\n",
       "      <td>48572</td>\n",
       "      <td>2018-01-16 23:14:46</td>\n",
       "      <td>2018-01-17 04:19:46</td>\n",
       "      <td>05:05:00</td>\n",
       "    </tr>\n",
       "    <tr>\n",
       "      <th>2</th>\n",
       "      <td>48769</td>\n",
       "      <td>2018-01-19 11:45:30</td>\n",
       "      <td>2018-01-19 18:10:09</td>\n",
       "      <td>06:24:39</td>\n",
       "    </tr>\n",
       "    <tr>\n",
       "      <th>3</th>\n",
       "      <td>48775</td>\n",
       "      <td>2018-01-19 13:39:33</td>\n",
       "      <td>2018-01-19 14:38:07</td>\n",
       "      <td>00:58:34</td>\n",
       "    </tr>\n",
       "    <tr>\n",
       "      <th>4</th>\n",
       "      <td>49087</td>\n",
       "      <td>2018-01-24 14:06:05</td>\n",
       "      <td>2018-01-24 16:39:24</td>\n",
       "      <td>02:33:19</td>\n",
       "    </tr>\n",
       "  </tbody>\n",
       "</table>\n",
       "</div>"
      ],
      "text/plain": [
       "   user_id   registration_time   level_choice_time timedelta\n",
       "0    48136 2018-01-10 11:36:51 2018-01-10 18:32:43  06:55:52\n",
       "1    48572 2018-01-16 23:14:46 2018-01-17 04:19:46  05:05:00\n",
       "2    48769 2018-01-19 11:45:30 2018-01-19 18:10:09  06:24:39\n",
       "3    48775 2018-01-19 13:39:33 2018-01-19 14:38:07  00:58:34\n",
       "4    49087 2018-01-24 14:06:05 2018-01-24 16:39:24  02:33:19"
      ]
     },
     "execution_count": 56,
     "metadata": {},
     "output_type": "execute_result"
    }
   ],
   "source": [
    "registration_level_choice_merged_df_2['timedelta'] = registration_level_choice_merged_df_2['level_choice_time'] - registration_level_choice_merged_df_2['registration_time']\n",
    "registration_level_choice_merged_df_2.head()"
   ]
  },
  {
   "cell_type": "code",
   "execution_count": 57,
   "metadata": {},
   "outputs": [
    {
     "data": {
      "text/plain": [
       "count                       107\n",
       "mean     0 days 05:10:36.233644\n",
       "std      0 days 03:25:55.053229\n",
       "min             0 days 00:05:08\n",
       "25%             0 days 02:28:16\n",
       "50%             0 days 04:58:09\n",
       "75%             0 days 06:56:55\n",
       "max             0 days 15:06:24\n",
       "Name: timedelta, dtype: object"
      ]
     },
     "execution_count": 57,
     "metadata": {},
     "output_type": "execute_result"
    }
   ],
   "source": [
    "registration_level_choice_merged_df_2['timedelta'].describe()"
   ]
  },
  {
   "cell_type": "code",
   "execution_count": 58,
   "metadata": {},
   "outputs": [
    {
     "data": {
      "text/html": [
       "<div>\n",
       "<style scoped>\n",
       "    .dataframe tbody tr th:only-of-type {\n",
       "        vertical-align: middle;\n",
       "    }\n",
       "\n",
       "    .dataframe tbody tr th {\n",
       "        vertical-align: top;\n",
       "    }\n",
       "\n",
       "    .dataframe thead th {\n",
       "        text-align: right;\n",
       "    }\n",
       "</style>\n",
       "<table border=\"1\" class=\"dataframe\">\n",
       "  <thead>\n",
       "    <tr style=\"text-align: right;\">\n",
       "      <th></th>\n",
       "      <th>user_id</th>\n",
       "      <th>level_choice_time</th>\n",
       "      <th>training_choice_time</th>\n",
       "      <th>timedelta</th>\n",
       "    </tr>\n",
       "  </thead>\n",
       "  <tbody>\n",
       "    <tr>\n",
       "      <th>0</th>\n",
       "      <td>48136</td>\n",
       "      <td>2018-01-10 18:32:43</td>\n",
       "      <td>2018-01-10 18:39:16</td>\n",
       "      <td>00:06:33</td>\n",
       "    </tr>\n",
       "    <tr>\n",
       "      <th>1</th>\n",
       "      <td>48572</td>\n",
       "      <td>2018-01-17 04:19:46</td>\n",
       "      <td>2018-01-17 04:23:14</td>\n",
       "      <td>00:03:28</td>\n",
       "    </tr>\n",
       "    <tr>\n",
       "      <th>2</th>\n",
       "      <td>48775</td>\n",
       "      <td>2018-01-19 14:38:07</td>\n",
       "      <td>2018-01-19 14:46:09</td>\n",
       "      <td>00:08:02</td>\n",
       "    </tr>\n",
       "    <tr>\n",
       "      <th>3</th>\n",
       "      <td>48769</td>\n",
       "      <td>2018-01-19 18:10:09</td>\n",
       "      <td>2018-01-19 18:15:50</td>\n",
       "      <td>00:05:41</td>\n",
       "    </tr>\n",
       "    <tr>\n",
       "      <th>4</th>\n",
       "      <td>49495</td>\n",
       "      <td>2018-01-30 23:52:18</td>\n",
       "      <td>2018-01-30 23:54:50</td>\n",
       "      <td>00:02:32</td>\n",
       "    </tr>\n",
       "  </tbody>\n",
       "</table>\n",
       "</div>"
      ],
      "text/plain": [
       "   user_id   level_choice_time training_choice_time timedelta\n",
       "0    48136 2018-01-10 18:32:43  2018-01-10 18:39:16  00:06:33\n",
       "1    48572 2018-01-17 04:19:46  2018-01-17 04:23:14  00:03:28\n",
       "2    48775 2018-01-19 14:38:07  2018-01-19 14:46:09  00:08:02\n",
       "3    48769 2018-01-19 18:10:09  2018-01-19 18:15:50  00:05:41\n",
       "4    49495 2018-01-30 23:52:18  2018-01-30 23:54:50  00:02:32"
      ]
     },
     "execution_count": 58,
     "metadata": {},
     "output_type": "execute_result"
    }
   ],
   "source": [
    "level_choice_training_choice_merged_df_2['timedelta'] = level_choice_training_choice_merged_df_2['training_choice_time'] - level_choice_training_choice_merged_df_2['level_choice_time']\n",
    "level_choice_training_choice_merged_df_2.head()"
   ]
  },
  {
   "cell_type": "code",
   "execution_count": 59,
   "metadata": {},
   "outputs": [
    {
     "data": {
      "text/plain": [
       "count                        77\n",
       "mean     0 days 00:05:31.077922\n",
       "std      0 days 00:02:46.163027\n",
       "min             0 days 00:00:11\n",
       "25%             0 days 00:03:21\n",
       "50%             0 days 00:05:13\n",
       "75%             0 days 00:07:28\n",
       "max             0 days 00:11:49\n",
       "Name: timedelta, dtype: object"
      ]
     },
     "execution_count": 59,
     "metadata": {},
     "output_type": "execute_result"
    }
   ],
   "source": [
    "level_choice_training_choice_merged_df_2['timedelta'].describe()"
   ]
  },
  {
   "cell_type": "code",
   "execution_count": 60,
   "metadata": {},
   "outputs": [
    {
     "data": {
      "text/html": [
       "<div>\n",
       "<style scoped>\n",
       "    .dataframe tbody tr th:only-of-type {\n",
       "        vertical-align: middle;\n",
       "    }\n",
       "\n",
       "    .dataframe tbody tr th {\n",
       "        vertical-align: top;\n",
       "    }\n",
       "\n",
       "    .dataframe thead th {\n",
       "        text-align: right;\n",
       "    }\n",
       "</style>\n",
       "<table border=\"1\" class=\"dataframe\">\n",
       "  <thead>\n",
       "    <tr style=\"text-align: right;\">\n",
       "      <th></th>\n",
       "      <th>user_id</th>\n",
       "      <th>training_choice_time</th>\n",
       "      <th>purchase_time</th>\n",
       "      <th>timedelta</th>\n",
       "    </tr>\n",
       "  </thead>\n",
       "  <tbody>\n",
       "    <tr>\n",
       "      <th>0</th>\n",
       "      <td>48775</td>\n",
       "      <td>2018-01-19 14:46:09</td>\n",
       "      <td>2018-01-25 09:50:29</td>\n",
       "      <td>5 days 19:04:20</td>\n",
       "    </tr>\n",
       "    <tr>\n",
       "      <th>1</th>\n",
       "      <td>50081</td>\n",
       "      <td>2018-02-07 17:38:42</td>\n",
       "      <td>2018-02-11 19:24:53</td>\n",
       "      <td>4 days 01:46:11</td>\n",
       "    </tr>\n",
       "    <tr>\n",
       "      <th>2</th>\n",
       "      <td>50186</td>\n",
       "      <td>2018-02-09 01:17:48</td>\n",
       "      <td>2018-02-11 18:00:25</td>\n",
       "      <td>2 days 16:42:37</td>\n",
       "    </tr>\n",
       "    <tr>\n",
       "      <th>3</th>\n",
       "      <td>50528</td>\n",
       "      <td>2018-02-14 02:18:24</td>\n",
       "      <td>2018-02-19 16:05:26</td>\n",
       "      <td>5 days 13:47:02</td>\n",
       "    </tr>\n",
       "    <tr>\n",
       "      <th>4</th>\n",
       "      <td>55267</td>\n",
       "      <td>2018-04-26 12:54:07</td>\n",
       "      <td>2018-05-04 21:18:32</td>\n",
       "      <td>8 days 08:24:25</td>\n",
       "    </tr>\n",
       "  </tbody>\n",
       "</table>\n",
       "</div>"
      ],
      "text/plain": [
       "   user_id training_choice_time       purchase_time       timedelta\n",
       "0    48775  2018-01-19 14:46:09 2018-01-25 09:50:29 5 days 19:04:20\n",
       "1    50081  2018-02-07 17:38:42 2018-02-11 19:24:53 4 days 01:46:11\n",
       "2    50186  2018-02-09 01:17:48 2018-02-11 18:00:25 2 days 16:42:37\n",
       "3    50528  2018-02-14 02:18:24 2018-02-19 16:05:26 5 days 13:47:02\n",
       "4    55267  2018-04-26 12:54:07 2018-05-04 21:18:32 8 days 08:24:25"
      ]
     },
     "execution_count": 60,
     "metadata": {},
     "output_type": "execute_result"
    }
   ],
   "source": [
    "training_choice_purchase_merged_df_2['timedelta'] = training_choice_purchase_merged_df_2['purchase_time'] - training_choice_purchase_merged_df_2['training_choice_time']\n",
    "training_choice_purchase_merged_df_2.head()"
   ]
  },
  {
   "cell_type": "code",
   "execution_count": 61,
   "metadata": {},
   "outputs": [
    {
     "data": {
      "text/plain": [
       "count                        18\n",
       "mean     3 days 23:07:16.111111\n",
       "std      1 days 22:59:05.990710\n",
       "min             1 days 00:16:58\n",
       "25%             2 days 08:16:01\n",
       "50%      3 days 17:44:32.500000\n",
       "75%      5 days 07:25:03.750000\n",
       "max             8 days 08:24:25\n",
       "Name: timedelta, dtype: object"
      ]
     },
     "execution_count": 61,
     "metadata": {},
     "output_type": "execute_result"
    }
   ],
   "source": [
    "training_choice_purchase_merged_df_2['timedelta'].describe()"
   ]
  },
  {
   "cell_type": "markdown",
   "metadata": {},
   "source": [
    "<a id=\"Детали1\"></a>\n",
    "Какие данные у нас имеются, прежде чем подойти к заключению анализа __первой гипотезы__? "
   ]
  },
  {
   "cell_type": "markdown",
   "metadata": {},
   "source": [
    "__1.__ Время прохождение этапа __registration ---> level_choice__:<br>\n",
    " + группа, __закончившая обучение__:\n",
    "  - __минимальное время:__ _6 минут 7 секунд_\n",
    "  - __максимальное время:__ _1 день 13 часов 26 минут 15 секунд_\n",
    "  - __cреднее время:__ _7 часов 5 минут 8 секунд_\n",
    " + группа, __не начавшая обучение__:\n",
    "  - __минимальное время:__ _5 минут 8 секунд_\n",
    "  - __максимальное время:__ _15 часов 6 минут 24 секунды_\n",
    "  - __cреднее время:__ _5 часов 10 минут 36 секунд_\n",
    "  \n",
    "__2.__ Время прохождение этапа __level_choice ---> training_choice__:<br>\n",
    " + группа, __закончившая обучение__:\n",
    "  - __минимальное время:__ _15 секунд_\n",
    "  - __максимальное время:__ _15 минут 35 секунд_\n",
    "  - __cреднее время:__ _5 минут 9 секунд_\n",
    " + группа, __не начавшая обучение__:\n",
    "  - __минимальное время:__ _11 секунд_\n",
    "  - __максимальное время:__ _11 минут 49 секунд_\n",
    "  - __cреднее время:__ _5 минут 31 секунда_\n",
    "  \n",
    "__3.__ Время прохождение этапа __training_choice ---> purchase__:<br>\n",
    " + группа, __закончившая обучение__:\n",
    "  - __минимальное время:__ _1 час 31 минута 41 секунда_\n",
    "  - __максимальное время:__ _10 дней 7 часов 56 минут 10 секунд_\n",
    "  - __cреднее время:__ _3 дня 16 часов 59 минут 7 секунд_\n",
    " + группа, __не начавшая обучение__:\n",
    "  - __минимальное время:__ _1 день 16 минут 58 секунд_\n",
    "  - __максимальное время:__ _8 дней 8 часов 24 минуты 25 секунд_\n",
    "  - __cреднее время:__ _3 дня 23 часа 7 минут 16 секунд_"
   ]
  },
  {
   "cell_type": "markdown",
   "metadata": {},
   "source": [
    "Как оказывается этап __registration ---> level_choice__ очевидно искажает время прохождения в сравнении двух этапов, и лишь потому, что в одной из групп еще присутствует этапы _начала тренировок_ (__tutorial_start__) и _окончания тренировок_ (__tutorial_finish__), а в другой этих этапов нет.\n",
    "\n",
    "#### Если же сравнивать среднее время между двумя другими этапами в разрезе двух групп, то можем сказать, что обучение сокращает время их прохождения, хотя и не значительно."
   ]
  },
  {
   "cell_type": "markdown",
   "metadata": {},
   "source": [
    "__Информация будет лучше восприниматься, если мы отобразив ее визуально.__"
   ]
  },
  {
   "cell_type": "markdown",
   "metadata": {},
   "source": [
    "Для построения графиков, давайте переведем тип данных столбцов __timedelta__ в __часы__ или __минуты__ (как единицы измерения), чтобы можно было использовать их в сравнении друг с другом в столбчатых диаграмах."
   ]
  },
  {
   "cell_type": "code",
   "execution_count": 62,
   "metadata": {},
   "outputs": [],
   "source": [
    "registration_level_choice_merged_df_1['timedelta'] = registration_level_choice_merged_df_1['timedelta']/pd.Timedelta('1 hour')\n",
    "registration_level_choice_merged_df_2['timedelta'] = registration_level_choice_merged_df_2['timedelta']/pd.Timedelta('1 hour')\n",
    "\n",
    "level_choice_training_choice_merged_df_1['timedelta'] = level_choice_training_choice_merged_df_1['timedelta']/pd.Timedelta('1 minute')\n",
    "level_choice_training_choice_merged_df_2['timedelta'] = level_choice_training_choice_merged_df_2['timedelta']/pd.Timedelta('1 minute')\n",
    "\n",
    "training_choice_purchase_merged_df_1['timedelta'] = training_choice_purchase_merged_df_1['timedelta']/pd.Timedelta('1 hour')\n",
    "training_choice_purchase_merged_df_2['timedelta'] = training_choice_purchase_merged_df_2['timedelta']/pd.Timedelta('1 hour')"
   ]
  },
  {
   "cell_type": "code",
   "execution_count": 63,
   "metadata": {},
   "outputs": [
    {
     "data": {
      "text/plain": [
       "Text(0.5, 0, 'Время, часы')"
      ]
     },
     "execution_count": 63,
     "metadata": {},
     "output_type": "execute_result"
    },
    {
     "data": {
      "image/png": "[encoded data removed]",
      "text/plain": [
       "<Figure size 864x288 with 2 Axes>"
      ]
     },
     "metadata": {},
     "output_type": "display_data"
    }
   ],
   "source": [
    "fig, axes = plt.subplots(1, 2, figsize=(12,4))\n",
    "axes[0].hist(registration_level_choice_merged_df_1['timedelta'], bins=25)\n",
    "axes[0].set_title('Время прохождения этапа\\n \"registration ---> level_choice\"\\n (те, кто прошел обучение)')\n",
    "axes[0].set_ylabel('Количество пользователей')\n",
    "axes[0].set_xlabel('Время, часы')\n",
    "\n",
    "axes[1].hist(registration_level_choice_merged_df_2['timedelta'])\n",
    "axes[1].set_title('Время прохождения этапа\\n \"registration ---> level_choice\"\\n (те, кто не начинал обучение)')\n",
    "axes[1].set_ylabel('Количество пользователей')\n",
    "axes[1].set_xlabel('Время, часы')"
   ]
  },
  {
   "cell_type": "code",
   "execution_count": 64,
   "metadata": {},
   "outputs": [
    {
     "data": {
      "text/plain": [
       "Text(0.5, 0, 'Время, минуты')"
      ]
     },
     "execution_count": 64,
     "metadata": {},
     "output_type": "execute_result"
    },
    {
     "data": {
      "image/png": "[encoded data removed]",
      "text/plain": [
       "<Figure size 864x288 with 2 Axes>"
      ]
     },
     "metadata": {},
     "output_type": "display_data"
    }
   ],
   "source": [
    "fig, axes = plt.subplots(1, 2, figsize=(12,4))\n",
    "axes[0].hist(level_choice_training_choice_merged_df_1['timedelta'], bins=25, color = 'green')\n",
    "axes[0].set_title('Время прохождения этапа\\n \"level_choice ---> training_choice\"\\n (те, кто прошел обучение)')\n",
    "axes[0].set_ylabel('Количество пользователей')\n",
    "axes[0].set_xlabel('Время, минуты')\n",
    "\n",
    "axes[1].hist(level_choice_training_choice_merged_df_2['timedelta'], color = 'green')\n",
    "axes[1].set_title('Время прохождения этапа\\n \"level_choice ---> training_choice\"\\n (те, кто не начинал обучение)')\n",
    "axes[1].set_ylabel('Количество пользователей')\n",
    "axes[1].set_xlabel('Время, минуты')"
   ]
  },
  {
   "cell_type": "code",
   "execution_count": 65,
   "metadata": {},
   "outputs": [
    {
     "data": {
      "text/plain": [
       "Text(0.5, 0, 'Время, часы')"
      ]
     },
     "execution_count": 65,
     "metadata": {},
     "output_type": "execute_result"
    },
    {
     "data": {
      "image/png": "[encoded data removed]",
      "text/plain": [
       "<Figure size 864x288 with 2 Axes>"
      ]
     },
     "metadata": {},
     "output_type": "display_data"
    }
   ],
   "source": [
    "fig, axes = plt.subplots(1, 2, figsize=(12,4))\n",
    "axes[0].hist(training_choice_purchase_merged_df_1['timedelta'], bins=25, color = 'blue')\n",
    "axes[0].set_title('Время прохождения этапа\\n \"training_choice ---> purchase\"\\n (те, кто прошел обучение)')\n",
    "axes[0].set_ylabel('Количество пользователей')\n",
    "axes[0].set_xlabel('Время, часы')\n",
    "\n",
    "axes[1].hist(training_choice_purchase_merged_df_2['timedelta'], color = 'blue')\n",
    "axes[1].set_title('Время прохождения этапа\\n \"training_choice ---> purchase\"\\n (те, кто не начинал обучение)')\n",
    "axes[1].set_ylabel('Количество пользователей')\n",
    "axes[1].set_xlabel('Время, часы')"
   ]
  },
  {
   "cell_type": "markdown",
   "metadata": {},
   "source": [
    "---\n",
    "\n",
    "<div class=\"alert alert-block alert-warning\">\n",
    "    \n",
    "\n",
    "### Комментарий\n",
    "Получился очень подробный анализ, подкрепленный визуализацией! Отличная работа!\n",
    "\n",
    "</div>\n",
    "\n",
    "---"
   ]
  },
  {
   "cell_type": "markdown",
   "metadata": {},
   "source": [
    "<a id=\"2\"></a>\n",
    "Приступим к анализу __второй гипотезы__, которая звучит так:\n",
    ">#### Существует ли зависимость между вероятностью оплаты тренировки и количеством обучений, которые начинал или завершал пользователь? Нужно доказать, что успешное обучение влияет на оплату само по себе, без разницы, какое оно было по порядку."
   ]
  },
  {
   "cell_type": "markdown",
   "metadata": {},
   "source": [
    "Давайте попробуем выделить разные группы пользователей:\n",
    " - тех, кто начинал обучение (__tutorial_start__) от __1__ до __9__ раз\n",
    " - тех, кто заканчивал обучение (__tutorial_finish__) от __1__ до __9__ раз"
   ]
  },
  {
   "cell_type": "markdown",
   "metadata": {},
   "source": [
    "Выделим пользователей, которые совершали разное количество событий __tutorial_start__ в отдельную переменную __quantity_tutorial_start_per_user_df__."
   ]
  },
  {
   "cell_type": "code",
   "execution_count": 66,
   "metadata": {},
   "outputs": [
    {
     "data": {
      "text/html": [
       "<div>\n",
       "<style scoped>\n",
       "    .dataframe tbody tr th:only-of-type {\n",
       "        vertical-align: middle;\n",
       "    }\n",
       "\n",
       "    .dataframe tbody tr th {\n",
       "        vertical-align: top;\n",
       "    }\n",
       "\n",
       "    .dataframe thead th {\n",
       "        text-align: right;\n",
       "    }\n",
       "</style>\n",
       "<table border=\"1\" class=\"dataframe\">\n",
       "  <thead>\n",
       "    <tr style=\"text-align: right;\">\n",
       "      <th></th>\n",
       "      <th>user_id</th>\n",
       "      <th>count</th>\n",
       "    </tr>\n",
       "  </thead>\n",
       "  <tbody>\n",
       "    <tr>\n",
       "      <th>0</th>\n",
       "      <td>60750</td>\n",
       "      <td>9</td>\n",
       "    </tr>\n",
       "    <tr>\n",
       "      <th>1</th>\n",
       "      <td>54866</td>\n",
       "      <td>9</td>\n",
       "    </tr>\n",
       "    <tr>\n",
       "      <th>2</th>\n",
       "      <td>65460</td>\n",
       "      <td>9</td>\n",
       "    </tr>\n",
       "    <tr>\n",
       "      <th>3</th>\n",
       "      <td>52280</td>\n",
       "      <td>9</td>\n",
       "    </tr>\n",
       "    <tr>\n",
       "      <th>4</th>\n",
       "      <td>70648</td>\n",
       "      <td>9</td>\n",
       "    </tr>\n",
       "    <tr>\n",
       "      <th>...</th>\n",
       "      <td>...</td>\n",
       "      <td>...</td>\n",
       "    </tr>\n",
       "    <tr>\n",
       "      <th>14546</th>\n",
       "      <td>57924</td>\n",
       "      <td>1</td>\n",
       "    </tr>\n",
       "    <tr>\n",
       "      <th>14547</th>\n",
       "      <td>55875</td>\n",
       "      <td>1</td>\n",
       "    </tr>\n",
       "    <tr>\n",
       "      <th>14548</th>\n",
       "      <td>53826</td>\n",
       "      <td>1</td>\n",
       "    </tr>\n",
       "    <tr>\n",
       "      <th>14549</th>\n",
       "      <td>51777</td>\n",
       "      <td>1</td>\n",
       "    </tr>\n",
       "    <tr>\n",
       "      <th>14550</th>\n",
       "      <td>69630</td>\n",
       "      <td>1</td>\n",
       "    </tr>\n",
       "  </tbody>\n",
       "</table>\n",
       "<p>14551 rows × 2 columns</p>\n",
       "</div>"
      ],
      "text/plain": [
       "       user_id  count\n",
       "0        60750      9\n",
       "1        54866      9\n",
       "2        65460      9\n",
       "3        52280      9\n",
       "4        70648      9\n",
       "...        ...    ...\n",
       "14546    57924      1\n",
       "14547    55875      1\n",
       "14548    53826      1\n",
       "14549    51777      1\n",
       "14550    69630      1\n",
       "\n",
       "[14551 rows x 2 columns]"
      ]
     },
     "execution_count": 66,
     "metadata": {},
     "output_type": "execute_result"
    }
   ],
   "source": [
    "quantity_tutorial_start_per_user_df = tutorial_start_df['user_id'].value_counts()\n",
    "quantity_tutorial_start_per_user_df = pd.DataFrame({'user_id':quantity_tutorial_start_per_user_df.index, 'count':quantity_tutorial_start_per_user_df.values})\n",
    "quantity_tutorial_start_per_user_df"
   ]
  },
  {
   "cell_type": "code",
   "execution_count": 67,
   "metadata": {},
   "outputs": [
    {
     "data": {
      "text/plain": [
       "14551"
      ]
     },
     "execution_count": 67,
     "metadata": {},
     "output_type": "execute_result"
    }
   ],
   "source": [
    "len(quantity_tutorial_start_per_user_df)"
   ]
  },
  {
   "cell_type": "markdown",
   "metadata": {},
   "source": [
    "Выделим пользователей, которые совершали разное количество событий __tutorial_finish__ в отдельную переменную __quantity_tutorial_finish_per_user_df__"
   ]
  },
  {
   "cell_type": "code",
   "execution_count": 68,
   "metadata": {},
   "outputs": [
    {
     "data": {
      "text/html": [
       "<div>\n",
       "<style scoped>\n",
       "    .dataframe tbody tr th:only-of-type {\n",
       "        vertical-align: middle;\n",
       "    }\n",
       "\n",
       "    .dataframe tbody tr th {\n",
       "        vertical-align: top;\n",
       "    }\n",
       "\n",
       "    .dataframe thead th {\n",
       "        text-align: right;\n",
       "    }\n",
       "</style>\n",
       "<table border=\"1\" class=\"dataframe\">\n",
       "  <thead>\n",
       "    <tr style=\"text-align: right;\">\n",
       "      <th></th>\n",
       "      <th>user_id</th>\n",
       "      <th>count</th>\n",
       "    </tr>\n",
       "  </thead>\n",
       "  <tbody>\n",
       "    <tr>\n",
       "      <th>0</th>\n",
       "      <td>49684</td>\n",
       "      <td>9</td>\n",
       "    </tr>\n",
       "    <tr>\n",
       "      <th>1</th>\n",
       "      <td>68670</td>\n",
       "      <td>9</td>\n",
       "    </tr>\n",
       "    <tr>\n",
       "      <th>2</th>\n",
       "      <td>48313</td>\n",
       "      <td>9</td>\n",
       "    </tr>\n",
       "    <tr>\n",
       "      <th>3</th>\n",
       "      <td>58532</td>\n",
       "      <td>9</td>\n",
       "    </tr>\n",
       "    <tr>\n",
       "      <th>4</th>\n",
       "      <td>68091</td>\n",
       "      <td>9</td>\n",
       "    </tr>\n",
       "    <tr>\n",
       "      <th>...</th>\n",
       "      <td>...</td>\n",
       "      <td>...</td>\n",
       "    </tr>\n",
       "    <tr>\n",
       "      <th>12526</th>\n",
       "      <td>67561</td>\n",
       "      <td>1</td>\n",
       "    </tr>\n",
       "    <tr>\n",
       "      <th>12527</th>\n",
       "      <td>69608</td>\n",
       "      <td>1</td>\n",
       "    </tr>\n",
       "    <tr>\n",
       "      <th>12528</th>\n",
       "      <td>63463</td>\n",
       "      <td>1</td>\n",
       "    </tr>\n",
       "    <tr>\n",
       "      <th>12529</th>\n",
       "      <td>61412</td>\n",
       "      <td>1</td>\n",
       "    </tr>\n",
       "    <tr>\n",
       "      <th>12530</th>\n",
       "      <td>65536</td>\n",
       "      <td>1</td>\n",
       "    </tr>\n",
       "  </tbody>\n",
       "</table>\n",
       "<p>12531 rows × 2 columns</p>\n",
       "</div>"
      ],
      "text/plain": [
       "       user_id  count\n",
       "0        49684      9\n",
       "1        68670      9\n",
       "2        48313      9\n",
       "3        58532      9\n",
       "4        68091      9\n",
       "...        ...    ...\n",
       "12526    67561      1\n",
       "12527    69608      1\n",
       "12528    63463      1\n",
       "12529    61412      1\n",
       "12530    65536      1\n",
       "\n",
       "[12531 rows x 2 columns]"
      ]
     },
     "execution_count": 68,
     "metadata": {},
     "output_type": "execute_result"
    }
   ],
   "source": [
    "quantity_tutorial_finish_per_user_df = tutorial_finish_df['user_id'].value_counts()\n",
    "quantity_tutorial_finish_per_user_df = pd.DataFrame({'user_id':quantity_tutorial_finish_per_user_df.index, 'count':quantity_tutorial_finish_per_user_df.values})\n",
    "quantity_tutorial_finish_per_user_df"
   ]
  },
  {
   "cell_type": "markdown",
   "metadata": {},
   "source": [
    "Итого имеем, что:\n",
    " - _количество тех кто начинал обучение:_ __14551__\n",
    " - _количество тех кто закончил обучение:_ __12531__"
   ]
  },
  {
   "cell_type": "markdown",
   "metadata": {},
   "source": [
    "Мы можем убедиться, что пользователи соверашли количество событий __tutorial_start__ или __tutorial_finish__ в диапазаоне __от 1 до 9__ раз"
   ]
  },
  {
   "cell_type": "code",
   "execution_count": 69,
   "metadata": {},
   "outputs": [
    {
     "data": {
      "text/plain": [
       "array([9, 8, 7, 6, 5, 4, 3, 2, 1], dtype=int64)"
      ]
     },
     "execution_count": 69,
     "metadata": {},
     "output_type": "execute_result"
    }
   ],
   "source": [
    "quantity_tutorial_finish_per_user_df['count'].unique()"
   ]
  },
  {
   "cell_type": "code",
   "execution_count": 70,
   "metadata": {},
   "outputs": [
    {
     "data": {
      "text/plain": [
       "array([9, 8, 7, 6, 5, 4, 3, 2, 1], dtype=int64)"
      ]
     },
     "execution_count": 70,
     "metadata": {},
     "output_type": "execute_result"
    }
   ],
   "source": [
    "quantity_tutorial_start_per_user_df['count'].unique()"
   ]
  },
  {
   "cell_type": "markdown",
   "metadata": {},
   "source": [
    "Выделим списки пользователей с разным количеством выполнения __tutorial_start__ или __tutorial_finish__ событий в разные множества. Индексы в конце имени каждого множества будут говорить о количестве того или иного события, которое выполнили пользователи в данном списке."
   ]
  },
  {
   "cell_type": "code",
   "execution_count": 71,
   "metadata": {},
   "outputs": [
    {
     "data": {
      "text/plain": [
       "11055"
      ]
     },
     "execution_count": 71,
     "metadata": {},
     "output_type": "execute_result"
    }
   ],
   "source": [
    "#Пользователи выполнившие событие tutorial_start 1 раз\n",
    "tutorial_start_1 = quantity_tutorial_start_per_user_df[quantity_tutorial_start_per_user_df['count']==1]['user_id'].unique()\n",
    "len(tutorial_start_1)"
   ]
  },
  {
   "cell_type": "code",
   "execution_count": 72,
   "metadata": {},
   "outputs": [
    {
     "data": {
      "text/plain": [
       "2018"
      ]
     },
     "execution_count": 72,
     "metadata": {},
     "output_type": "execute_result"
    }
   ],
   "source": [
    "#Пользователи выполнившие событие tutorial_start 2 раза\n",
    "tutorial_start_2 = quantity_tutorial_start_per_user_df[quantity_tutorial_start_per_user_df['count']==2]['user_id'].unique()\n",
    "len(tutorial_start_2)"
   ]
  },
  {
   "cell_type": "code",
   "execution_count": 73,
   "metadata": {},
   "outputs": [
    {
     "data": {
      "text/plain": [
       "531"
      ]
     },
     "execution_count": 73,
     "metadata": {},
     "output_type": "execute_result"
    }
   ],
   "source": [
    "#Пользователи выполнившие событие tutorial_start 3 раза\n",
    "tutorial_start_3 = quantity_tutorial_start_per_user_df[quantity_tutorial_start_per_user_df['count']==3]['user_id'].unique()\n",
    "len(tutorial_start_3)"
   ]
  },
  {
   "cell_type": "code",
   "execution_count": 74,
   "metadata": {},
   "outputs": [
    {
     "data": {
      "text/plain": [
       "227"
      ]
     },
     "execution_count": 74,
     "metadata": {},
     "output_type": "execute_result"
    }
   ],
   "source": [
    "#Пользователи выполнившие событие tutorial_start 4 раза\n",
    "tutorial_start_4 = quantity_tutorial_start_per_user_df[quantity_tutorial_start_per_user_df['count']==4]['user_id'].unique()\n",
    "len(tutorial_start_4)"
   ]
  },
  {
   "cell_type": "code",
   "execution_count": 75,
   "metadata": {},
   "outputs": [
    {
     "data": {
      "text/plain": [
       "163"
      ]
     },
     "execution_count": 75,
     "metadata": {},
     "output_type": "execute_result"
    }
   ],
   "source": [
    "#Пользователи выполнившие событие tutorial_start 5 раз\n",
    "tutorial_start_5 = quantity_tutorial_start_per_user_df[quantity_tutorial_start_per_user_df['count']==5]['user_id'].unique()\n",
    "len(tutorial_start_5)"
   ]
  },
  {
   "cell_type": "code",
   "execution_count": 76,
   "metadata": {},
   "outputs": [
    {
     "data": {
      "text/plain": [
       "138"
      ]
     },
     "execution_count": 76,
     "metadata": {},
     "output_type": "execute_result"
    }
   ],
   "source": [
    "#Пользователи выполнившие событие tutorial_start 6 раз\n",
    "tutorial_start_6 = quantity_tutorial_start_per_user_df[quantity_tutorial_start_per_user_df['count']==6]['user_id'].unique()\n",
    "len(tutorial_start_6)"
   ]
  },
  {
   "cell_type": "code",
   "execution_count": 77,
   "metadata": {},
   "outputs": [
    {
     "data": {
      "text/plain": [
       "143"
      ]
     },
     "execution_count": 77,
     "metadata": {},
     "output_type": "execute_result"
    }
   ],
   "source": [
    "#Пользователи выполнившие событие tutorial_start 7 раз\n",
    "tutorial_start_7 = quantity_tutorial_start_per_user_df[quantity_tutorial_start_per_user_df['count']==7]['user_id'].unique()\n",
    "len(tutorial_start_7)"
   ]
  },
  {
   "cell_type": "code",
   "execution_count": 78,
   "metadata": {},
   "outputs": [
    {
     "data": {
      "text/plain": [
       "123"
      ]
     },
     "execution_count": 78,
     "metadata": {},
     "output_type": "execute_result"
    }
   ],
   "source": [
    "#Пользователи выполнившие событие tutorial_start 8 раз\n",
    "tutorial_start_8 = quantity_tutorial_start_per_user_df[quantity_tutorial_start_per_user_df['count']==8]['user_id'].unique()\n",
    "len(tutorial_start_8)"
   ]
  },
  {
   "cell_type": "code",
   "execution_count": 79,
   "metadata": {},
   "outputs": [
    {
     "data": {
      "text/plain": [
       "153"
      ]
     },
     "execution_count": 79,
     "metadata": {},
     "output_type": "execute_result"
    }
   ],
   "source": [
    "#Пользователи выполнившие событие tutorial_start 9 раз\n",
    "tutorial_start_9 = quantity_tutorial_start_per_user_df[quantity_tutorial_start_per_user_df['count']==9]['user_id'].unique()\n",
    "len(tutorial_start_9)"
   ]
  },
  {
   "cell_type": "code",
   "execution_count": 80,
   "metadata": {},
   "outputs": [
    {
     "data": {
      "text/plain": [
       "9721"
      ]
     },
     "execution_count": 80,
     "metadata": {},
     "output_type": "execute_result"
    }
   ],
   "source": [
    "#Пользователи выполнившие событие tutorial_finish 1 раз\n",
    "tutorial_finish_1 = quantity_tutorial_finish_per_user_df[quantity_tutorial_finish_per_user_df['count']==1]['user_id'].unique()\n",
    "len(tutorial_finish_1)"
   ]
  },
  {
   "cell_type": "code",
   "execution_count": 81,
   "metadata": {},
   "outputs": [
    {
     "data": {
      "text/plain": [
       "1599"
      ]
     },
     "execution_count": 81,
     "metadata": {},
     "output_type": "execute_result"
    }
   ],
   "source": [
    "#Пользователи выполнившие событие tutorial_finish 2 раза\n",
    "tutorial_finish_2 = quantity_tutorial_finish_per_user_df[quantity_tutorial_finish_per_user_df['count']==2]['user_id'].unique()\n",
    "len(tutorial_finish_2)"
   ]
  },
  {
   "cell_type": "code",
   "execution_count": 82,
   "metadata": {},
   "outputs": [
    {
     "data": {
      "text/plain": [
       "430"
      ]
     },
     "execution_count": 82,
     "metadata": {},
     "output_type": "execute_result"
    }
   ],
   "source": [
    "#Пользователи выполнившие событие tutorial_finish 3 раза\n",
    "tutorial_finish_3 = quantity_tutorial_finish_per_user_df[quantity_tutorial_finish_per_user_df['count']==3]['user_id'].unique()\n",
    "len(tutorial_finish_3)"
   ]
  },
  {
   "cell_type": "code",
   "execution_count": 83,
   "metadata": {},
   "outputs": [
    {
     "data": {
      "text/plain": [
       "231"
      ]
     },
     "execution_count": 83,
     "metadata": {},
     "output_type": "execute_result"
    }
   ],
   "source": [
    "#Пользователи выполнившие событие tutorial_finish 4 раза\n",
    "tutorial_finish_4 = quantity_tutorial_finish_per_user_df[quantity_tutorial_finish_per_user_df['count']==4]['user_id'].unique()\n",
    "len(tutorial_finish_4)"
   ]
  },
  {
   "cell_type": "code",
   "execution_count": 84,
   "metadata": {},
   "outputs": [
    {
     "data": {
      "text/plain": [
       "166"
      ]
     },
     "execution_count": 84,
     "metadata": {},
     "output_type": "execute_result"
    }
   ],
   "source": [
    "#Пользователи выполнившие событие tutorial_finish 5 раз\n",
    "tutorial_finish_5 = quantity_tutorial_finish_per_user_df[quantity_tutorial_finish_per_user_df['count']==5]['user_id'].unique()\n",
    "len(tutorial_finish_5)"
   ]
  },
  {
   "cell_type": "code",
   "execution_count": 85,
   "metadata": {},
   "outputs": [
    {
     "data": {
      "text/plain": [
       "166"
      ]
     },
     "execution_count": 85,
     "metadata": {},
     "output_type": "execute_result"
    }
   ],
   "source": [
    "#Пользователи выполнившие событие tutorial_finish 6 раз\n",
    "tutorial_finish_6 = quantity_tutorial_finish_per_user_df[quantity_tutorial_finish_per_user_df['count']==6]['user_id'].unique()\n",
    "len(tutorial_finish_6)"
   ]
  },
  {
   "cell_type": "code",
   "execution_count": 86,
   "metadata": {},
   "outputs": [
    {
     "data": {
      "text/plain": [
       "126"
      ]
     },
     "execution_count": 86,
     "metadata": {},
     "output_type": "execute_result"
    }
   ],
   "source": [
    "#Пользователи выполнившие событие tutorial_finish 7 раз\n",
    "tutorial_finish_7 = quantity_tutorial_finish_per_user_df[quantity_tutorial_finish_per_user_df['count']==7]['user_id'].unique()\n",
    "len(tutorial_finish_7)"
   ]
  },
  {
   "cell_type": "code",
   "execution_count": 87,
   "metadata": {},
   "outputs": [
    {
     "data": {
      "text/plain": [
       "65"
      ]
     },
     "execution_count": 87,
     "metadata": {},
     "output_type": "execute_result"
    }
   ],
   "source": [
    "#Пользователи выполнившие событие tutorial_finish 8 раз\n",
    "tutorial_finish_8 = quantity_tutorial_finish_per_user_df[quantity_tutorial_finish_per_user_df['count']==8]['user_id'].unique()\n",
    "len(tutorial_finish_8)"
   ]
  },
  {
   "cell_type": "code",
   "execution_count": 88,
   "metadata": {},
   "outputs": [
    {
     "data": {
      "text/plain": [
       "27"
      ]
     },
     "execution_count": 88,
     "metadata": {},
     "output_type": "execute_result"
    }
   ],
   "source": [
    "#Пользователи выполнившие событие tutorial_finish 9 раз\n",
    "tutorial_finish_9 = quantity_tutorial_finish_per_user_df[quantity_tutorial_finish_per_user_df['count']==9]['user_id'].unique()\n",
    "len(tutorial_finish_9)"
   ]
  },
  {
   "cell_type": "markdown",
   "metadata": {},
   "source": [
    "Проверим, правильно ли мы поделили пользолателей по группам, для этого просуммируем количество в каждой группе и сравним с общим количеством пользователей, которые выполнили соответствующие этапы."
   ]
  },
  {
   "cell_type": "code",
   "execution_count": 89,
   "metadata": {},
   "outputs": [
    {
     "data": {
      "text/plain": [
       "True"
      ]
     },
     "execution_count": 89,
     "metadata": {},
     "output_type": "execute_result"
    }
   ],
   "source": [
    "len(quantity_tutorial_start_per_user_df) == len(tutorial_start_1) + len(tutorial_start_2) + len(tutorial_start_3) + len(tutorial_start_4) + len(tutorial_start_5) + len(tutorial_start_6) + len(tutorial_start_7) + len(tutorial_start_8) + len(tutorial_start_9)"
   ]
  },
  {
   "cell_type": "code",
   "execution_count": 90,
   "metadata": {},
   "outputs": [
    {
     "data": {
      "text/plain": [
       "True"
      ]
     },
     "execution_count": 90,
     "metadata": {},
     "output_type": "execute_result"
    }
   ],
   "source": [
    "len(quantity_tutorial_finish_per_user_df) == len(tutorial_finish_1) + len(tutorial_finish_2) + len(tutorial_finish_3) + len(tutorial_finish_4) + len(tutorial_finish_5) + len(tutorial_finish_6) + len(tutorial_finish_7) + len(tutorial_finish_8) + len(tutorial_finish_9)"
   ]
  },
  {
   "cell_type": "markdown",
   "metadata": {},
   "source": [
    "Давайте для каждого списка пользователей с разным количеством выполнения __tutorial_start__ или __tutorial_finish__ событий выделим тех пользователей, которые совершили покупку тренировок (вместе с суммой). Индексы в конце имени каждого множества будут по-прежнему говорить о количестве того или иного события, которые выполнили пользователи в данном списке."
   ]
  },
  {
   "cell_type": "code",
   "execution_count": 91,
   "metadata": {},
   "outputs": [
    {
     "data": {
      "text/html": [
       "<div>\n",
       "<style scoped>\n",
       "    .dataframe tbody tr th:only-of-type {\n",
       "        vertical-align: middle;\n",
       "    }\n",
       "\n",
       "    .dataframe tbody tr th {\n",
       "        vertical-align: top;\n",
       "    }\n",
       "\n",
       "    .dataframe thead th {\n",
       "        text-align: right;\n",
       "    }\n",
       "</style>\n",
       "<table border=\"1\" class=\"dataframe\">\n",
       "  <thead>\n",
       "    <tr style=\"text-align: right;\">\n",
       "      <th></th>\n",
       "      <th>user_id</th>\n",
       "      <th>amount</th>\n",
       "    </tr>\n",
       "  </thead>\n",
       "  <tbody>\n",
       "    <tr>\n",
       "      <th>2</th>\n",
       "      <td>61351</td>\n",
       "      <td>100</td>\n",
       "    </tr>\n",
       "    <tr>\n",
       "      <th>3</th>\n",
       "      <td>48037</td>\n",
       "      <td>50</td>\n",
       "    </tr>\n",
       "    <tr>\n",
       "      <th>4</th>\n",
       "      <td>67987</td>\n",
       "      <td>100</td>\n",
       "    </tr>\n",
       "    <tr>\n",
       "      <th>7</th>\n",
       "      <td>61608</td>\n",
       "      <td>50</td>\n",
       "    </tr>\n",
       "    <tr>\n",
       "      <th>8</th>\n",
       "      <td>63035</td>\n",
       "      <td>100</td>\n",
       "    </tr>\n",
       "  </tbody>\n",
       "</table>\n",
       "</div>"
      ],
      "text/plain": [
       "   user_id  amount\n",
       "2    61351     100\n",
       "3    48037      50\n",
       "4    67987     100\n",
       "7    61608      50\n",
       "8    63035     100"
      ]
     },
     "execution_count": 91,
     "metadata": {},
     "output_type": "execute_result"
    }
   ],
   "source": [
    "#Пользователи, которые купили платные тренировки и выполнившие событие tutorial_start 1 раз\n",
    "purchase_tutorial_start_1 = purchase_df[purchase_df['user_id'].isin(tutorial_start_1)][['user_id','amount']]\n",
    "purchase_tutorial_start_1.head()"
   ]
  },
  {
   "cell_type": "code",
   "execution_count": 92,
   "metadata": {},
   "outputs": [
    {
     "data": {
      "text/html": [
       "<div>\n",
       "<style scoped>\n",
       "    .dataframe tbody tr th:only-of-type {\n",
       "        vertical-align: middle;\n",
       "    }\n",
       "\n",
       "    .dataframe tbody tr th {\n",
       "        vertical-align: top;\n",
       "    }\n",
       "\n",
       "    .dataframe thead th {\n",
       "        text-align: right;\n",
       "    }\n",
       "</style>\n",
       "<table border=\"1\" class=\"dataframe\">\n",
       "  <thead>\n",
       "    <tr style=\"text-align: right;\">\n",
       "      <th></th>\n",
       "      <th>user_id</th>\n",
       "      <th>amount</th>\n",
       "    </tr>\n",
       "  </thead>\n",
       "  <tbody>\n",
       "    <tr>\n",
       "      <th>9</th>\n",
       "      <td>57360</td>\n",
       "      <td>50</td>\n",
       "    </tr>\n",
       "    <tr>\n",
       "      <th>14</th>\n",
       "      <td>47887</td>\n",
       "      <td>150</td>\n",
       "    </tr>\n",
       "    <tr>\n",
       "      <th>15</th>\n",
       "      <td>61419</td>\n",
       "      <td>50</td>\n",
       "    </tr>\n",
       "    <tr>\n",
       "      <th>21</th>\n",
       "      <td>69621</td>\n",
       "      <td>150</td>\n",
       "    </tr>\n",
       "    <tr>\n",
       "      <th>23</th>\n",
       "      <td>71715</td>\n",
       "      <td>150</td>\n",
       "    </tr>\n",
       "  </tbody>\n",
       "</table>\n",
       "</div>"
      ],
      "text/plain": [
       "    user_id  amount\n",
       "9     57360      50\n",
       "14    47887     150\n",
       "15    61419      50\n",
       "21    69621     150\n",
       "23    71715     150"
      ]
     },
     "execution_count": 92,
     "metadata": {},
     "output_type": "execute_result"
    }
   ],
   "source": [
    "#Пользователи, которые купили платные тренировки и выполнившие событие tutorial_start 2 раза\n",
    "purchase_tutorial_start_2 = purchase_df[purchase_df['user_id'].isin(tutorial_start_2)][['user_id','amount']]\n",
    "purchase_tutorial_start_2.head()"
   ]
  },
  {
   "cell_type": "code",
   "execution_count": 93,
   "metadata": {},
   "outputs": [
    {
     "data": {
      "text/html": [
       "<div>\n",
       "<style scoped>\n",
       "    .dataframe tbody tr th:only-of-type {\n",
       "        vertical-align: middle;\n",
       "    }\n",
       "\n",
       "    .dataframe tbody tr th {\n",
       "        vertical-align: top;\n",
       "    }\n",
       "\n",
       "    .dataframe thead th {\n",
       "        text-align: right;\n",
       "    }\n",
       "</style>\n",
       "<table border=\"1\" class=\"dataframe\">\n",
       "  <thead>\n",
       "    <tr style=\"text-align: right;\">\n",
       "      <th></th>\n",
       "      <th>user_id</th>\n",
       "      <th>amount</th>\n",
       "    </tr>\n",
       "  </thead>\n",
       "  <tbody>\n",
       "    <tr>\n",
       "      <th>1</th>\n",
       "      <td>58528</td>\n",
       "      <td>100</td>\n",
       "    </tr>\n",
       "    <tr>\n",
       "      <th>19</th>\n",
       "      <td>71030</td>\n",
       "      <td>100</td>\n",
       "    </tr>\n",
       "    <tr>\n",
       "      <th>40</th>\n",
       "      <td>68783</td>\n",
       "      <td>300</td>\n",
       "    </tr>\n",
       "    <tr>\n",
       "      <th>124</th>\n",
       "      <td>66179</td>\n",
       "      <td>100</td>\n",
       "    </tr>\n",
       "    <tr>\n",
       "      <th>131</th>\n",
       "      <td>62866</td>\n",
       "      <td>50</td>\n",
       "    </tr>\n",
       "  </tbody>\n",
       "</table>\n",
       "</div>"
      ],
      "text/plain": [
       "     user_id  amount\n",
       "1      58528     100\n",
       "19     71030     100\n",
       "40     68783     300\n",
       "124    66179     100\n",
       "131    62866      50"
      ]
     },
     "execution_count": 93,
     "metadata": {},
     "output_type": "execute_result"
    }
   ],
   "source": [
    "#Пользователи, которые купили платные тренировки и выполнившие событие tutorial_start 3 раза\n",
    "purchase_tutorial_start_3 = purchase_df[purchase_df['user_id'].isin(tutorial_start_3)][['user_id','amount']]\n",
    "purchase_tutorial_start_3.head()"
   ]
  },
  {
   "cell_type": "code",
   "execution_count": 94,
   "metadata": {},
   "outputs": [
    {
     "data": {
      "text/html": [
       "<div>\n",
       "<style scoped>\n",
       "    .dataframe tbody tr th:only-of-type {\n",
       "        vertical-align: middle;\n",
       "    }\n",
       "\n",
       "    .dataframe tbody tr th {\n",
       "        vertical-align: top;\n",
       "    }\n",
       "\n",
       "    .dataframe thead th {\n",
       "        text-align: right;\n",
       "    }\n",
       "</style>\n",
       "<table border=\"1\" class=\"dataframe\">\n",
       "  <thead>\n",
       "    <tr style=\"text-align: right;\">\n",
       "      <th></th>\n",
       "      <th>user_id</th>\n",
       "      <th>amount</th>\n",
       "    </tr>\n",
       "  </thead>\n",
       "  <tbody>\n",
       "    <tr>\n",
       "      <th>6</th>\n",
       "      <td>65863</td>\n",
       "      <td>25</td>\n",
       "    </tr>\n",
       "    <tr>\n",
       "      <th>25</th>\n",
       "      <td>62536</td>\n",
       "      <td>150</td>\n",
       "    </tr>\n",
       "    <tr>\n",
       "      <th>84</th>\n",
       "      <td>63669</td>\n",
       "      <td>150</td>\n",
       "    </tr>\n",
       "    <tr>\n",
       "      <th>105</th>\n",
       "      <td>54831</td>\n",
       "      <td>150</td>\n",
       "    </tr>\n",
       "    <tr>\n",
       "      <th>205</th>\n",
       "      <td>65575</td>\n",
       "      <td>100</td>\n",
       "    </tr>\n",
       "  </tbody>\n",
       "</table>\n",
       "</div>"
      ],
      "text/plain": [
       "     user_id  amount\n",
       "6      65863      25\n",
       "25     62536     150\n",
       "84     63669     150\n",
       "105    54831     150\n",
       "205    65575     100"
      ]
     },
     "execution_count": 94,
     "metadata": {},
     "output_type": "execute_result"
    }
   ],
   "source": [
    "#Пользователи, которые купили платные тренировки и выполнившие событие tutorial_start 4 раза\n",
    "purchase_tutorial_start_4 = purchase_df[purchase_df['user_id'].isin(tutorial_start_4)][['user_id','amount']]\n",
    "purchase_tutorial_start_4.head()"
   ]
  },
  {
   "cell_type": "code",
   "execution_count": 95,
   "metadata": {},
   "outputs": [
    {
     "data": {
      "text/html": [
       "<div>\n",
       "<style scoped>\n",
       "    .dataframe tbody tr th:only-of-type {\n",
       "        vertical-align: middle;\n",
       "    }\n",
       "\n",
       "    .dataframe tbody tr th {\n",
       "        vertical-align: top;\n",
       "    }\n",
       "\n",
       "    .dataframe thead th {\n",
       "        text-align: right;\n",
       "    }\n",
       "</style>\n",
       "<table border=\"1\" class=\"dataframe\">\n",
       "  <thead>\n",
       "    <tr style=\"text-align: right;\">\n",
       "      <th></th>\n",
       "      <th>user_id</th>\n",
       "      <th>amount</th>\n",
       "    </tr>\n",
       "  </thead>\n",
       "  <tbody>\n",
       "    <tr>\n",
       "      <th>0</th>\n",
       "      <td>67986</td>\n",
       "      <td>50</td>\n",
       "    </tr>\n",
       "    <tr>\n",
       "      <th>111</th>\n",
       "      <td>48001</td>\n",
       "      <td>100</td>\n",
       "    </tr>\n",
       "    <tr>\n",
       "      <th>210</th>\n",
       "      <td>70359</td>\n",
       "      <td>100</td>\n",
       "    </tr>\n",
       "    <tr>\n",
       "      <th>359</th>\n",
       "      <td>64229</td>\n",
       "      <td>100</td>\n",
       "    </tr>\n",
       "    <tr>\n",
       "      <th>468</th>\n",
       "      <td>50593</td>\n",
       "      <td>50</td>\n",
       "    </tr>\n",
       "  </tbody>\n",
       "</table>\n",
       "</div>"
      ],
      "text/plain": [
       "     user_id  amount\n",
       "0      67986      50\n",
       "111    48001     100\n",
       "210    70359     100\n",
       "359    64229     100\n",
       "468    50593      50"
      ]
     },
     "execution_count": 95,
     "metadata": {},
     "output_type": "execute_result"
    }
   ],
   "source": [
    "#Пользователи, которые купили платные тренировки и выполнившие событие tutorial_start 5 раз\n",
    "purchase_tutorial_start_5 = purchase_df[purchase_df['user_id'].isin(tutorial_start_5)][['user_id','amount']]\n",
    "purchase_tutorial_start_5.head()"
   ]
  },
  {
   "cell_type": "code",
   "execution_count": 96,
   "metadata": {},
   "outputs": [
    {
     "data": {
      "text/html": [
       "<div>\n",
       "<style scoped>\n",
       "    .dataframe tbody tr th:only-of-type {\n",
       "        vertical-align: middle;\n",
       "    }\n",
       "\n",
       "    .dataframe tbody tr th {\n",
       "        vertical-align: top;\n",
       "    }\n",
       "\n",
       "    .dataframe thead th {\n",
       "        text-align: right;\n",
       "    }\n",
       "</style>\n",
       "<table border=\"1\" class=\"dataframe\">\n",
       "  <thead>\n",
       "    <tr style=\"text-align: right;\">\n",
       "      <th></th>\n",
       "      <th>user_id</th>\n",
       "      <th>amount</th>\n",
       "    </tr>\n",
       "  </thead>\n",
       "  <tbody>\n",
       "    <tr>\n",
       "      <th>85</th>\n",
       "      <td>70331</td>\n",
       "      <td>50</td>\n",
       "    </tr>\n",
       "    <tr>\n",
       "      <th>204</th>\n",
       "      <td>64868</td>\n",
       "      <td>50</td>\n",
       "    </tr>\n",
       "    <tr>\n",
       "      <th>367</th>\n",
       "      <td>49255</td>\n",
       "      <td>50</td>\n",
       "    </tr>\n",
       "    <tr>\n",
       "      <th>424</th>\n",
       "      <td>66163</td>\n",
       "      <td>150</td>\n",
       "    </tr>\n",
       "    <tr>\n",
       "      <th>453</th>\n",
       "      <td>52492</td>\n",
       "      <td>150</td>\n",
       "    </tr>\n",
       "  </tbody>\n",
       "</table>\n",
       "</div>"
      ],
      "text/plain": [
       "     user_id  amount\n",
       "85     70331      50\n",
       "204    64868      50\n",
       "367    49255      50\n",
       "424    66163     150\n",
       "453    52492     150"
      ]
     },
     "execution_count": 96,
     "metadata": {},
     "output_type": "execute_result"
    }
   ],
   "source": [
    "#Пользователи, которые купили платные тренировки и выполнившие событие tutorial_start 6 раз\n",
    "purchase_tutorial_start_6 = purchase_df[purchase_df['user_id'].isin(tutorial_start_6)][['user_id','amount']]\n",
    "purchase_tutorial_start_6.head()"
   ]
  },
  {
   "cell_type": "code",
   "execution_count": 97,
   "metadata": {},
   "outputs": [
    {
     "data": {
      "text/html": [
       "<div>\n",
       "<style scoped>\n",
       "    .dataframe tbody tr th:only-of-type {\n",
       "        vertical-align: middle;\n",
       "    }\n",
       "\n",
       "    .dataframe tbody tr th {\n",
       "        vertical-align: top;\n",
       "    }\n",
       "\n",
       "    .dataframe thead th {\n",
       "        text-align: right;\n",
       "    }\n",
       "</style>\n",
       "<table border=\"1\" class=\"dataframe\">\n",
       "  <thead>\n",
       "    <tr style=\"text-align: right;\">\n",
       "      <th></th>\n",
       "      <th>user_id</th>\n",
       "      <th>amount</th>\n",
       "    </tr>\n",
       "  </thead>\n",
       "  <tbody>\n",
       "    <tr>\n",
       "      <th>79</th>\n",
       "      <td>50553</td>\n",
       "      <td>150</td>\n",
       "    </tr>\n",
       "    <tr>\n",
       "      <th>184</th>\n",
       "      <td>64209</td>\n",
       "      <td>100</td>\n",
       "    </tr>\n",
       "    <tr>\n",
       "      <th>189</th>\n",
       "      <td>60044</td>\n",
       "      <td>50</td>\n",
       "    </tr>\n",
       "    <tr>\n",
       "      <th>201</th>\n",
       "      <td>49857</td>\n",
       "      <td>100</td>\n",
       "    </tr>\n",
       "    <tr>\n",
       "      <th>263</th>\n",
       "      <td>63627</td>\n",
       "      <td>100</td>\n",
       "    </tr>\n",
       "  </tbody>\n",
       "</table>\n",
       "</div>"
      ],
      "text/plain": [
       "     user_id  amount\n",
       "79     50553     150\n",
       "184    64209     100\n",
       "189    60044      50\n",
       "201    49857     100\n",
       "263    63627     100"
      ]
     },
     "execution_count": 97,
     "metadata": {},
     "output_type": "execute_result"
    }
   ],
   "source": [
    "#Пользователи, которые купили платные тренировки и выполнившие событие tutorial_start 7 раз\n",
    "purchase_tutorial_start_7 = purchase_df[purchase_df['user_id'].isin(tutorial_start_7)][['user_id','amount']]\n",
    "purchase_tutorial_start_7.head()"
   ]
  },
  {
   "cell_type": "code",
   "execution_count": 98,
   "metadata": {},
   "outputs": [
    {
     "data": {
      "text/html": [
       "<div>\n",
       "<style scoped>\n",
       "    .dataframe tbody tr th:only-of-type {\n",
       "        vertical-align: middle;\n",
       "    }\n",
       "\n",
       "    .dataframe tbody tr th {\n",
       "        vertical-align: top;\n",
       "    }\n",
       "\n",
       "    .dataframe thead th {\n",
       "        text-align: right;\n",
       "    }\n",
       "</style>\n",
       "<table border=\"1\" class=\"dataframe\">\n",
       "  <thead>\n",
       "    <tr style=\"text-align: right;\">\n",
       "      <th></th>\n",
       "      <th>user_id</th>\n",
       "      <th>amount</th>\n",
       "    </tr>\n",
       "  </thead>\n",
       "  <tbody>\n",
       "    <tr>\n",
       "      <th>5</th>\n",
       "      <td>51206</td>\n",
       "      <td>100</td>\n",
       "    </tr>\n",
       "    <tr>\n",
       "      <th>139</th>\n",
       "      <td>64973</td>\n",
       "      <td>100</td>\n",
       "    </tr>\n",
       "    <tr>\n",
       "      <th>144</th>\n",
       "      <td>54550</td>\n",
       "      <td>150</td>\n",
       "    </tr>\n",
       "    <tr>\n",
       "      <th>624</th>\n",
       "      <td>52883</td>\n",
       "      <td>50</td>\n",
       "    </tr>\n",
       "    <tr>\n",
       "      <th>626</th>\n",
       "      <td>57305</td>\n",
       "      <td>50</td>\n",
       "    </tr>\n",
       "  </tbody>\n",
       "</table>\n",
       "</div>"
      ],
      "text/plain": [
       "     user_id  amount\n",
       "5      51206     100\n",
       "139    64973     100\n",
       "144    54550     150\n",
       "624    52883      50\n",
       "626    57305      50"
      ]
     },
     "execution_count": 98,
     "metadata": {},
     "output_type": "execute_result"
    }
   ],
   "source": [
    "#Пользователи, которые купили платные тренировки и выполнившие событие tutorial_start 8 раз\n",
    "purchase_tutorial_start_8 = purchase_df[purchase_df['user_id'].isin(tutorial_start_8)][['user_id','amount']]\n",
    "purchase_tutorial_start_8.head()"
   ]
  },
  {
   "cell_type": "code",
   "execution_count": 99,
   "metadata": {},
   "outputs": [
    {
     "data": {
      "text/html": [
       "<div>\n",
       "<style scoped>\n",
       "    .dataframe tbody tr th:only-of-type {\n",
       "        vertical-align: middle;\n",
       "    }\n",
       "\n",
       "    .dataframe tbody tr th {\n",
       "        vertical-align: top;\n",
       "    }\n",
       "\n",
       "    .dataframe thead th {\n",
       "        text-align: right;\n",
       "    }\n",
       "</style>\n",
       "<table border=\"1\" class=\"dataframe\">\n",
       "  <thead>\n",
       "    <tr style=\"text-align: right;\">\n",
       "      <th></th>\n",
       "      <th>user_id</th>\n",
       "      <th>amount</th>\n",
       "    </tr>\n",
       "  </thead>\n",
       "  <tbody>\n",
       "    <tr>\n",
       "      <th>106</th>\n",
       "      <td>51611</td>\n",
       "      <td>50</td>\n",
       "    </tr>\n",
       "    <tr>\n",
       "      <th>178</th>\n",
       "      <td>63362</td>\n",
       "      <td>100</td>\n",
       "    </tr>\n",
       "    <tr>\n",
       "      <th>260</th>\n",
       "      <td>63176</td>\n",
       "      <td>250</td>\n",
       "    </tr>\n",
       "    <tr>\n",
       "      <th>352</th>\n",
       "      <td>52280</td>\n",
       "      <td>50</td>\n",
       "    </tr>\n",
       "    <tr>\n",
       "      <th>396</th>\n",
       "      <td>56838</td>\n",
       "      <td>50</td>\n",
       "    </tr>\n",
       "  </tbody>\n",
       "</table>\n",
       "</div>"
      ],
      "text/plain": [
       "     user_id  amount\n",
       "106    51611      50\n",
       "178    63362     100\n",
       "260    63176     250\n",
       "352    52280      50\n",
       "396    56838      50"
      ]
     },
     "execution_count": 99,
     "metadata": {},
     "output_type": "execute_result"
    }
   ],
   "source": [
    "#Пользователи, которые купили платные тренировки и выполнившие событие tutorial_start 9 раз\n",
    "purchase_tutorial_start_9 = purchase_df[purchase_df['user_id'].isin(tutorial_start_9)][['user_id','amount']]\n",
    "purchase_tutorial_start_9.head()"
   ]
  },
  {
   "cell_type": "code",
   "execution_count": 100,
   "metadata": {},
   "outputs": [
    {
     "data": {
      "text/html": [
       "<div>\n",
       "<style scoped>\n",
       "    .dataframe tbody tr th:only-of-type {\n",
       "        vertical-align: middle;\n",
       "    }\n",
       "\n",
       "    .dataframe tbody tr th {\n",
       "        vertical-align: top;\n",
       "    }\n",
       "\n",
       "    .dataframe thead th {\n",
       "        text-align: right;\n",
       "    }\n",
       "</style>\n",
       "<table border=\"1\" class=\"dataframe\">\n",
       "  <thead>\n",
       "    <tr style=\"text-align: right;\">\n",
       "      <th></th>\n",
       "      <th>user_id</th>\n",
       "      <th>amount</th>\n",
       "    </tr>\n",
       "  </thead>\n",
       "  <tbody>\n",
       "    <tr>\n",
       "      <th>2</th>\n",
       "      <td>61351</td>\n",
       "      <td>100</td>\n",
       "    </tr>\n",
       "    <tr>\n",
       "      <th>3</th>\n",
       "      <td>48037</td>\n",
       "      <td>50</td>\n",
       "    </tr>\n",
       "    <tr>\n",
       "      <th>4</th>\n",
       "      <td>67987</td>\n",
       "      <td>100</td>\n",
       "    </tr>\n",
       "    <tr>\n",
       "      <th>7</th>\n",
       "      <td>61608</td>\n",
       "      <td>50</td>\n",
       "    </tr>\n",
       "    <tr>\n",
       "      <th>8</th>\n",
       "      <td>63035</td>\n",
       "      <td>100</td>\n",
       "    </tr>\n",
       "  </tbody>\n",
       "</table>\n",
       "</div>"
      ],
      "text/plain": [
       "   user_id  amount\n",
       "2    61351     100\n",
       "3    48037      50\n",
       "4    67987     100\n",
       "7    61608      50\n",
       "8    63035     100"
      ]
     },
     "execution_count": 100,
     "metadata": {},
     "output_type": "execute_result"
    }
   ],
   "source": [
    "#Пользователи, которые купили платные тренировки и выполнившие событие tutorial_finish 1 раз\n",
    "purchase_tutorial_finish_1 = purchase_df[purchase_df['user_id'].isin(tutorial_finish_1)][['user_id','amount']]\n",
    "purchase_tutorial_finish_1.head()"
   ]
  },
  {
   "cell_type": "code",
   "execution_count": 101,
   "metadata": {},
   "outputs": [
    {
     "data": {
      "text/html": [
       "<div>\n",
       "<style scoped>\n",
       "    .dataframe tbody tr th:only-of-type {\n",
       "        vertical-align: middle;\n",
       "    }\n",
       "\n",
       "    .dataframe tbody tr th {\n",
       "        vertical-align: top;\n",
       "    }\n",
       "\n",
       "    .dataframe thead th {\n",
       "        text-align: right;\n",
       "    }\n",
       "</style>\n",
       "<table border=\"1\" class=\"dataframe\">\n",
       "  <thead>\n",
       "    <tr style=\"text-align: right;\">\n",
       "      <th></th>\n",
       "      <th>user_id</th>\n",
       "      <th>amount</th>\n",
       "    </tr>\n",
       "  </thead>\n",
       "  <tbody>\n",
       "    <tr>\n",
       "      <th>1</th>\n",
       "      <td>58528</td>\n",
       "      <td>100</td>\n",
       "    </tr>\n",
       "    <tr>\n",
       "      <th>6</th>\n",
       "      <td>65863</td>\n",
       "      <td>25</td>\n",
       "    </tr>\n",
       "    <tr>\n",
       "      <th>9</th>\n",
       "      <td>57360</td>\n",
       "      <td>50</td>\n",
       "    </tr>\n",
       "    <tr>\n",
       "      <th>19</th>\n",
       "      <td>71030</td>\n",
       "      <td>100</td>\n",
       "    </tr>\n",
       "    <tr>\n",
       "      <th>23</th>\n",
       "      <td>71715</td>\n",
       "      <td>150</td>\n",
       "    </tr>\n",
       "  </tbody>\n",
       "</table>\n",
       "</div>"
      ],
      "text/plain": [
       "    user_id  amount\n",
       "1     58528     100\n",
       "6     65863      25\n",
       "9     57360      50\n",
       "19    71030     100\n",
       "23    71715     150"
      ]
     },
     "execution_count": 101,
     "metadata": {},
     "output_type": "execute_result"
    }
   ],
   "source": [
    "#Пользователи, которые купили платные тренировки и выполнившие событие tutorial_finish 2 раза\n",
    "purchase_tutorial_finish_2 = purchase_df[purchase_df['user_id'].isin(tutorial_finish_2)][['user_id','amount']]\n",
    "purchase_tutorial_finish_2.head()"
   ]
  },
  {
   "cell_type": "code",
   "execution_count": 102,
   "metadata": {},
   "outputs": [
    {
     "data": {
      "text/html": [
       "<div>\n",
       "<style scoped>\n",
       "    .dataframe tbody tr th:only-of-type {\n",
       "        vertical-align: middle;\n",
       "    }\n",
       "\n",
       "    .dataframe tbody tr th {\n",
       "        vertical-align: top;\n",
       "    }\n",
       "\n",
       "    .dataframe thead th {\n",
       "        text-align: right;\n",
       "    }\n",
       "</style>\n",
       "<table border=\"1\" class=\"dataframe\">\n",
       "  <thead>\n",
       "    <tr style=\"text-align: right;\">\n",
       "      <th></th>\n",
       "      <th>user_id</th>\n",
       "      <th>amount</th>\n",
       "    </tr>\n",
       "  </thead>\n",
       "  <tbody>\n",
       "    <tr>\n",
       "      <th>84</th>\n",
       "      <td>63669</td>\n",
       "      <td>150</td>\n",
       "    </tr>\n",
       "    <tr>\n",
       "      <th>105</th>\n",
       "      <td>54831</td>\n",
       "      <td>150</td>\n",
       "    </tr>\n",
       "    <tr>\n",
       "      <th>124</th>\n",
       "      <td>66179</td>\n",
       "      <td>100</td>\n",
       "    </tr>\n",
       "    <tr>\n",
       "      <th>131</th>\n",
       "      <td>62866</td>\n",
       "      <td>50</td>\n",
       "    </tr>\n",
       "    <tr>\n",
       "      <th>133</th>\n",
       "      <td>62757</td>\n",
       "      <td>100</td>\n",
       "    </tr>\n",
       "  </tbody>\n",
       "</table>\n",
       "</div>"
      ],
      "text/plain": [
       "     user_id  amount\n",
       "84     63669     150\n",
       "105    54831     150\n",
       "124    66179     100\n",
       "131    62866      50\n",
       "133    62757     100"
      ]
     },
     "execution_count": 102,
     "metadata": {},
     "output_type": "execute_result"
    }
   ],
   "source": [
    "#Пользователи, которые купили платные тренировки и выполнившие событие tutorial_finish 3 раза\n",
    "purchase_tutorial_finish_3 = purchase_df[purchase_df['user_id'].isin(tutorial_finish_3)][['user_id','amount']]\n",
    "purchase_tutorial_finish_3.head()"
   ]
  },
  {
   "cell_type": "code",
   "execution_count": 103,
   "metadata": {},
   "outputs": [
    {
     "data": {
      "text/html": [
       "<div>\n",
       "<style scoped>\n",
       "    .dataframe tbody tr th:only-of-type {\n",
       "        vertical-align: middle;\n",
       "    }\n",
       "\n",
       "    .dataframe tbody tr th {\n",
       "        vertical-align: top;\n",
       "    }\n",
       "\n",
       "    .dataframe thead th {\n",
       "        text-align: right;\n",
       "    }\n",
       "</style>\n",
       "<table border=\"1\" class=\"dataframe\">\n",
       "  <thead>\n",
       "    <tr style=\"text-align: right;\">\n",
       "      <th></th>\n",
       "      <th>user_id</th>\n",
       "      <th>amount</th>\n",
       "    </tr>\n",
       "  </thead>\n",
       "  <tbody>\n",
       "    <tr>\n",
       "      <th>0</th>\n",
       "      <td>67986</td>\n",
       "      <td>50</td>\n",
       "    </tr>\n",
       "    <tr>\n",
       "      <th>25</th>\n",
       "      <td>62536</td>\n",
       "      <td>150</td>\n",
       "    </tr>\n",
       "    <tr>\n",
       "      <th>79</th>\n",
       "      <td>50553</td>\n",
       "      <td>150</td>\n",
       "    </tr>\n",
       "    <tr>\n",
       "      <th>85</th>\n",
       "      <td>70331</td>\n",
       "      <td>50</td>\n",
       "    </tr>\n",
       "    <tr>\n",
       "      <th>111</th>\n",
       "      <td>48001</td>\n",
       "      <td>100</td>\n",
       "    </tr>\n",
       "  </tbody>\n",
       "</table>\n",
       "</div>"
      ],
      "text/plain": [
       "     user_id  amount\n",
       "0      67986      50\n",
       "25     62536     150\n",
       "79     50553     150\n",
       "85     70331      50\n",
       "111    48001     100"
      ]
     },
     "execution_count": 103,
     "metadata": {},
     "output_type": "execute_result"
    }
   ],
   "source": [
    "#Пользователи, которые купили платные тренировки и выполнившие событие tutorial_finish 4 раза\n",
    "purchase_tutorial_finish_4 = purchase_df[purchase_df['user_id'].isin(tutorial_finish_4)][['user_id','amount']]\n",
    "purchase_tutorial_finish_4.head()"
   ]
  },
  {
   "cell_type": "code",
   "execution_count": 104,
   "metadata": {},
   "outputs": [
    {
     "data": {
      "text/html": [
       "<div>\n",
       "<style scoped>\n",
       "    .dataframe tbody tr th:only-of-type {\n",
       "        vertical-align: middle;\n",
       "    }\n",
       "\n",
       "    .dataframe tbody tr th {\n",
       "        vertical-align: top;\n",
       "    }\n",
       "\n",
       "    .dataframe thead th {\n",
       "        text-align: right;\n",
       "    }\n",
       "</style>\n",
       "<table border=\"1\" class=\"dataframe\">\n",
       "  <thead>\n",
       "    <tr style=\"text-align: right;\">\n",
       "      <th></th>\n",
       "      <th>user_id</th>\n",
       "      <th>amount</th>\n",
       "    </tr>\n",
       "  </thead>\n",
       "  <tbody>\n",
       "    <tr>\n",
       "      <th>184</th>\n",
       "      <td>64209</td>\n",
       "      <td>100</td>\n",
       "    </tr>\n",
       "    <tr>\n",
       "      <th>189</th>\n",
       "      <td>60044</td>\n",
       "      <td>50</td>\n",
       "    </tr>\n",
       "    <tr>\n",
       "      <th>210</th>\n",
       "      <td>70359</td>\n",
       "      <td>100</td>\n",
       "    </tr>\n",
       "    <tr>\n",
       "      <th>263</th>\n",
       "      <td>63627</td>\n",
       "      <td>100</td>\n",
       "    </tr>\n",
       "    <tr>\n",
       "      <th>424</th>\n",
       "      <td>66163</td>\n",
       "      <td>150</td>\n",
       "    </tr>\n",
       "  </tbody>\n",
       "</table>\n",
       "</div>"
      ],
      "text/plain": [
       "     user_id  amount\n",
       "184    64209     100\n",
       "189    60044      50\n",
       "210    70359     100\n",
       "263    63627     100\n",
       "424    66163     150"
      ]
     },
     "execution_count": 104,
     "metadata": {},
     "output_type": "execute_result"
    }
   ],
   "source": [
    "#Пользователи, которые купили платные тренировки и выполнившие событие tutorial_finish 5 раз\n",
    "purchase_tutorial_finish_5 = purchase_df[purchase_df['user_id'].isin(tutorial_finish_5)][['user_id','amount']]\n",
    "purchase_tutorial_finish_5.head()"
   ]
  },
  {
   "cell_type": "code",
   "execution_count": 105,
   "metadata": {},
   "outputs": [
    {
     "data": {
      "text/html": [
       "<div>\n",
       "<style scoped>\n",
       "    .dataframe tbody tr th:only-of-type {\n",
       "        vertical-align: middle;\n",
       "    }\n",
       "\n",
       "    .dataframe tbody tr th {\n",
       "        vertical-align: top;\n",
       "    }\n",
       "\n",
       "    .dataframe thead th {\n",
       "        text-align: right;\n",
       "    }\n",
       "</style>\n",
       "<table border=\"1\" class=\"dataframe\">\n",
       "  <thead>\n",
       "    <tr style=\"text-align: right;\">\n",
       "      <th></th>\n",
       "      <th>user_id</th>\n",
       "      <th>amount</th>\n",
       "    </tr>\n",
       "  </thead>\n",
       "  <tbody>\n",
       "    <tr>\n",
       "      <th>5</th>\n",
       "      <td>51206</td>\n",
       "      <td>100</td>\n",
       "    </tr>\n",
       "    <tr>\n",
       "      <th>106</th>\n",
       "      <td>51611</td>\n",
       "      <td>50</td>\n",
       "    </tr>\n",
       "    <tr>\n",
       "      <th>139</th>\n",
       "      <td>64973</td>\n",
       "      <td>100</td>\n",
       "    </tr>\n",
       "    <tr>\n",
       "      <th>204</th>\n",
       "      <td>64868</td>\n",
       "      <td>50</td>\n",
       "    </tr>\n",
       "    <tr>\n",
       "      <th>311</th>\n",
       "      <td>52796</td>\n",
       "      <td>50</td>\n",
       "    </tr>\n",
       "  </tbody>\n",
       "</table>\n",
       "</div>"
      ],
      "text/plain": [
       "     user_id  amount\n",
       "5      51206     100\n",
       "106    51611      50\n",
       "139    64973     100\n",
       "204    64868      50\n",
       "311    52796      50"
      ]
     },
     "execution_count": 105,
     "metadata": {},
     "output_type": "execute_result"
    }
   ],
   "source": [
    "#Пользователи, которые купили платные тренировки и выполнившие событие tutorial_finish 6 раз\n",
    "purchase_tutorial_finish_6 = purchase_df[purchase_df['user_id'].isin(tutorial_finish_6)][['user_id','amount']]\n",
    "purchase_tutorial_finish_6.head()"
   ]
  },
  {
   "cell_type": "code",
   "execution_count": 106,
   "metadata": {},
   "outputs": [
    {
     "data": {
      "text/html": [
       "<div>\n",
       "<style scoped>\n",
       "    .dataframe tbody tr th:only-of-type {\n",
       "        vertical-align: middle;\n",
       "    }\n",
       "\n",
       "    .dataframe tbody tr th {\n",
       "        vertical-align: top;\n",
       "    }\n",
       "\n",
       "    .dataframe thead th {\n",
       "        text-align: right;\n",
       "    }\n",
       "</style>\n",
       "<table border=\"1\" class=\"dataframe\">\n",
       "  <thead>\n",
       "    <tr style=\"text-align: right;\">\n",
       "      <th></th>\n",
       "      <th>user_id</th>\n",
       "      <th>amount</th>\n",
       "    </tr>\n",
       "  </thead>\n",
       "  <tbody>\n",
       "    <tr>\n",
       "      <th>144</th>\n",
       "      <td>54550</td>\n",
       "      <td>150</td>\n",
       "    </tr>\n",
       "    <tr>\n",
       "      <th>396</th>\n",
       "      <td>56838</td>\n",
       "      <td>50</td>\n",
       "    </tr>\n",
       "    <tr>\n",
       "      <th>428</th>\n",
       "      <td>55698</td>\n",
       "      <td>50</td>\n",
       "    </tr>\n",
       "    <tr>\n",
       "      <th>787</th>\n",
       "      <td>67285</td>\n",
       "      <td>150</td>\n",
       "    </tr>\n",
       "    <tr>\n",
       "      <th>892</th>\n",
       "      <td>58578</td>\n",
       "      <td>100</td>\n",
       "    </tr>\n",
       "  </tbody>\n",
       "</table>\n",
       "</div>"
      ],
      "text/plain": [
       "     user_id  amount\n",
       "144    54550     150\n",
       "396    56838      50\n",
       "428    55698      50\n",
       "787    67285     150\n",
       "892    58578     100"
      ]
     },
     "execution_count": 106,
     "metadata": {},
     "output_type": "execute_result"
    }
   ],
   "source": [
    "#Пользователи, которые купили платные тренировки и выполнившие событие tutorial_finish 7 раз\n",
    "purchase_tutorial_finish_7 = purchase_df[purchase_df['user_id'].isin(tutorial_finish_7)][['user_id','amount']]\n",
    "purchase_tutorial_finish_7.head()"
   ]
  },
  {
   "cell_type": "code",
   "execution_count": 107,
   "metadata": {},
   "outputs": [
    {
     "data": {
      "text/html": [
       "<div>\n",
       "<style scoped>\n",
       "    .dataframe tbody tr th:only-of-type {\n",
       "        vertical-align: middle;\n",
       "    }\n",
       "\n",
       "    .dataframe tbody tr th {\n",
       "        vertical-align: top;\n",
       "    }\n",
       "\n",
       "    .dataframe thead th {\n",
       "        text-align: right;\n",
       "    }\n",
       "</style>\n",
       "<table border=\"1\" class=\"dataframe\">\n",
       "  <thead>\n",
       "    <tr style=\"text-align: right;\">\n",
       "      <th></th>\n",
       "      <th>user_id</th>\n",
       "      <th>amount</th>\n",
       "    </tr>\n",
       "  </thead>\n",
       "  <tbody>\n",
       "    <tr>\n",
       "      <th>178</th>\n",
       "      <td>63362</td>\n",
       "      <td>100</td>\n",
       "    </tr>\n",
       "    <tr>\n",
       "      <th>260</th>\n",
       "      <td>63176</td>\n",
       "      <td>250</td>\n",
       "    </tr>\n",
       "    <tr>\n",
       "      <th>596</th>\n",
       "      <td>48146</td>\n",
       "      <td>100</td>\n",
       "    </tr>\n",
       "    <tr>\n",
       "      <th>1272</th>\n",
       "      <td>59268</td>\n",
       "      <td>200</td>\n",
       "    </tr>\n",
       "    <tr>\n",
       "      <th>1317</th>\n",
       "      <td>70297</td>\n",
       "      <td>50</td>\n",
       "    </tr>\n",
       "  </tbody>\n",
       "</table>\n",
       "</div>"
      ],
      "text/plain": [
       "      user_id  amount\n",
       "178     63362     100\n",
       "260     63176     250\n",
       "596     48146     100\n",
       "1272    59268     200\n",
       "1317    70297      50"
      ]
     },
     "execution_count": 107,
     "metadata": {},
     "output_type": "execute_result"
    }
   ],
   "source": [
    "#Пользователи, которые купили платные тренировки и выполнившие событие tutorial_finish 8 раз\n",
    "purchase_tutorial_finish_8 = purchase_df[purchase_df['user_id'].isin(tutorial_finish_8)][['user_id','amount']]\n",
    "purchase_tutorial_finish_8.head()"
   ]
  },
  {
   "cell_type": "code",
   "execution_count": 108,
   "metadata": {},
   "outputs": [
    {
     "data": {
      "text/html": [
       "<div>\n",
       "<style scoped>\n",
       "    .dataframe tbody tr th:only-of-type {\n",
       "        vertical-align: middle;\n",
       "    }\n",
       "\n",
       "    .dataframe tbody tr th {\n",
       "        vertical-align: top;\n",
       "    }\n",
       "\n",
       "    .dataframe thead th {\n",
       "        text-align: right;\n",
       "    }\n",
       "</style>\n",
       "<table border=\"1\" class=\"dataframe\">\n",
       "  <thead>\n",
       "    <tr style=\"text-align: right;\">\n",
       "      <th></th>\n",
       "      <th>user_id</th>\n",
       "      <th>amount</th>\n",
       "    </tr>\n",
       "  </thead>\n",
       "  <tbody>\n",
       "    <tr>\n",
       "      <th>619</th>\n",
       "      <td>62844</td>\n",
       "      <td>100</td>\n",
       "    </tr>\n",
       "    <tr>\n",
       "      <th>1096</th>\n",
       "      <td>67994</td>\n",
       "      <td>50</td>\n",
       "    </tr>\n",
       "    <tr>\n",
       "      <th>1253</th>\n",
       "      <td>49726</td>\n",
       "      <td>100</td>\n",
       "    </tr>\n",
       "    <tr>\n",
       "      <th>1584</th>\n",
       "      <td>51717</td>\n",
       "      <td>50</td>\n",
       "    </tr>\n",
       "    <tr>\n",
       "      <th>1944</th>\n",
       "      <td>57184</td>\n",
       "      <td>50</td>\n",
       "    </tr>\n",
       "  </tbody>\n",
       "</table>\n",
       "</div>"
      ],
      "text/plain": [
       "      user_id  amount\n",
       "619     62844     100\n",
       "1096    67994      50\n",
       "1253    49726     100\n",
       "1584    51717      50\n",
       "1944    57184      50"
      ]
     },
     "execution_count": 108,
     "metadata": {},
     "output_type": "execute_result"
    }
   ],
   "source": [
    "#Пользователи, которые купили платные тренировки и выполнившие событие tutorial_finish 9 раз\n",
    "purchase_tutorial_finish_9 = purchase_df[purchase_df['user_id'].isin(tutorial_finish_9)][['user_id','amount']]\n",
    "purchase_tutorial_finish_9.head()"
   ]
  },
  {
   "cell_type": "markdown",
   "metadata": {},
   "source": [
    "Давайте расчитаем проценты пользователей, которые совершают оплаты, в зависимости от количества событий __tutorial_start__ и __tutorial_finish__, которые они совершают:"
   ]
  },
  {
   "cell_type": "code",
   "execution_count": 109,
   "metadata": {},
   "outputs": [
    {
     "name": "stdout",
     "output_type": "stream",
     "text": [
      "Процент пользователей, которые совершили оплату из тех, кто:\n",
      "\n",
      " - начинал обучение 1 раз: 13.24%\n",
      " - начинал обучение 2 раза: 13.43%\n",
      " - начинал обучение 3 раза: 15.44%\n",
      " - начинал обучение 4 раза: 15.42%\n",
      " - начинал обучение 5 раз: 15.34%\n",
      " - начинал обучение 6 раз: 10.87%\n",
      " - начинал обучение 7 раз: 16.08%\n",
      " - начинал обучение 8 раз: 15.45%\n",
      " - начинал обучение 9 раз: 14.38%\n"
     ]
    }
   ],
   "source": [
    "rate_tutorial_start_1 = purchase_tutorial_start_1['user_id'].nunique() / len(tutorial_start_1)\n",
    "rate_tutorial_start_2 = purchase_tutorial_start_2['user_id'].nunique() / len(tutorial_start_2)\n",
    "rate_tutorial_start_3 = purchase_tutorial_start_3['user_id'].nunique() / len(tutorial_start_3)\n",
    "rate_tutorial_start_4 = purchase_tutorial_start_4['user_id'].nunique() / len(tutorial_start_4)\n",
    "rate_tutorial_start_5 = purchase_tutorial_start_5['user_id'].nunique() / len(tutorial_start_5)\n",
    "rate_tutorial_start_6 = purchase_tutorial_start_6['user_id'].nunique() / len(tutorial_start_6)\n",
    "rate_tutorial_start_7 = purchase_tutorial_start_7['user_id'].nunique() / len(tutorial_start_7)\n",
    "rate_tutorial_start_8 = purchase_tutorial_start_8['user_id'].nunique() / len(tutorial_start_8)\n",
    "rate_tutorial_start_9 = purchase_tutorial_start_9['user_id'].nunique() / len(tutorial_start_9)\n",
    "print ('Процент пользователей, которые совершили оплату из тех, кто:\\n')\n",
    "print(' - начинал обучение 1 раз: {:.2%}'.format(rate_tutorial_start_1))\n",
    "print(' - начинал обучение 2 раза: {:.2%}'.format(rate_tutorial_start_2))\n",
    "print(' - начинал обучение 3 раза: {:.2%}'.format(rate_tutorial_start_3))\n",
    "print(' - начинал обучение 4 раза: {:.2%}'.format(rate_tutorial_start_4))\n",
    "print(' - начинал обучение 5 раз: {:.2%}'.format(rate_tutorial_start_5))\n",
    "print(' - начинал обучение 6 раз: {:.2%}'.format(rate_tutorial_start_6))\n",
    "print(' - начинал обучение 7 раз: {:.2%}'.format(rate_tutorial_start_7))\n",
    "print(' - начинал обучение 8 раз: {:.2%}'.format(rate_tutorial_start_8))\n",
    "print(' - начинал обучение 9 раз: {:.2%}'.format(rate_tutorial_start_9))"
   ]
  },
  {
   "cell_type": "code",
   "execution_count": 110,
   "metadata": {},
   "outputs": [
    {
     "name": "stdout",
     "output_type": "stream",
     "text": [
      "Процент пользователей, которые совершили оплату из тех, кто:\n",
      "\n",
      " - завершил обучение 1 раз: 14.05%\n",
      " - завершил обучение 2 раза: 14.70%\n",
      " - завершил обучение 3 раза: 15.81%\n",
      " - завершил обучение 4 раза: 14.72%\n",
      " - завершил обучение 5 раз: 13.25%\n",
      " - завершил обучение 6 раз: 15.06%\n",
      " - завершил обучение 7 раз: 12.70%\n",
      " - завершил обучение 8 раз: 15.38%\n",
      " - завершил обучение 9 раз: 18.52%\n"
     ]
    }
   ],
   "source": [
    "rate_tutorial_finish_1 = purchase_tutorial_finish_1['user_id'].nunique() / len(tutorial_finish_1)\n",
    "rate_tutorial_finish_2 = purchase_tutorial_finish_2['user_id'].nunique() / len(tutorial_finish_2)\n",
    "rate_tutorial_finish_3 = purchase_tutorial_finish_3['user_id'].nunique() / len(tutorial_finish_3)\n",
    "rate_tutorial_finish_4 = purchase_tutorial_finish_4['user_id'].nunique() / len(tutorial_finish_4)\n",
    "rate_tutorial_finish_5 = purchase_tutorial_finish_5['user_id'].nunique() / len(tutorial_finish_5)\n",
    "rate_tutorial_finish_6 = purchase_tutorial_finish_6['user_id'].nunique() / len(tutorial_finish_6)\n",
    "rate_tutorial_finish_7 = purchase_tutorial_finish_7['user_id'].nunique() / len(tutorial_finish_7)\n",
    "rate_tutorial_finish_8 = purchase_tutorial_finish_8['user_id'].nunique() / len(tutorial_finish_8)\n",
    "rate_tutorial_finish_9 = purchase_tutorial_finish_9['user_id'].nunique() / len(tutorial_finish_9)\n",
    "print ('Процент пользователей, которые совершили оплату из тех, кто:\\n')\n",
    "print(' - завершил обучение 1 раз: {:.2%}'.format(rate_tutorial_finish_1))\n",
    "print(' - завершил обучение 2 раза: {:.2%}'.format(rate_tutorial_finish_2))\n",
    "print(' - завершил обучение 3 раза: {:.2%}'.format(rate_tutorial_finish_3))\n",
    "print(' - завершил обучение 4 раза: {:.2%}'.format(rate_tutorial_finish_4))\n",
    "print(' - завершил обучение 5 раз: {:.2%}'.format(rate_tutorial_finish_5))\n",
    "print(' - завершил обучение 6 раз: {:.2%}'.format(rate_tutorial_finish_6))\n",
    "print(' - завершил обучение 7 раз: {:.2%}'.format(rate_tutorial_finish_7))\n",
    "print(' - завершил обучение 8 раз: {:.2%}'.format(rate_tutorial_finish_8))\n",
    "print(' - завершил обучение 9 раз: {:.2%}'.format(rate_tutorial_finish_9))"
   ]
  },
  {
   "cell_type": "markdown",
   "metadata": {},
   "source": [
    "Нам стоит вспомнить наше __общее количество пользователей, который совершили оплату__:"
   ]
  },
  {
   "cell_type": "code",
   "execution_count": 111,
   "metadata": {},
   "outputs": [
    {
     "data": {
      "text/plain": [
       "1974"
      ]
     },
     "execution_count": 111,
     "metadata": {},
     "output_type": "execute_result"
    }
   ],
   "source": [
    "len(purchase_users)"
   ]
  },
  {
   "cell_type": "markdown",
   "metadata": {},
   "source": [
    "Количество пользователей, которые __не начинали обучение, но купили платные тренировки__:"
   ]
  },
  {
   "cell_type": "code",
   "execution_count": 112,
   "metadata": {},
   "outputs": [
    {
     "data": {
      "text/plain": [
       "18"
      ]
     },
     "execution_count": 112,
     "metadata": {},
     "output_type": "execute_result"
    }
   ],
   "source": [
    "len(purchase_stage_users_without_tutorial_start['user_id'])"
   ]
  },
  {
   "cell_type": "markdown",
   "metadata": {},
   "source": [
    "Количество пользователей, которые __закончили обучение и купили платные тренировки__:"
   ]
  },
  {
   "cell_type": "code",
   "execution_count": 113,
   "metadata": {},
   "outputs": [
    {
     "data": {
      "text/plain": [
       "1781"
      ]
     },
     "execution_count": 113,
     "metadata": {},
     "output_type": "execute_result"
    }
   ],
   "source": [
    "len(purchase_stage_users_w_tutorial_finish['user_id'])"
   ]
  },
  {
   "cell_type": "markdown",
   "metadata": {},
   "source": [
    "Количество пользователей, которые __начали обучение, не закончили его, но купили платные тренировки__:"
   ]
  },
  {
   "cell_type": "code",
   "execution_count": 114,
   "metadata": {},
   "outputs": [
    {
     "data": {
      "text/plain": [
       "175"
      ]
     },
     "execution_count": 114,
     "metadata": {},
     "output_type": "execute_result"
    }
   ],
   "source": [
    "len(purchase_users) - len(purchase_stage_users_w_tutorial_finish['user_id']) - len(purchase_stage_users_without_tutorial_start['user_id'])"
   ]
  },
  {
   "cell_type": "code",
   "execution_count": 115,
   "metadata": {},
   "outputs": [
    {
     "name": "stdout",
     "output_type": "stream",
     "text": [
      "Процент пользователей, которые совершили оплату из тех, кто завершил обучение любое количество раз: 90.22%\n"
     ]
    }
   ],
   "source": [
    "rate_purchase = len(purchase_stage_users_w_tutorial_finish['user_id']) / len(purchase_users)\n",
    "print ('Процент пользователей, которые совершили оплату из тех, кто завершил обучение любое количество раз: {:.2%}'.format(rate_purchase))"
   ]
  },
  {
   "cell_type": "markdown",
   "metadata": {},
   "source": [
    "В качестве дополнительного анализа исследуем зависит ли размер оплаты (__amount__) от количества завершенных обучений (__tutorial_finish__)."
   ]
  },
  {
   "cell_type": "code",
   "execution_count": 116,
   "metadata": {},
   "outputs": [
    {
     "name": "stdout",
     "output_type": "stream",
     "text": [
      "Сумма приобретения платных тренировок теми, кто:\n",
      "\n",
      "\n",
      " - завершил обучение 1 раз: 148875 руб.\n",
      " - завершил обучение 2 раза: 25350 руб.\n",
      " - завершил обучение 3 раза: 7275 руб.\n",
      " - завершил обучение 4 раза: 3450 руб.\n",
      " - завершил обучение 5 раз: 2525 руб.\n",
      " - завершил обучение 6 раз: 2200 руб.\n",
      " - завершил обучение 7 раз: 1200 руб.\n",
      " - завершил обучение 8 раз: 1250 руб.\n",
      " - завершил обучение 9 раз: 350 руб.\n",
      "\n",
      "Всего: 192475 руб.\n"
     ]
    }
   ],
   "source": [
    "print('Сумма приобретения платных тренировок теми, кто:\\n\\n')\n",
    "print(' - завершил обучение 1 раз:', purchase_tutorial_finish_1['amount'].sum(), 'руб.')\n",
    "print(' - завершил обучение 2 раза:', purchase_tutorial_finish_2['amount'].sum(), 'руб.')\n",
    "print(' - завершил обучение 3 раза:', purchase_tutorial_finish_3['amount'].sum(), 'руб.')\n",
    "print(' - завершил обучение 4 раза:', purchase_tutorial_finish_4['amount'].sum(), 'руб.')\n",
    "print(' - завершил обучение 5 раз:', purchase_tutorial_finish_5['amount'].sum(), 'руб.')\n",
    "print(' - завершил обучение 6 раз:', purchase_tutorial_finish_6['amount'].sum(), 'руб.')\n",
    "print(' - завершил обучение 7 раз:', purchase_tutorial_finish_7['amount'].sum(), 'руб.')\n",
    "print(' - завершил обучение 8 раз:', purchase_tutorial_finish_8['amount'].sum(), 'руб.')\n",
    "print(' - завершил обучение 9 раз:', purchase_tutorial_finish_9['amount'].sum(), 'руб.')\n",
    "print()\n",
    "purchase_tutorial_finish_sum = purchase_tutorial_finish_1['amount'].sum()+purchase_tutorial_finish_2['amount'].sum()+purchase_tutorial_finish_3['amount'].sum()+purchase_tutorial_finish_4['amount'].sum()+purchase_tutorial_finish_5['amount'].sum()+purchase_tutorial_finish_6['amount'].sum()+purchase_tutorial_finish_7['amount'].sum()+purchase_tutorial_finish_8['amount'].sum()+purchase_tutorial_finish_9['amount'].sum()\n",
    "print('Всего:', purchase_tutorial_finish_sum, 'руб.')"
   ]
  },
  {
   "cell_type": "code",
   "execution_count": 117,
   "metadata": {},
   "outputs": [
    {
     "name": "stdout",
     "output_type": "stream",
     "text": [
      "Процент приобретения платных тренировок теми, кто:\n",
      "\n",
      "\n",
      " - завершил обучение 1 раз: 77.35%\n",
      " - завершил обучение 2 раза: 13.17%\n",
      " - завершил обучение 3 раза: 3.78%\n",
      " - завершил обучение 4 раза: 1.79%\n",
      " - завершил обучение 5 раз: 1.31%\n",
      " - завершил обучение 6 раз: 1.14%\n",
      " - завершил обучение 7 раз: 0.62%\n",
      " - завершил обучение 8 раз: 0.65%\n",
      " - завершил обучение 9 раз: 0.18%\n"
     ]
    }
   ],
   "source": [
    "purchase_tutorial_finish_1_percent = purchase_tutorial_finish_1['amount'].sum()/purchase_tutorial_finish_sum\n",
    "purchase_tutorial_finish_2_percent = purchase_tutorial_finish_2['amount'].sum()/purchase_tutorial_finish_sum\n",
    "purchase_tutorial_finish_3_percent = purchase_tutorial_finish_3['amount'].sum()/purchase_tutorial_finish_sum\n",
    "purchase_tutorial_finish_4_percent = purchase_tutorial_finish_4['amount'].sum()/purchase_tutorial_finish_sum\n",
    "purchase_tutorial_finish_5_percent = purchase_tutorial_finish_5['amount'].sum()/purchase_tutorial_finish_sum\n",
    "purchase_tutorial_finish_6_percent = purchase_tutorial_finish_6['amount'].sum()/purchase_tutorial_finish_sum\n",
    "purchase_tutorial_finish_7_percent = purchase_tutorial_finish_7['amount'].sum()/purchase_tutorial_finish_sum\n",
    "purchase_tutorial_finish_8_percent = purchase_tutorial_finish_8['amount'].sum()/purchase_tutorial_finish_sum\n",
    "purchase_tutorial_finish_9_percent = purchase_tutorial_finish_9['amount'].sum()/purchase_tutorial_finish_sum\n",
    "\n",
    "print('Процент приобретения платных тренировок теми, кто:\\n\\n')\n",
    "print(' - завершил обучение 1 раз: {:.2%}'.format(purchase_tutorial_finish_1_percent))\n",
    "print(' - завершил обучение 2 раза: {:.2%}'.format(purchase_tutorial_finish_2_percent))\n",
    "print(' - завершил обучение 3 раза: {:.2%}'.format(purchase_tutorial_finish_3_percent))\n",
    "print(' - завершил обучение 4 раза: {:.2%}'.format(purchase_tutorial_finish_4_percent))\n",
    "print(' - завершил обучение 5 раз: {:.2%}'.format(purchase_tutorial_finish_5_percent))\n",
    "print(' - завершил обучение 6 раз: {:.2%}'.format(purchase_tutorial_finish_6_percent))\n",
    "print(' - завершил обучение 7 раз: {:.2%}'.format(purchase_tutorial_finish_7_percent))\n",
    "print(' - завершил обучение 8 раз: {:.2%}'.format(purchase_tutorial_finish_8_percent))\n",
    "print(' - завершил обучение 9 раз: {:.2%}'.format(purchase_tutorial_finish_9_percent))"
   ]
  },
  {
   "cell_type": "code",
   "execution_count": 118,
   "metadata": {},
   "outputs": [
    {
     "name": "stdout",
     "output_type": "stream",
     "text": [
      "Процент дохода, которые приносят пользователи, завершившие обучение больше 2 раз в сравнении с доходом, который приносят пользователи закончившие обучение 1 раз: 29.29%\n"
     ]
    }
   ],
   "source": [
    "print('Процент дохода, которые приносят пользователи, завершившие обучение больше 2 раз в сравнении с доходом, который приносят пользователи закончившие обучение 1 раз: {:.2%}'.format((purchase_tutorial_finish_2['amount'].sum() + purchase_tutorial_finish_3['amount'].sum() + purchase_tutorial_finish_4['amount'].sum() + purchase_tutorial_finish_5['amount'].sum() + purchase_tutorial_finish_6['amount'].sum() + purchase_tutorial_finish_7['amount'].sum() + purchase_tutorial_finish_8['amount'].sum() + purchase_tutorial_finish_9['amount'].sum())/purchase_tutorial_finish_1['amount'].sum()))"
   ]
  },
  {
   "cell_type": "markdown",
   "metadata": {},
   "source": [
    "Для лучшей наглядности построим __круговую диаграмму__"
   ]
  },
  {
   "cell_type": "code",
   "execution_count": 119,
   "metadata": {},
   "outputs": [
    {
     "data": {
      "image/png": "[encoded data removed]",
      "text/plain": [
       "<Figure size 432x288 with 1 Axes>"
      ]
     },
     "metadata": {},
     "output_type": "display_data"
    }
   ],
   "source": [
    "labels = '1 обучение', '2 обучения', '3 обучения', '4 обучения', '5 обучений', '6 обучений', '7 обучений', '8 обучений', '9 обучений'\n",
    "\n",
    "sizes = [purchase_tutorial_finish_1_percent, purchase_tutorial_finish_2_percent, purchase_tutorial_finish_3_percent, purchase_tutorial_finish_4_percent, purchase_tutorial_finish_5_percent, purchase_tutorial_finish_6_percent, purchase_tutorial_finish_7_percent, purchase_tutorial_finish_8_percent, purchase_tutorial_finish_9_percent]\n",
    "explode = (0.1, 0, 0, 0, 0, 0, 0, 0, 0) \n",
    "\n",
    "patches, texts = plt.pie(sizes, explode=explode, shadow=True, startangle=90)\n",
    "plt.title('Соотношение оплат для групп пользователей в зависимости от количества законченных обучений')\n",
    "plt.legend(patches, labels, loc=\"best\")\n",
    "plt.axis('equal')\n",
    "# plt.tight_layout()\n",
    "plt.show()"
   ]
  },
  {
   "cell_type": "markdown",
   "metadata": {},
   "source": [
    "---\n",
    "\n",
    "<div class=\"alert alert-block alert-warning\">\n",
    "    \n",
    "\n",
    "### Комментарий\n",
    "Стоит отметить, что вы создали большое количество похожих датафреймов, что очень затрудняет чтение кода и поиск возможной ошибки (а также увеличивает вероятность ее совершить!). Пожалуй, стоит задуматься об оптимизации кода.\n",
    "В остальном анализ очень подробный, спасибо!\n",
    "\n",
    "</div>\n",
    "\n",
    "---"
   ]
  },
  {
   "cell_type": "markdown",
   "metadata": {},
   "source": [
    "<a id=\"Детали2\"></a>\n",
    "### О чём это всё говорит?\n",
    "\n",
    "#### 1. Успешное (завершенное) обучение влияет на оплату само по себе (вне зависимсти от их количества) и составляет 90.22% от общего количества оплат.\n",
    "\n",
    "#### 2. Проверив соотношение оплат в зависимости от количества завершенных обучений пользователем мы можем прийти к выводу, что вероятность покупки не увеличивается от того, что человек больше обучался. Процент оплат для разного количества обучений (в наших расчетах их 9) лежит в диапазоне от 12.7% до 18.52% что в среднем составляет 14.91%\n",
    "\n",
    "#### 3. Сумма оплат не зависит от количества законченнных обучений. Более того, пользователи, которые заканчивают обучение 1 раз совершают больше всего покупок. К тому же сумма дохода, которые приносят пользователи прошедшие обучение 2 и более раз составляет лишь 29.29% от суммы дохода, которые приносят пользователи прошедшие обучение 1 раз.\n",
    "\n",
    "___"
   ]
  },
  {
   "cell_type": "markdown",
   "metadata": {},
   "source": [
    "<a id=\"3\"></a>\n",
    "Мы подошли к анализу __третьей гипотезы__. Напомним в чем она заключается.<br><br>\n",
    "> **Как часто пользователи начинают обучение после того, как они выбрали уровень сложности тренировок? Это позволит нам понять, насколько процесс работы с приложением понятен для пользователей: если пользователи после выбора уровня сложности обращаются к обучению, значит, работа с приложением непонятна**\n",
    "___"
   ]
  },
  {
   "cell_type": "markdown",
   "metadata": {},
   "source": [
    "Для каждого пользователя создадим список, который будет содержать во временной последовательности все события, которые совершал этот пользователь, чтобы в последствии выделить события, когда пользователь после выбора уровня сложности (__level_choice__) возвращается к старту обучения (__tutorial_start__).      \n",
    "\n",
    "Для этого воспользуемся методом __groupby__ по столбцу __event_type__ в __total_events_df__ датафрейме и применим аргегирующую функцию __apply(list)__. Таким образом, мы сгруппируем строки по пользователю, а затем объединим в списки содержимое столбца __event_type__ по каждому пользователю. Запишем результат в датафрейм __user_path_df__."
   ]
  },
  {
   "cell_type": "code",
   "execution_count": 120,
   "metadata": {},
   "outputs": [
    {
     "data": {
      "text/html": [
       "<div>\n",
       "<style scoped>\n",
       "    .dataframe tbody tr th:only-of-type {\n",
       "        vertical-align: middle;\n",
       "    }\n",
       "\n",
       "    .dataframe tbody tr th {\n",
       "        vertical-align: top;\n",
       "    }\n",
       "\n",
       "    .dataframe thead th {\n",
       "        text-align: right;\n",
       "    }\n",
       "</style>\n",
       "<table border=\"1\" class=\"dataframe\">\n",
       "  <thead>\n",
       "    <tr style=\"text-align: right;\">\n",
       "      <th></th>\n",
       "      <th>user_id</th>\n",
       "      <th>event_type</th>\n",
       "    </tr>\n",
       "  </thead>\n",
       "  <tbody>\n",
       "    <tr>\n",
       "      <th>0</th>\n",
       "      <td>47758</td>\n",
       "      <td>[registration, tutorial_start]</td>\n",
       "    </tr>\n",
       "    <tr>\n",
       "      <th>1</th>\n",
       "      <td>47759</td>\n",
       "      <td>[registration, tutorial_start, tutorial_finish...</td>\n",
       "    </tr>\n",
       "    <tr>\n",
       "      <th>2</th>\n",
       "      <td>47760</td>\n",
       "      <td>[registration, tutorial_start, tutorial_finish...</td>\n",
       "    </tr>\n",
       "    <tr>\n",
       "      <th>3</th>\n",
       "      <td>47761</td>\n",
       "      <td>[registration, tutorial_start, tutorial_finish...</td>\n",
       "    </tr>\n",
       "    <tr>\n",
       "      <th>4</th>\n",
       "      <td>47762</td>\n",
       "      <td>[registration]</td>\n",
       "    </tr>\n",
       "    <tr>\n",
       "      <th>5</th>\n",
       "      <td>47763</td>\n",
       "      <td>[registration]</td>\n",
       "    </tr>\n",
       "    <tr>\n",
       "      <th>6</th>\n",
       "      <td>47764</td>\n",
       "      <td>[registration]</td>\n",
       "    </tr>\n",
       "    <tr>\n",
       "      <th>7</th>\n",
       "      <td>47765</td>\n",
       "      <td>[registration, tutorial_start]</td>\n",
       "    </tr>\n",
       "    <tr>\n",
       "      <th>8</th>\n",
       "      <td>47766</td>\n",
       "      <td>[registration, tutorial_start, tutorial_finish...</td>\n",
       "    </tr>\n",
       "    <tr>\n",
       "      <th>9</th>\n",
       "      <td>47767</td>\n",
       "      <td>[registration]</td>\n",
       "    </tr>\n",
       "  </tbody>\n",
       "</table>\n",
       "</div>"
      ],
      "text/plain": [
       "   user_id                                         event_type\n",
       "0    47758                     [registration, tutorial_start]\n",
       "1    47759  [registration, tutorial_start, tutorial_finish...\n",
       "2    47760  [registration, tutorial_start, tutorial_finish...\n",
       "3    47761  [registration, tutorial_start, tutorial_finish...\n",
       "4    47762                                     [registration]\n",
       "5    47763                                     [registration]\n",
       "6    47764                                     [registration]\n",
       "7    47765                     [registration, tutorial_start]\n",
       "8    47766  [registration, tutorial_start, tutorial_finish...\n",
       "9    47767                                     [registration]"
      ]
     },
     "execution_count": 120,
     "metadata": {},
     "output_type": "execute_result"
    }
   ],
   "source": [
    "user_path_df = total_events_df.groupby(['user_id'])['event_type'].apply(list).reset_index()\n",
    "user_path_df.head(10)"
   ]
  },
  {
   "cell_type": "markdown",
   "metadata": {},
   "source": [
    "Прежде чем мы сможем оценить популярные пути пользователей, преобразуем список событий в строку __event_path__. Эта операция нужна для оптимизации скорости объединения, так как иначе __pandas__ может делать подсчет слишком долго."
   ]
  },
  {
   "cell_type": "code",
   "execution_count": 121,
   "metadata": {},
   "outputs": [
    {
     "data": {
      "text/html": [
       "<div>\n",
       "<style scoped>\n",
       "    .dataframe tbody tr th:only-of-type {\n",
       "        vertical-align: middle;\n",
       "    }\n",
       "\n",
       "    .dataframe tbody tr th {\n",
       "        vertical-align: top;\n",
       "    }\n",
       "\n",
       "    .dataframe thead th {\n",
       "        text-align: right;\n",
       "    }\n",
       "</style>\n",
       "<table border=\"1\" class=\"dataframe\">\n",
       "  <thead>\n",
       "    <tr style=\"text-align: right;\">\n",
       "      <th></th>\n",
       "      <th>user_id</th>\n",
       "      <th>event_type</th>\n",
       "      <th>event_path</th>\n",
       "    </tr>\n",
       "  </thead>\n",
       "  <tbody>\n",
       "    <tr>\n",
       "      <th>0</th>\n",
       "      <td>47758</td>\n",
       "      <td>[registration, tutorial_start]</td>\n",
       "      <td>registration &gt; tutorial_start</td>\n",
       "    </tr>\n",
       "    <tr>\n",
       "      <th>1</th>\n",
       "      <td>47759</td>\n",
       "      <td>[registration, tutorial_start, tutorial_finish...</td>\n",
       "      <td>registration &gt; tutorial_start &gt; tutorial_finis...</td>\n",
       "    </tr>\n",
       "    <tr>\n",
       "      <th>2</th>\n",
       "      <td>47760</td>\n",
       "      <td>[registration, tutorial_start, tutorial_finish...</td>\n",
       "      <td>registration &gt; tutorial_start &gt; tutorial_finis...</td>\n",
       "    </tr>\n",
       "    <tr>\n",
       "      <th>3</th>\n",
       "      <td>47761</td>\n",
       "      <td>[registration, tutorial_start, tutorial_finish...</td>\n",
       "      <td>registration &gt; tutorial_start &gt; tutorial_finis...</td>\n",
       "    </tr>\n",
       "    <tr>\n",
       "      <th>4</th>\n",
       "      <td>47762</td>\n",
       "      <td>[registration]</td>\n",
       "      <td>registration</td>\n",
       "    </tr>\n",
       "  </tbody>\n",
       "</table>\n",
       "</div>"
      ],
      "text/plain": [
       "   user_id                                         event_type  \\\n",
       "0    47758                     [registration, tutorial_start]   \n",
       "1    47759  [registration, tutorial_start, tutorial_finish...   \n",
       "2    47760  [registration, tutorial_start, tutorial_finish...   \n",
       "3    47761  [registration, tutorial_start, tutorial_finish...   \n",
       "4    47762                                     [registration]   \n",
       "\n",
       "                                          event_path  \n",
       "0                      registration > tutorial_start  \n",
       "1  registration > tutorial_start > tutorial_finis...  \n",
       "2  registration > tutorial_start > tutorial_finis...  \n",
       "3  registration > tutorial_start > tutorial_finis...  \n",
       "4                                       registration  "
      ]
     },
     "execution_count": 121,
     "metadata": {},
     "output_type": "execute_result"
    }
   ],
   "source": [
    "user_path_df['event_path'] = user_path_df['event_type'].apply(lambda x: ' > '.join(x))\n",
    "user_path_df.head()"
   ]
  },
  {
   "cell_type": "code",
   "execution_count": 122,
   "metadata": {},
   "outputs": [
    {
     "data": {
      "text/plain": [
       "24460"
      ]
     },
     "execution_count": 122,
     "metadata": {},
     "output_type": "execute_result"
    }
   ],
   "source": [
    "user_path_df['user_id'].nunique()"
   ]
  },
  {
   "cell_type": "markdown",
   "metadata": {},
   "source": [
    "Теперь можно сгруппировать датафрейм по столбцу __event_path__, подсчитав число пользователей."
   ]
  },
  {
   "cell_type": "code",
   "execution_count": 123,
   "metadata": {},
   "outputs": [
    {
     "data": {
      "text/plain": [
       "event_path\n",
       "registration                                                                                                                                                                                                                                                                          9802\n",
       "registration > tutorial_start > tutorial_finish > level_choice > training_choice                                                                                                                                                                                                      3248\n",
       "registration > tutorial_start > tutorial_finish                                                                                                                                                                                                                                       2425\n",
       "registration > tutorial_start > tutorial_finish > level_choice                                                                                                                                                                                                                        2133\n",
       "registration > tutorial_start > tutorial_finish > level_choice > training_choice > purchase                                                                                                                                                                                           1295\n",
       "                                                                                                                                                                                                                                                                                      ... \n",
       "registration > tutorial_start > tutorial_finish > tutorial_start > tutorial_start > tutorial_finish > level_choice > tutorial_start > tutorial_finish > tutorial_start > tutorial_start > tutorial_finish > tutorial_finish > tutorial_start > tutorial_start                            1\n",
       "registration > tutorial_start > tutorial_finish > tutorial_start > tutorial_start > tutorial_finish > level_choice > tutorial_start > tutorial_finish > tutorial_start > tutorial_start > tutorial_finish                                                                                1\n",
       "registration > tutorial_start > tutorial_finish > tutorial_start > tutorial_start > tutorial_finish > level_choice > tutorial_start > tutorial_finish > tutorial_start > tutorial_finish > tutorial_start > tutorial_finish > tutorial_start > tutorial_finish > tutorial_start          1\n",
       "registration > tutorial_start > tutorial_finish > tutorial_start > tutorial_start > tutorial_finish > level_choice > tutorial_start > tutorial_finish > tutorial_start > tutorial_finish > tutorial_start > tutorial_finish                                                              1\n",
       "registration > tutorial_start > tutorial_finish > tutorial_start > tutorial_finish > tutorial_start > tutorial_finish > tutorial_start > tutorial_finish > tutorial_start > tutorial_finish > tutorial_start > tutorial_finish > tutorial_start > tutorial_start > tutorial_finish       1\n",
       "Name: user_id, Length: 752, dtype: int64"
      ]
     },
     "execution_count": 123,
     "metadata": {},
     "output_type": "execute_result"
    }
   ],
   "source": [
    "user_paths = user_path_df.groupby(['event_path'])['user_id'].nunique().sort_values(ascending=False)\n",
    "user_paths"
   ]
  },
  {
   "cell_type": "markdown",
   "metadata": {},
   "source": [
    "Выделим те пути, которые содержат __level_choice > tutorial_start__, это позволит нам понять количество пользователей, которые _возвращаются к обучению после вібора уровня сложности_."
   ]
  },
  {
   "cell_type": "code",
   "execution_count": 124,
   "metadata": {},
   "outputs": [
    {
     "data": {
      "text/plain": [
       "event_path\n",
       "registration > tutorial_start > tutorial_finish > level_choice > tutorial_start > tutorial_finish                                                                                                                                                                                                                                       233\n",
       "registration > tutorial_start > tutorial_finish > level_choice > tutorial_start                                                                                                                                                                                                                                                          44\n",
       "registration > tutorial_start > tutorial_finish > level_choice > tutorial_start > tutorial_finish > tutorial_start > tutorial_finish                                                                                                                                                                                                     24\n",
       "registration > tutorial_start > tutorial_finish > tutorial_start > tutorial_finish > level_choice > tutorial_start > tutorial_finish                                                                                                                                                                                                     22\n",
       "registration > tutorial_start > tutorial_finish > level_choice > tutorial_start > tutorial_finish > tutorial_start > tutorial_finish > tutorial_start > tutorial_finish                                                                                                                                                                   9\n",
       "                                                                                                                                                                                                                                                                                                                                       ... \n",
       "registration > tutorial_start > tutorial_finish > tutorial_start > tutorial_start > tutorial_finish > level_choice > tutorial_start > tutorial_start > tutorial_finish > tutorial_finish > tutorial_start > tutorial_finish > tutorial_start > tutorial_finish > tutorial_start > tutorial_finish > tutorial_start > tutorial_finish      1\n",
       "registration > tutorial_start > tutorial_finish > tutorial_start > tutorial_start > tutorial_finish > level_choice > tutorial_start > tutorial_finish > tutorial_start > tutorial_start > tutorial_finish > tutorial_finish > tutorial_start > tutorial_start                                                                             1\n",
       "registration > tutorial_start > tutorial_finish > tutorial_start > tutorial_start > tutorial_finish > level_choice > tutorial_start > tutorial_finish > tutorial_start > tutorial_start > tutorial_finish                                                                                                                                 1\n",
       "registration > tutorial_start > tutorial_finish > tutorial_start > tutorial_start > tutorial_finish > level_choice > tutorial_start > tutorial_finish > tutorial_start > tutorial_finish > tutorial_start > tutorial_finish > tutorial_start > tutorial_finish > tutorial_start                                                           1\n",
       "registration > tutorial_start > tutorial_finish > tutorial_start > tutorial_start > tutorial_finish > level_choice > tutorial_start > tutorial_finish > tutorial_start > tutorial_finish > tutorial_start > tutorial_finish                                                                                                               1\n",
       "Name: user_id, Length: 190, dtype: int64"
      ]
     },
     "execution_count": 124,
     "metadata": {},
     "output_type": "execute_result"
    }
   ],
   "source": [
    "user_paths[user_paths.index.str.contains('level_choice > tutorial_start')]"
   ]
  },
  {
   "cell_type": "code",
   "execution_count": 125,
   "metadata": {},
   "outputs": [
    {
     "data": {
      "text/plain": [
       "190"
      ]
     },
     "execution_count": 125,
     "metadata": {},
     "output_type": "execute_result"
    }
   ],
   "source": [
    "level_choice_to_tutorial_start_count = user_paths[user_paths.index.str.contains('level_choice > tutorial_start')]\n",
    "len(level_choice_to_tutorial_start_count)"
   ]
  },
  {
   "cell_type": "code",
   "execution_count": 126,
   "metadata": {},
   "outputs": [
    {
     "data": {
      "text/plain": [
       "752"
      ]
     },
     "execution_count": 126,
     "metadata": {},
     "output_type": "execute_result"
    }
   ],
   "source": [
    "len(user_paths)"
   ]
  },
  {
   "cell_type": "code",
   "execution_count": 127,
   "metadata": {},
   "outputs": [
    {
     "data": {
      "text/plain": [
       "24460"
      ]
     },
     "execution_count": 127,
     "metadata": {},
     "output_type": "execute_result"
    }
   ],
   "source": [
    "user_paths.sum()"
   ]
  },
  {
   "cell_type": "markdown",
   "metadata": {},
   "source": [
    "Мы видим, у нас имеется __752 уникальных путей__, которые пользователи проходят в работе с приложением, из них __190 путей__ пользователей содержат в себе информацию о _возврате к обучению после выбора уровня сложности_. Это нам пока говорит о малом, ведь нас интересует процент пользователей (от общего числа зарегистрированных: __24460__), которые возвращаются."
   ]
  },
  {
   "cell_type": "code",
   "execution_count": 128,
   "metadata": {},
   "outputs": [
    {
     "name": "stdout",
     "output_type": "stream",
     "text": [
      "Количество пользователей, которые возвращаются к этапу обучения после выбора уровня сложности: 601\n",
      "Их процент от общего числа зарегистрированных: 2.46%\n"
     ]
    }
   ],
   "source": [
    "user_count_return_to_tutorial_start = level_choice_to_tutorial_start_count.sum()\n",
    "print('Количество пользователей, которые возвращаются к этапу обучения после выбора уровня сложности:', user_count_return_to_tutorial_start)\n",
    "print ('Их процент от общего числа зарегистрированных: {:.2%}'.format(user_count_return_to_tutorial_start/user_paths.sum()))"
   ]
  },
  {
   "cell_type": "markdown",
   "metadata": {},
   "source": [
    "Как мы видим, всего лишь __2.46%__ пользователей возвращаются к обучению после выбора уровня сложности тренировки. На основании этого можно сделать вывод:\n",
    " - процесс работы с приложением понятен для большинтва пользователей.\n",
    " \n",
    "_Если бы этот процент бы большой (допустим 25% и более), то мы могли бы уже допустить, что процесс тренировок устроен не понятно, и возможно стоит улучшить User Interface, чтобы он был более понятен пользователю или даже сделать обучение обязательным этапом для всех._"
   ]
  },
  {
   "cell_type": "markdown",
   "metadata": {},
   "source": [
    "---\n",
    "\n",
    "<div class=\"alert alert-block alert-warning\">\n",
    "    \n",
    "\n",
    "### Комментарий\n",
    "Здорово, что удалось добраться до дополнительного задания!\n",
    "\n",
    "</div>\n",
    "\n",
    "---"
   ]
  },
  {
   "cell_type": "markdown",
   "metadata": {},
   "source": [
    "## Итоги анализа по трём гипотезам:"
   ]
  },
  {
   "cell_type": "markdown",
   "metadata": {},
   "source": [
    "#### 1. Среднее время прохождение этапов \"level_choice ---> training_choice\" и \"training_choice ---> purchase\" отличается для тех, кто прошли обучение, оно меньше в сравнении с теми, кто обучение не проходил. Те, кто проходит обучение в итоге проходят этап \"level_choice ---> training_choice\" на 23 секунды быстрее, а этап \"training_choice ---> purchase\"  на 6 часов 8 минут и 9 секунд быстрее.  [Детали](#Детали1)\n",
    "\n",
    "\n",
    "\n",
    "#### 2. Успешное (завершенное) обучение влияет на оплату само по себе. Вероятность покупки не увеличивается от того, что человек больше обучался. Сумма оплат не зависит от большего количества законченнных обучений. [Детали](#Детали2)\n",
    "\n",
    "#### 3. Процесс работы с приложением понятен для большинтва пользователей поскольку лишь __2.46%__ пользователей возвращаются к обучению после выбора уровня сложности тренировки."
   ]
  },
  {
   "cell_type": "markdown",
   "metadata": {},
   "source": [
    "---\n",
    "\n",
    "<div class=\"alert alert-block alert-warning\">\n",
    "    \n",
    "\n",
    "### Комментарий\n",
    "Спасибо за отлично проделанную работу!\n",
    "Здорово, что в конце тетрадки еще раз приведены полученные выводы. Было бы также интересно дать конкретные рекомендации руководству компании. Хочется отметить хорошую структурированность исследования, отличные навыки визуализации, вдумчивость и внимательность при выполнении проекта.\n",
    "\n",
    "Удачи в дальнейшем обучении!\n",
    "\n",
    "</div>\n",
    "\n",
    "---"
   ]
  },
  {
   "cell_type": "code",
   "execution_count": null,
   "metadata": {},
   "outputs": [],
   "source": []
  }
 ],
 "metadata": {
  "kernelspec": {
   "display_name": "Python 3",
   "language": "python",
   "name": "python3"
  },
  "language_info": {
   "codemirror_mode": {
    "name": "ipython",
    "version": 3
   },
   "file_extension": ".py",
   "mimetype": "text/x-python",
   "name": "python",
   "nbconvert_exporter": "python",
   "pygments_lexer": "ipython3",
   "version": "3.7.6"
  }
 },
 "nbformat": 4,
 "nbformat_minor": 4
}
